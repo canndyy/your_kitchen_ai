{
 "cells": [
  {
   "cell_type": "code",
   "execution_count": 3,
   "id": "5f455405",
   "metadata": {},
   "outputs": [],
   "source": [
    "from roboflow import Roboflow"
   ]
  },
  {
   "cell_type": "code",
   "execution_count": 9,
   "id": "0bb667b5",
   "metadata": {},
   "outputs": [
    {
     "name": "stdout",
     "output_type": "stream",
     "text": [
      "loading Roboflow workspace...\n",
      "loading Roboflow project...\n"
     ]
    },
    {
     "data": {
      "text/plain": [
       "{'predictions': [{'x': 673.0,\n",
       "   'y': 1847.5,\n",
       "   'width': 250.0,\n",
       "   'height': 183.0,\n",
       "   'confidence': 0.9049413800239563,\n",
       "   'class': 'potato',\n",
       "   'image_path': 'test_1.jpg',\n",
       "   'prediction_type': 'ObjectDetectionModel'},\n",
       "  {'x': 619.5,\n",
       "   'y': 868.5,\n",
       "   'width': 191.0,\n",
       "   'height': 263.0,\n",
       "   'confidence': 0.8956500291824341,\n",
       "   'class': 'sugar',\n",
       "   'image_path': 'test_1.jpg',\n",
       "   'prediction_type': 'ObjectDetectionModel'},\n",
       "  {'x': 635.5,\n",
       "   'y': 1281.0,\n",
       "   'width': 219.0,\n",
       "   'height': 134.0,\n",
       "   'confidence': 0.8827596306800842,\n",
       "   'class': 'tomato',\n",
       "   'image_path': 'test_1.jpg',\n",
       "   'prediction_type': 'ObjectDetectionModel'},\n",
       "  {'x': 1000.0,\n",
       "   'y': 1903.0,\n",
       "   'width': 266.0,\n",
       "   'height': 170.0,\n",
       "   'confidence': 0.8669441938400269,\n",
       "   'class': 'chicken_breast',\n",
       "   'image_path': 'test_1.jpg',\n",
       "   'prediction_type': 'ObjectDetectionModel'},\n",
       "  {'x': 838.0,\n",
       "   'y': 449.0,\n",
       "   'width': 128.0,\n",
       "   'height': 120.0,\n",
       "   'confidence': 0.865829348564148,\n",
       "   'class': 'corn',\n",
       "   'image_path': 'test_1.jpg',\n",
       "   'prediction_type': 'ObjectDetectionModel'},\n",
       "  {'x': 1087.0,\n",
       "   'y': 840.5,\n",
       "   'width': 174.0,\n",
       "   'height': 321.0,\n",
       "   'confidence': 0.8656119704246521,\n",
       "   'class': 'milk',\n",
       "   'image_path': 'test_1.jpg',\n",
       "   'prediction_type': 'ObjectDetectionModel'},\n",
       "  {'x': 834.5,\n",
       "   'y': 961.5,\n",
       "   'width': 231.0,\n",
       "   'height': 113.0,\n",
       "   'confidence': 0.8618287444114685,\n",
       "   'class': 'bread',\n",
       "   'image_path': 'test_1.jpg',\n",
       "   'prediction_type': 'ObjectDetectionModel'},\n",
       "  {'x': 581.5,\n",
       "   'y': 440.5,\n",
       "   'width': 291.0,\n",
       "   'height': 157.0,\n",
       "   'confidence': 0.860822856426239,\n",
       "   'class': 'green_beans',\n",
       "   'image_path': 'test_1.jpg',\n",
       "   'prediction_type': 'ObjectDetectionModel'},\n",
       "  {'x': 1005.5,\n",
       "   'y': 458.0,\n",
       "   'width': 165.0,\n",
       "   'height': 88.0,\n",
       "   'confidence': 0.8293159008026123,\n",
       "   'class': 'eggs',\n",
       "   'image_path': 'test_1.jpg',\n",
       "   'prediction_type': 'ObjectDetectionModel'}],\n",
       " 'image': {'width': '1424', 'height': '2144'}}"
      ]
     },
     "execution_count": 9,
     "metadata": {},
     "output_type": "execute_result"
    }
   ],
   "source": [
    "rf = Roboflow(api_key=\"NtkfWbxTWAo8v7mzTFxm\")\n",
    "project = rf.workspace().project(\"aicook-lcv4d\")\n",
    "model = project.version(3).model\n",
    "\n",
    "# infer on a local image\n",
    "model.predict(\"test_1.jpg\", confidence=50, overlap=50).json()\n"
   ]
  },
  {
   "cell_type": "code",
   "execution_count": null,
   "id": "91bece34",
   "metadata": {},
   "outputs": [],
   "source": []
  }
 ],
 "metadata": {
  "kernelspec": {
   "display_name": "Python 3 (ipykernel)",
   "language": "python",
   "name": "python3"
  },
  "language_info": {
   "codemirror_mode": {
    "name": "ipython",
    "version": 3
   },
   "file_extension": ".py",
   "mimetype": "text/x-python",
   "name": "python",
   "nbconvert_exporter": "python",
   "pygments_lexer": "ipython3",
   "version": "3.10.6"
  },
  "toc": {
   "base_numbering": 1,
   "nav_menu": {},
   "number_sections": true,
   "sideBar": true,
   "skip_h1_title": false,
   "title_cell": "Table of Contents",
   "title_sidebar": "Contents",
   "toc_cell": false,
   "toc_position": {},
   "toc_section_display": true,
   "toc_window_display": false
  }
 },
 "nbformat": 4,
 "nbformat_minor": 5
}
