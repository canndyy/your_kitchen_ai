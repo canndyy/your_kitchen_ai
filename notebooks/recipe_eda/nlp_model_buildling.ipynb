{
 "cells": [
  {
   "cell_type": "markdown",
   "id": "ab2e4b2e",
   "metadata": {},
   "source": [
    "# Buidling NLP Models "
   ]
  },
  {
   "cell_type": "code",
   "execution_count": 1,
   "id": "72e884cb",
   "metadata": {},
   "outputs": [],
   "source": [
    "import pandas as pd\n",
    "import numpy as np\n",
    "import gensim.downloader\n",
    "import re\n",
    "from gensim.models import word2vec, phrases\n",
    "from gensim.parsing.preprocessing import remove_stopwords, strip_punctuation, strip_numeric,\\\n",
    "                    strip_non_alphanum, strip_multiple_whitespaces, strip_short\n",
    "from textblob import TextBlob, Word\n",
    "import collections\n",
    "from numpy import dot\n",
    "from numpy.linalg import norm\n",
    "from gensim.test.utils import common_texts\n",
    "from gensim.models.doc2vec import Doc2Vec, TaggedDocument\n",
    "import requests\n",
    "from PIL import Image\n",
    "from io import BytesIO\n",
    "from urllib.request import urlopen\n",
    "import matplotlib.pyplot as plt\n",
    "import matplotlib.image as mpimg"
   ]
  },
  {
   "cell_type": "code",
   "execution_count": 2,
   "id": "dd631207",
   "metadata": {},
   "outputs": [],
   "source": [
    "pd.set_option('display.max_rows', None)\n",
    "pd.set_option('display.max_colwidth', None)\n",
    "pd.set_option('display.max_columns', None)"
   ]
  },
  {
   "cell_type": "markdown",
   "id": "951cc553",
   "metadata": {
    "heading_collapsed": true
   },
   "source": [
    "## Load cleaned DF as pickle file"
   ]
  },
  {
   "cell_type": "code",
   "execution_count": 4,
   "id": "443f13a9",
   "metadata": {
    "hidden": true
   },
   "outputs": [],
   "source": [
    "df = pd.read_pickle(\"../../docker_data/r_cleaned_recipes.pkl\")\n",
    "# # df.head(1)"
   ]
  },
  {
   "cell_type": "code",
   "execution_count": 5,
   "id": "ca42ea76",
   "metadata": {
    "hidden": true
   },
   "outputs": [
    {
     "data": {
      "text/plain": [
       "'olive oil'"
      ]
     },
     "execution_count": 5,
     "metadata": {},
     "output_type": "execute_result"
    }
   ],
   "source": [
    "#----Checking that list formats are preserved\n",
    "df['ingredients'].iloc[217559][0]"
   ]
  },
  {
   "cell_type": "markdown",
   "id": "d1b76d53",
   "metadata": {
    "hidden": true
   },
   "source": [
    "### \"Clean\" ingredients to remove common ingredients"
   ]
  },
  {
   "cell_type": "code",
   "execution_count": 8,
   "id": "2e67f6bc",
   "metadata": {
    "hidden": true
   },
   "outputs": [],
   "source": [
    "#----function to clean words in ingredients\n",
    "\n",
    "def clean_words(list_of_words):\n",
    "    \n",
    "    output_list = []\n",
    "    for word in list_of_words:\n",
    "        \n",
    "        ing = word.lower()\n",
    "        if word == 'pepper':\n",
    "            ing = word.replace('pepper', \"\")\n",
    "        else:\n",
    "            ing = word\n",
    "            \n",
    "        ing = remove_stopwords(ing)\n",
    "        ing = strip_numeric(ing)\n",
    "        \n",
    "        ing = re.sub(r'\\(.*oz.\\)|(®)|(.*ed)|(.*ly)|boneless|skinless|\\\n",
    "                    chunks|fresh|large|cook drain|frozen|ground|\\\n",
    "                    |salt|sea salt|sugar|onion|ginger|water|olive oil|oil|flour|\\\n",
    "                    |cloves|clove|all-purpose flour|brown sugar|baking powder|\\\n",
    "                    |baking soda|vanilla|cinnamon|vanilla extract|black pepper|white pepper|\\\n",
    "                    |unsalted butter|butter|salted butter|sour cream| powder|granulated|\\\n",
    "                    |extra virgin|fresh ground black pepper|heavy cream|powdered|\\\n",
    "                    |ground|grounded|ketchup|whole wheat|water|boiling water|warm water|vinegar','',ing).strip(\" \")\n",
    "        \n",
    "        ing = strip_short(ing,2)\n",
    "        ing = strip_multiple_whitespaces(ing)\n",
    "        ing = strip_punctuation(ing)\n",
    "        ing = strip_non_alphanum(ing)\n",
    "        if word != 'asparagus':\n",
    "            ing = (\" \".join(TextBlob(ing).words.singularize()))\n",
    "        output_list.append(ing)\n",
    "    \n",
    "    for item in output_list:\n",
    "        if item == '':\n",
    "            output_list.remove(item)\n",
    "    \n",
    "    return output_list\n"
   ]
  },
  {
   "cell_type": "code",
   "execution_count": 38,
   "id": "433da4ae",
   "metadata": {
    "hidden": true
   },
   "outputs": [
    {
     "data": {
      "text/html": [
       "<div>\n",
       "<style scoped>\n",
       "    .dataframe tbody tr th:only-of-type {\n",
       "        vertical-align: middle;\n",
       "    }\n",
       "\n",
       "    .dataframe tbody tr th {\n",
       "        vertical-align: top;\n",
       "    }\n",
       "\n",
       "    .dataframe thead th {\n",
       "        text-align: right;\n",
       "    }\n",
       "</style>\n",
       "<table border=\"1\" class=\"dataframe\">\n",
       "  <thead>\n",
       "    <tr style=\"text-align: right;\">\n",
       "      <th></th>\n",
       "      <th>Name</th>\n",
       "      <th>RecipeCategory</th>\n",
       "      <th>Calories</th>\n",
       "      <th>images</th>\n",
       "      <th>cook_time</th>\n",
       "      <th>prep_time</th>\n",
       "      <th>total_time</th>\n",
       "      <th>recipe_servings</th>\n",
       "      <th>tags</th>\n",
       "      <th>instructions</th>\n",
       "      <th>ingredient_quantities</th>\n",
       "      <th>ingredients</th>\n",
       "      <th>ingredients_cleaned</th>\n",
       "      <th>ingred_and_tags</th>\n",
       "    </tr>\n",
       "  </thead>\n",
       "  <tbody>\n",
       "    <tr>\n",
       "      <th>0</th>\n",
       "      <td>Low-Fat Berry Blue Frozen Dessert</td>\n",
       "      <td>Frozen Desserts</td>\n",
       "      <td>170.9</td>\n",
       "      <td>[https://img.sndimg.com/food/image/upload/w_555,h_416,c_fit,fl_progressive,q_95/v1/img/recipes/38/yueirxmlqaee1h3v3qnm_229%20berry%20blue%20frzn%20dess.jpg, https://img.sndimg.com/food/image/upload/w_555,h_416,c_fit,fl_progressive,q_95/v1/img/recipes/38/afpddhatwzq0b1cdpdat_255%20berry%20blue%20frzn%20dess.jpg, https://img.sndimg.com/food/image/upload/w_555,h_416,c_fit,fl_progressive,q_95/v1/img/recipes/38/uygf9nwmt2sggjcuzilo_228%20berry%20blue%20frzn%20dess.jpg, https://img.sndimg.com/food/image/upload/w_555,h_416,c_fit,fl_progressive,q_95/v1/img/recipes/38/pebmjn2tgsayks2759ba_20140722_202142.jpg, https://img.sndimg.com/food/image/upload/w_555,h_416,c_fit,fl_progressive,q_95/v1/img/recipes/38/picuaeten.jpg, https://img.sndimg.com/food/image/upload/w_555,h_416,c_fit,fl_progressive,q_95/v1/img/recipes/38/pictzvxw5.jpg]</td>\n",
       "      <td>24 Hour(s)</td>\n",
       "      <td>45 Minute(s)</td>\n",
       "      <td>24 Hour(s) 45 Minute(s)</td>\n",
       "      <td>4</td>\n",
       "      <td>[dessert, low protein, low cholesterol, healthy, free of..., summer, weeknight, freezer, easy]</td>\n",
       "      <td>[Toss 2 cups berries with sugar., Let stand for 45 minutes., Stirring occasionally., Transfer berry-sugar mixture to food processor., Add yogurt and process until smooth., Strain through fine sieve. pour into baking pan (or transfer to ice cream maker and process according to manufacturers' directions). freeze uncovered until edges are solid but centre is soft.  transfer to processor and blend until smooth again., Return to pan and freeze until edges are solid., Transfer to processor and blend until smooth again., Fold in remaining 2 cups of blueberries., Pour into plastic mold and freeze overnight. let soften slightly to serve.]</td>\n",
       "      <td>[4, 1/4, 1, 1]</td>\n",
       "      <td>[blueberries, granulated sugar, vanilla yogurt, lemon juice]</td>\n",
       "      <td>[blueberry, yogurt, lemon juice]</td>\n",
       "      <td>[blueberry, yogurt, lemon juice, dessert, low protein, low cholesterol, healthy, free of..., summer, weeknight, freezer, easy]</td>\n",
       "    </tr>\n",
       "  </tbody>\n",
       "</table>\n",
       "</div>"
      ],
      "text/plain": [
       "                                Name   RecipeCategory  Calories  \\\n",
       "0  Low-Fat Berry Blue Frozen Dessert  Frozen Desserts     170.9   \n",
       "\n",
       "                                                                                                                                                                                                                                                                                                                                                                                                                                                                                                                                                                                                                                                                                                                                                                                                                                                            images  \\\n",
       "0  [https://img.sndimg.com/food/image/upload/w_555,h_416,c_fit,fl_progressive,q_95/v1/img/recipes/38/yueirxmlqaee1h3v3qnm_229%20berry%20blue%20frzn%20dess.jpg, https://img.sndimg.com/food/image/upload/w_555,h_416,c_fit,fl_progressive,q_95/v1/img/recipes/38/afpddhatwzq0b1cdpdat_255%20berry%20blue%20frzn%20dess.jpg, https://img.sndimg.com/food/image/upload/w_555,h_416,c_fit,fl_progressive,q_95/v1/img/recipes/38/uygf9nwmt2sggjcuzilo_228%20berry%20blue%20frzn%20dess.jpg, https://img.sndimg.com/food/image/upload/w_555,h_416,c_fit,fl_progressive,q_95/v1/img/recipes/38/pebmjn2tgsayks2759ba_20140722_202142.jpg, https://img.sndimg.com/food/image/upload/w_555,h_416,c_fit,fl_progressive,q_95/v1/img/recipes/38/picuaeten.jpg, https://img.sndimg.com/food/image/upload/w_555,h_416,c_fit,fl_progressive,q_95/v1/img/recipes/38/pictzvxw5.jpg]   \n",
       "\n",
       "     cook_time      prep_time                total_time recipe_servings  \\\n",
       "0  24 Hour(s)   45 Minute(s)   24 Hour(s) 45 Minute(s)                4   \n",
       "\n",
       "                                                                                             tags  \\\n",
       "0  [dessert, low protein, low cholesterol, healthy, free of..., summer, weeknight, freezer, easy]   \n",
       "\n",
       "                                                                                                                                                                                                                                                                                                                                                                                                                                                                                                                                                                                                                                                    instructions  \\\n",
       "0  [Toss 2 cups berries with sugar., Let stand for 45 minutes., Stirring occasionally., Transfer berry-sugar mixture to food processor., Add yogurt and process until smooth., Strain through fine sieve. pour into baking pan (or transfer to ice cream maker and process according to manufacturers' directions). freeze uncovered until edges are solid but centre is soft.  transfer to processor and blend until smooth again., Return to pan and freeze until edges are solid., Transfer to processor and blend until smooth again., Fold in remaining 2 cups of blueberries., Pour into plastic mold and freeze overnight. let soften slightly to serve.]   \n",
       "\n",
       "  ingredient_quantities  \\\n",
       "0        [4, 1/4, 1, 1]   \n",
       "\n",
       "                                                    ingredients  \\\n",
       "0  [blueberries, granulated sugar, vanilla yogurt, lemon juice]   \n",
       "\n",
       "                ingredients_cleaned  \\\n",
       "0  [blueberry, yogurt, lemon juice]   \n",
       "\n",
       "                                                                                                                  ingred_and_tags  \n",
       "0  [blueberry, yogurt, lemon juice, dessert, low protein, low cholesterol, healthy, free of..., summer, weeknight, freezer, easy]  "
      ]
     },
     "execution_count": 38,
     "metadata": {},
     "output_type": "execute_result"
    }
   ],
   "source": [
    "df.head(1)"
   ]
  },
  {
   "cell_type": "code",
   "execution_count": 9,
   "id": "f64732bb",
   "metadata": {
    "hidden": true
   },
   "outputs": [],
   "source": [
    "#-----Apply clean function and create ingredients_cleaned column\n",
    "df['ingredients_cleaned'] = df['ingredients'].apply(clean_words).apply(clean_words)"
   ]
  },
  {
   "cell_type": "code",
   "execution_count": 46,
   "id": "ded83bfd",
   "metadata": {
    "hidden": true
   },
   "outputs": [],
   "source": [
    "#Turning Name and RecipeCategory to list\n",
    "def string_to_list(string):\n",
    "    s = [word.strip() for word in string.split(\" \")]\n",
    "    return s\n",
    "        \n",
    "df[\"name\"] = df[\"Name\"].apply(string_to_list)\n",
    "df['recipe_cat'] = df[\"RecipeCategory\"].apply(string_to_list)"
   ]
  },
  {
   "cell_type": "code",
   "execution_count": 75,
   "id": "ef892f83",
   "metadata": {
    "hidden": true
   },
   "outputs": [],
   "source": [
    "#----Combine tags and ingredients for nlp training\n",
    "df['ingred_and_tags'] = df['ingredients_cleaned'] + df['tags']\n",
    "\n",
    "#----combine tags, ingred, name and cat for nlp training\n",
    "df[\"name_cat_ingred_tag\"] = df['name'] + df['recipe_cat']+ df['ingredients_cleaned'] + df['tags']\n",
    "\n",
    "#----combine tags, ingred and cat for nlp training\n",
    "df['cat_ingred_tag'] = df['recipe_cat']+ df['ingredients_cleaned'] + df['tags']"
   ]
  },
  {
   "cell_type": "code",
   "execution_count": 76,
   "id": "e869261e",
   "metadata": {
    "hidden": true
   },
   "outputs": [
    {
     "data": {
      "text/html": [
       "<div>\n",
       "<style scoped>\n",
       "    .dataframe tbody tr th:only-of-type {\n",
       "        vertical-align: middle;\n",
       "    }\n",
       "\n",
       "    .dataframe tbody tr th {\n",
       "        vertical-align: top;\n",
       "    }\n",
       "\n",
       "    .dataframe thead th {\n",
       "        text-align: right;\n",
       "    }\n",
       "</style>\n",
       "<table border=\"1\" class=\"dataframe\">\n",
       "  <thead>\n",
       "    <tr style=\"text-align: right;\">\n",
       "      <th></th>\n",
       "      <th>Name</th>\n",
       "      <th>RecipeCategory</th>\n",
       "      <th>Calories</th>\n",
       "      <th>images</th>\n",
       "      <th>cook_time</th>\n",
       "      <th>prep_time</th>\n",
       "      <th>total_time</th>\n",
       "      <th>recipe_servings</th>\n",
       "      <th>tags</th>\n",
       "      <th>instructions</th>\n",
       "      <th>ingredient_quantities</th>\n",
       "      <th>ingredients</th>\n",
       "      <th>ingredients_cleaned</th>\n",
       "      <th>ingred_and_tags</th>\n",
       "      <th>name</th>\n",
       "      <th>recipe_cat</th>\n",
       "      <th>name_cat_ingred_tag</th>\n",
       "      <th>cat_ingred_tag</th>\n",
       "    </tr>\n",
       "  </thead>\n",
       "  <tbody>\n",
       "    <tr>\n",
       "      <th>0</th>\n",
       "      <td>Low-Fat Berry Blue Frozen Dessert</td>\n",
       "      <td>Frozen Desserts</td>\n",
       "      <td>170.9</td>\n",
       "      <td>[https://img.sndimg.com/food/image/upload/w_555,h_416,c_fit,fl_progressive,q_95/v1/img/recipes/38/yueirxmlqaee1h3v3qnm_229%20berry%20blue%20frzn%20dess.jpg, https://img.sndimg.com/food/image/upload/w_555,h_416,c_fit,fl_progressive,q_95/v1/img/recipes/38/afpddhatwzq0b1cdpdat_255%20berry%20blue%20frzn%20dess.jpg, https://img.sndimg.com/food/image/upload/w_555,h_416,c_fit,fl_progressive,q_95/v1/img/recipes/38/uygf9nwmt2sggjcuzilo_228%20berry%20blue%20frzn%20dess.jpg, https://img.sndimg.com/food/image/upload/w_555,h_416,c_fit,fl_progressive,q_95/v1/img/recipes/38/pebmjn2tgsayks2759ba_20140722_202142.jpg, https://img.sndimg.com/food/image/upload/w_555,h_416,c_fit,fl_progressive,q_95/v1/img/recipes/38/picuaeten.jpg, https://img.sndimg.com/food/image/upload/w_555,h_416,c_fit,fl_progressive,q_95/v1/img/recipes/38/pictzvxw5.jpg]</td>\n",
       "      <td>24 Hour(s)</td>\n",
       "      <td>45 Minute(s)</td>\n",
       "      <td>24 Hour(s) 45 Minute(s)</td>\n",
       "      <td>4</td>\n",
       "      <td>[dessert, low protein, low cholesterol, healthy, free of..., summer, weeknight, freezer, easy]</td>\n",
       "      <td>[Toss 2 cups berries with sugar., Let stand for 45 minutes., Stirring occasionally., Transfer berry-sugar mixture to food processor., Add yogurt and process until smooth., Strain through fine sieve. pour into baking pan (or transfer to ice cream maker and process according to manufacturers' directions). freeze uncovered until edges are solid but centre is soft.  transfer to processor and blend until smooth again., Return to pan and freeze until edges are solid., Transfer to processor and blend until smooth again., Fold in remaining 2 cups of blueberries., Pour into plastic mold and freeze overnight. let soften slightly to serve.]</td>\n",
       "      <td>[4, 1/4, 1, 1]</td>\n",
       "      <td>[blueberries, granulated sugar, vanilla yogurt, lemon juice]</td>\n",
       "      <td>[blueberry, yogurt, lemon juice]</td>\n",
       "      <td>[blueberry, yogurt, lemon juice, dessert, low protein, low cholesterol, healthy, free of..., summer, weeknight, freezer, easy]</td>\n",
       "      <td>[Low-Fat, Berry, Blue, Frozen, Dessert]</td>\n",
       "      <td>[Frozen, Desserts]</td>\n",
       "      <td>[Low-Fat, Berry, Blue, Frozen, Dessert, Frozen, Desserts, blueberry, yogurt, lemon juice, dessert, low protein, low cholesterol, healthy, free of..., summer, weeknight, freezer, easy]</td>\n",
       "      <td>[Frozen, Desserts, blueberry, yogurt, lemon juice, dessert, low protein, low cholesterol, healthy, free of..., summer, weeknight, freezer, easy]</td>\n",
       "    </tr>\n",
       "  </tbody>\n",
       "</table>\n",
       "</div>"
      ],
      "text/plain": [
       "                                Name   RecipeCategory  Calories  \\\n",
       "0  Low-Fat Berry Blue Frozen Dessert  Frozen Desserts     170.9   \n",
       "\n",
       "                                                                                                                                                                                                                                                                                                                                                                                                                                                                                                                                                                                                                                                                                                                                                                                                                                                            images  \\\n",
       "0  [https://img.sndimg.com/food/image/upload/w_555,h_416,c_fit,fl_progressive,q_95/v1/img/recipes/38/yueirxmlqaee1h3v3qnm_229%20berry%20blue%20frzn%20dess.jpg, https://img.sndimg.com/food/image/upload/w_555,h_416,c_fit,fl_progressive,q_95/v1/img/recipes/38/afpddhatwzq0b1cdpdat_255%20berry%20blue%20frzn%20dess.jpg, https://img.sndimg.com/food/image/upload/w_555,h_416,c_fit,fl_progressive,q_95/v1/img/recipes/38/uygf9nwmt2sggjcuzilo_228%20berry%20blue%20frzn%20dess.jpg, https://img.sndimg.com/food/image/upload/w_555,h_416,c_fit,fl_progressive,q_95/v1/img/recipes/38/pebmjn2tgsayks2759ba_20140722_202142.jpg, https://img.sndimg.com/food/image/upload/w_555,h_416,c_fit,fl_progressive,q_95/v1/img/recipes/38/picuaeten.jpg, https://img.sndimg.com/food/image/upload/w_555,h_416,c_fit,fl_progressive,q_95/v1/img/recipes/38/pictzvxw5.jpg]   \n",
       "\n",
       "     cook_time      prep_time                total_time recipe_servings  \\\n",
       "0  24 Hour(s)   45 Minute(s)   24 Hour(s) 45 Minute(s)                4   \n",
       "\n",
       "                                                                                             tags  \\\n",
       "0  [dessert, low protein, low cholesterol, healthy, free of..., summer, weeknight, freezer, easy]   \n",
       "\n",
       "                                                                                                                                                                                                                                                                                                                                                                                                                                                                                                                                                                                                                                                    instructions  \\\n",
       "0  [Toss 2 cups berries with sugar., Let stand for 45 minutes., Stirring occasionally., Transfer berry-sugar mixture to food processor., Add yogurt and process until smooth., Strain through fine sieve. pour into baking pan (or transfer to ice cream maker and process according to manufacturers' directions). freeze uncovered until edges are solid but centre is soft.  transfer to processor and blend until smooth again., Return to pan and freeze until edges are solid., Transfer to processor and blend until smooth again., Fold in remaining 2 cups of blueberries., Pour into plastic mold and freeze overnight. let soften slightly to serve.]   \n",
       "\n",
       "  ingredient_quantities  \\\n",
       "0        [4, 1/4, 1, 1]   \n",
       "\n",
       "                                                    ingredients  \\\n",
       "0  [blueberries, granulated sugar, vanilla yogurt, lemon juice]   \n",
       "\n",
       "                ingredients_cleaned  \\\n",
       "0  [blueberry, yogurt, lemon juice]   \n",
       "\n",
       "                                                                                                                  ingred_and_tags  \\\n",
       "0  [blueberry, yogurt, lemon juice, dessert, low protein, low cholesterol, healthy, free of..., summer, weeknight, freezer, easy]   \n",
       "\n",
       "                                      name          recipe_cat  \\\n",
       "0  [Low-Fat, Berry, Blue, Frozen, Dessert]  [Frozen, Desserts]   \n",
       "\n",
       "                                                                                                                                                                       name_cat_ingred_tag  \\\n",
       "0  [Low-Fat, Berry, Blue, Frozen, Dessert, Frozen, Desserts, blueberry, yogurt, lemon juice, dessert, low protein, low cholesterol, healthy, free of..., summer, weeknight, freezer, easy]   \n",
       "\n",
       "                                                                                                                                     cat_ingred_tag  \n",
       "0  [Frozen, Desserts, blueberry, yogurt, lemon juice, dessert, low protein, low cholesterol, healthy, free of..., summer, weeknight, freezer, easy]  "
      ]
     },
     "execution_count": 76,
     "metadata": {},
     "output_type": "execute_result"
    }
   ],
   "source": [
    "df.head(1)"
   ]
  },
  {
   "cell_type": "code",
   "execution_count": 81,
   "id": "24ea6cad",
   "metadata": {
    "hidden": true
   },
   "outputs": [
    {
     "data": {
      "text/html": [
       "<div>\n",
       "<style scoped>\n",
       "    .dataframe tbody tr th:only-of-type {\n",
       "        vertical-align: middle;\n",
       "    }\n",
       "\n",
       "    .dataframe tbody tr th {\n",
       "        vertical-align: top;\n",
       "    }\n",
       "\n",
       "    .dataframe thead th {\n",
       "        text-align: right;\n",
       "    }\n",
       "</style>\n",
       "<table border=\"1\" class=\"dataframe\">\n",
       "  <thead>\n",
       "    <tr style=\"text-align: right;\">\n",
       "      <th></th>\n",
       "      <th>Name</th>\n",
       "      <th>RecipeCategory</th>\n",
       "      <th>Calories</th>\n",
       "      <th>images</th>\n",
       "      <th>cook_time</th>\n",
       "      <th>prep_time</th>\n",
       "      <th>total_time</th>\n",
       "      <th>recipe_servings</th>\n",
       "      <th>tags</th>\n",
       "      <th>instructions</th>\n",
       "      <th>ingredient_quantities</th>\n",
       "      <th>ingredients</th>\n",
       "      <th>ingredients_cleaned</th>\n",
       "      <th>ingred_and_tags</th>\n",
       "      <th>name_cat_ingred_tag</th>\n",
       "      <th>cat_ingred_tag</th>\n",
       "    </tr>\n",
       "  </thead>\n",
       "  <tbody>\n",
       "    <tr>\n",
       "      <th>0</th>\n",
       "      <td>Low-Fat Berry Blue Frozen Dessert</td>\n",
       "      <td>Frozen Desserts</td>\n",
       "      <td>170.9</td>\n",
       "      <td>[https://img.sndimg.com/food/image/upload/w_555,h_416,c_fit,fl_progressive,q_95/v1/img/recipes/38/yueirxmlqaee1h3v3qnm_229%20berry%20blue%20frzn%20dess.jpg, https://img.sndimg.com/food/image/upload/w_555,h_416,c_fit,fl_progressive,q_95/v1/img/recipes/38/afpddhatwzq0b1cdpdat_255%20berry%20blue%20frzn%20dess.jpg, https://img.sndimg.com/food/image/upload/w_555,h_416,c_fit,fl_progressive,q_95/v1/img/recipes/38/uygf9nwmt2sggjcuzilo_228%20berry%20blue%20frzn%20dess.jpg, https://img.sndimg.com/food/image/upload/w_555,h_416,c_fit,fl_progressive,q_95/v1/img/recipes/38/pebmjn2tgsayks2759ba_20140722_202142.jpg, https://img.sndimg.com/food/image/upload/w_555,h_416,c_fit,fl_progressive,q_95/v1/img/recipes/38/picuaeten.jpg, https://img.sndimg.com/food/image/upload/w_555,h_416,c_fit,fl_progressive,q_95/v1/img/recipes/38/pictzvxw5.jpg]</td>\n",
       "      <td>24 Hour(s)</td>\n",
       "      <td>45 Minute(s)</td>\n",
       "      <td>24 Hour(s) 45 Minute(s)</td>\n",
       "      <td>4</td>\n",
       "      <td>[dessert, low protein, low cholesterol, healthy, free of..., summer, weeknight, freezer, easy]</td>\n",
       "      <td>[Toss 2 cups berries with sugar., Let stand for 45 minutes., Stirring occasionally., Transfer berry-sugar mixture to food processor., Add yogurt and process until smooth., Strain through fine sieve. pour into baking pan (or transfer to ice cream maker and process according to manufacturers' directions). freeze uncovered until edges are solid but centre is soft.  transfer to processor and blend until smooth again., Return to pan and freeze until edges are solid., Transfer to processor and blend until smooth again., Fold in remaining 2 cups of blueberries., Pour into plastic mold and freeze overnight. let soften slightly to serve.]</td>\n",
       "      <td>[4, 1/4, 1, 1]</td>\n",
       "      <td>[blueberries, granulated sugar, vanilla yogurt, lemon juice]</td>\n",
       "      <td>[blueberry, yogurt, lemon juice]</td>\n",
       "      <td>[blueberry, yogurt, lemon juice, dessert, low protein, low cholesterol, healthy, free of..., summer, weeknight, freezer, easy]</td>\n",
       "      <td>[Low-Fat, Berry, Blue, Frozen, Dessert, Frozen, Desserts, blueberry, yogurt, lemon juice, dessert, low protein, low cholesterol, healthy, free of..., summer, weeknight, freezer, easy]</td>\n",
       "      <td>[Frozen, Desserts, blueberry, yogurt, lemon juice, dessert, low protein, low cholesterol, healthy, free of..., summer, weeknight, freezer, easy]</td>\n",
       "    </tr>\n",
       "  </tbody>\n",
       "</table>\n",
       "</div>"
      ],
      "text/plain": [
       "                                Name   RecipeCategory  Calories  \\\n",
       "0  Low-Fat Berry Blue Frozen Dessert  Frozen Desserts     170.9   \n",
       "\n",
       "                                                                                                                                                                                                                                                                                                                                                                                                                                                                                                                                                                                                                                                                                                                                                                                                                                                            images  \\\n",
       "0  [https://img.sndimg.com/food/image/upload/w_555,h_416,c_fit,fl_progressive,q_95/v1/img/recipes/38/yueirxmlqaee1h3v3qnm_229%20berry%20blue%20frzn%20dess.jpg, https://img.sndimg.com/food/image/upload/w_555,h_416,c_fit,fl_progressive,q_95/v1/img/recipes/38/afpddhatwzq0b1cdpdat_255%20berry%20blue%20frzn%20dess.jpg, https://img.sndimg.com/food/image/upload/w_555,h_416,c_fit,fl_progressive,q_95/v1/img/recipes/38/uygf9nwmt2sggjcuzilo_228%20berry%20blue%20frzn%20dess.jpg, https://img.sndimg.com/food/image/upload/w_555,h_416,c_fit,fl_progressive,q_95/v1/img/recipes/38/pebmjn2tgsayks2759ba_20140722_202142.jpg, https://img.sndimg.com/food/image/upload/w_555,h_416,c_fit,fl_progressive,q_95/v1/img/recipes/38/picuaeten.jpg, https://img.sndimg.com/food/image/upload/w_555,h_416,c_fit,fl_progressive,q_95/v1/img/recipes/38/pictzvxw5.jpg]   \n",
       "\n",
       "     cook_time      prep_time                total_time recipe_servings  \\\n",
       "0  24 Hour(s)   45 Minute(s)   24 Hour(s) 45 Minute(s)                4   \n",
       "\n",
       "                                                                                             tags  \\\n",
       "0  [dessert, low protein, low cholesterol, healthy, free of..., summer, weeknight, freezer, easy]   \n",
       "\n",
       "                                                                                                                                                                                                                                                                                                                                                                                                                                                                                                                                                                                                                                                    instructions  \\\n",
       "0  [Toss 2 cups berries with sugar., Let stand for 45 minutes., Stirring occasionally., Transfer berry-sugar mixture to food processor., Add yogurt and process until smooth., Strain through fine sieve. pour into baking pan (or transfer to ice cream maker and process according to manufacturers' directions). freeze uncovered until edges are solid but centre is soft.  transfer to processor and blend until smooth again., Return to pan and freeze until edges are solid., Transfer to processor and blend until smooth again., Fold in remaining 2 cups of blueberries., Pour into plastic mold and freeze overnight. let soften slightly to serve.]   \n",
       "\n",
       "  ingredient_quantities  \\\n",
       "0        [4, 1/4, 1, 1]   \n",
       "\n",
       "                                                    ingredients  \\\n",
       "0  [blueberries, granulated sugar, vanilla yogurt, lemon juice]   \n",
       "\n",
       "                ingredients_cleaned  \\\n",
       "0  [blueberry, yogurt, lemon juice]   \n",
       "\n",
       "                                                                                                                  ingred_and_tags  \\\n",
       "0  [blueberry, yogurt, lemon juice, dessert, low protein, low cholesterol, healthy, free of..., summer, weeknight, freezer, easy]   \n",
       "\n",
       "                                                                                                                                                                       name_cat_ingred_tag  \\\n",
       "0  [Low-Fat, Berry, Blue, Frozen, Dessert, Frozen, Desserts, blueberry, yogurt, lemon juice, dessert, low protein, low cholesterol, healthy, free of..., summer, weeknight, freezer, easy]   \n",
       "\n",
       "                                                                                                                                     cat_ingred_tag  \n",
       "0  [Frozen, Desserts, blueberry, yogurt, lemon juice, dessert, low protein, low cholesterol, healthy, free of..., summer, weeknight, freezer, easy]  "
      ]
     },
     "execution_count": 81,
     "metadata": {},
     "output_type": "execute_result"
    }
   ],
   "source": [
    "df2 = df.drop(columns=[\"name\", \"recipe_cat\"])\n",
    "df2.head(1)"
   ]
  },
  {
   "cell_type": "markdown",
   "id": "7fd5f398",
   "metadata": {
    "hidden": true
   },
   "source": [
    "### Save df with new columns"
   ]
  },
  {
   "cell_type": "code",
   "execution_count": 78,
   "id": "e39e12b8",
   "metadata": {
    "hidden": true
   },
   "outputs": [],
   "source": [
    "# uncomment to save\n",
    "# df.to_pickle('r_cleaned_recipes_3.pkl')"
   ]
  },
  {
   "cell_type": "markdown",
   "id": "720b481c",
   "metadata": {
    "heading_collapsed": true
   },
   "source": [
    "## Building NLP model for ingredients"
   ]
  },
  {
   "cell_type": "markdown",
   "id": "364ff8a1",
   "metadata": {
    "hidden": true
   },
   "source": [
    "### Applying tags to list of cleaned ingredients for each recipe"
   ]
  },
  {
   "cell_type": "code",
   "execution_count": 10,
   "id": "43d6b91c",
   "metadata": {
    "hidden": true
   },
   "outputs": [],
   "source": [
    "#tagging ingredients\n",
    "ingredients_cleaned_documents = [TaggedDocument(doc, [i]) for i, doc in enumerate(df['ingredients_cleaned'])]"
   ]
  },
  {
   "cell_type": "markdown",
   "id": "26da5f7c",
   "metadata": {
    "hidden": true
   },
   "source": [
    "### Instantiate model and train"
   ]
  },
  {
   "cell_type": "code",
   "execution_count": 11,
   "id": "75509fb9",
   "metadata": {
    "hidden": true
   },
   "outputs": [],
   "source": [
    "#building nlp model for ingredients\n",
    "\n",
    "doc_model_i = Doc2Vec(ingredients_cleaned_documents, \n",
    "                      vector_size= 50, \n",
    "                      alpha = 0.025,\n",
    "                      min_count= 100, \n",
    "                      epochs = 50,\n",
    "                      window = 10,  \n",
    "                      dm=0)\n",
    "\n",
    "doc_model_i.build_vocab(ingredients_cleaned_documents)\n",
    "\n",
    "doc_model_i.train(ingredients_cleaned_documents, \n",
    "                total_examples = doc_model_i.corpus_count, \n",
    "                epochs= 100)"
   ]
  },
  {
   "cell_type": "markdown",
   "id": "da68d86b",
   "metadata": {
    "hidden": true
   },
   "source": [
    "### Save trained model to local drive"
   ]
  },
  {
   "cell_type": "code",
   "execution_count": 12,
   "id": "9e23e325",
   "metadata": {
    "hidden": true
   },
   "outputs": [],
   "source": [
    "#uncomment below to save\n",
    "# doc_model_i.save(\"r_ingred_d2v.model\")"
   ]
  },
  {
   "cell_type": "markdown",
   "id": "79c5d35e",
   "metadata": {
    "hidden": true
   },
   "source": [
    "### Vectorise user input of ingredients\n"
   ]
  },
  {
   "cell_type": "code",
   "execution_count": 67,
   "id": "f1fa3fa1",
   "metadata": {
    "hidden": true
   },
   "outputs": [
    {
     "name": "stdout",
     "output_type": "stream",
     "text": [
      "[(76859, 0.9607111215591431), (206125, 0.9337906837463379), (24869, 0.929422914981842), (330684, 0.9286863803863525), (228377, 0.9248731136322021), (287431, 0.9216048121452332), (104284, 0.9206739068031311), (460665, 0.9201422929763794), (47190, 0.875518262386322), (452519, 0.8742367029190063)]\n"
     ]
    }
   ],
   "source": [
    "#checking similarities for ingredients\n",
    "\n",
    "input_ingred = \"strawberry, chocolate, egg\"\n",
    "\n",
    "tokens_ingred = input_ingred.split(\", \")\n",
    "new_vector_ingred = doc_model_i.infer_vector(tokens_ingred)\n",
    "most_similar_ingred = doc_model_i.dv.most_similar([new_vector_ingred])\n",
    "print(most_similar_ingred)\n",
    "most_similar_ingred_list = [x[0] for x in most_similar_ingred]\n"
   ]
  },
  {
   "cell_type": "markdown",
   "id": "24b7da27",
   "metadata": {
    "hidden": true
   },
   "source": [
    "### Return top 10 recipes baed on most similar ingredients"
   ]
  },
  {
   "cell_type": "code",
   "execution_count": 68,
   "id": "dbd23dd6",
   "metadata": {
    "hidden": true
   },
   "outputs": [
    {
     "data": {
      "text/html": [
       "<div>\n",
       "<style scoped>\n",
       "    .dataframe tbody tr th:only-of-type {\n",
       "        vertical-align: middle;\n",
       "    }\n",
       "\n",
       "    .dataframe tbody tr th {\n",
       "        vertical-align: top;\n",
       "    }\n",
       "\n",
       "    .dataframe thead th {\n",
       "        text-align: right;\n",
       "    }\n",
       "</style>\n",
       "<table border=\"1\" class=\"dataframe\">\n",
       "  <thead>\n",
       "    <tr style=\"text-align: right;\">\n",
       "      <th></th>\n",
       "      <th>index</th>\n",
       "      <th>Name</th>\n",
       "      <th>RecipeCategory</th>\n",
       "      <th>Calories</th>\n",
       "      <th>images</th>\n",
       "      <th>cook_time</th>\n",
       "      <th>prep_time</th>\n",
       "      <th>total_time</th>\n",
       "      <th>recipe_servings</th>\n",
       "      <th>tags</th>\n",
       "      <th>instructions</th>\n",
       "      <th>ingredient_quantities</th>\n",
       "      <th>ingredients</th>\n",
       "      <th>ingredients_cleaned</th>\n",
       "      <th>ingred_and_tags</th>\n",
       "      <th>name</th>\n",
       "      <th>recipe_cat</th>\n",
       "      <th>name_cat_ingred_tag</th>\n",
       "    </tr>\n",
       "  </thead>\n",
       "  <tbody>\n",
       "    <tr>\n",
       "      <th>0</th>\n",
       "      <td>76859</td>\n",
       "      <td>Grand Marnier Parfait</td>\n",
       "      <td>Bar Cookie</td>\n",
       "      <td>591.8</td>\n",
       "      <td>[Not Provided]</td>\n",
       "      <td>20 Minute(s)</td>\n",
       "      <td>5 Minute(s)</td>\n",
       "      <td>25 Minute(s)</td>\n",
       "      <td>Not Provided</td>\n",
       "      <td>[frozen desserts, dessert, cookie &amp; brownie, european, sweet, mixer, &lt; 30 mins, freezer, small appliance]</td>\n",
       "      <td>[Beat eggs and yolks., Add sugar and liqueur and mix thoroughly., Heat au bain marie while continuously stirring until slightly thicker (don't let it boil!)., Take from heat and whip until thickened (circa 10 minutes)., Whip cream until thick but still slightly fluid., Fold through egg mixture., Pour into form (circa 1 litre) and freeze for circa 5 hours., Remove parfait from freezer 30 minutes before serving., Turn onto a large plate., Serve parfait with shaved chocolate and strawberry slices.\"\\n.]</td>\n",
       "      <td>[4, 2, 150, 100, 300, 5, 50, 2]</td>\n",
       "      <td>[eggs, sugar, strawberries, chocolate]</td>\n",
       "      <td>[egg, strawberry, chocolate]</td>\n",
       "      <td>[egg, strawberry, chocolate, frozen desserts, dessert, cookie &amp; brownie, european, sweet, mixer, &lt; 30 mins, freezer, small appliance]</td>\n",
       "      <td>[Grand, Marnier, Parfait]</td>\n",
       "      <td>[Bar, Cookie]</td>\n",
       "      <td>[Grand, Marnier, Parfait, Bar, Cookie, egg, strawberry, chocolate, frozen desserts, dessert, cookie &amp; brownie, european, sweet, mixer, &lt; 30 mins, freezer, small appliance]</td>\n",
       "    </tr>\n",
       "    <tr>\n",
       "      <th>1</th>\n",
       "      <td>206125</td>\n",
       "      <td>Chocolate Dipped Strawberries</td>\n",
       "      <td>Dessert</td>\n",
       "      <td>236.1</td>\n",
       "      <td>[https://img.sndimg.com/food/image/upload/w_555,h_416,c_fit,fl_progressive,q_95/v1/img/recipes/21/50/42/picnroqw2.jpg]</td>\n",
       "      <td>5 Minute(s)</td>\n",
       "      <td>20 Minute(s)</td>\n",
       "      <td>25 Minute(s)</td>\n",
       "      <td>Not Provided</td>\n",
       "      <td>[strawberry, berries, fruit, spring, summer, microwave, &lt; 30 mins, stove top, easy]</td>\n",
       "      <td>[Rinse strawberries., Drying them with paper towels., Melt chocolate in top of double boiler or in microwave (full power in 30 second intervals., Until chocolate is melted., Stirring often)., Note 1: chocolate should not be too hot - if it gets too hot it will drip on the berries instead of adhering to the berries., Note 2: be careful--over heating chocolate may cause scorching and keep it from blending properly., Insert toothpick into stem end of strawberry and dip 3/4 of berry into chocolate., Leaving green cap and some of the red berry showing., Spear free end of toothpick into a piece of styrofoam or grapefruit to allow strawberry to dry upside down (alternatively dry strawberries on waxed paper)., Note 3: if chocolate becomes too thick to work with reheat chocolate gently., Note 4: after chocolate hardens dip tip of berry into contrasting melted chocolate., After the chocolate hardens discard toothpicks., These berries are best if eaten within 24 hours., For longer storage refrigerate but serve at room temperature.]</td>\n",
       "      <td>[24 -30, 6, na]</td>\n",
       "      <td>[strawberries, chocolate]</td>\n",
       "      <td>[strawberry, chocolate]</td>\n",
       "      <td>[strawberry, chocolate, strawberry, berries, fruit, spring, summer, microwave, &lt; 30 mins, stove top, easy]</td>\n",
       "      <td>[Chocolate, Dipped, Strawberries]</td>\n",
       "      <td>[Dessert]</td>\n",
       "      <td>[Chocolate, Dipped, Strawberries, Dessert, strawberry, chocolate, strawberry, berries, fruit, spring, summer, microwave, &lt; 30 mins, stove top, easy]</td>\n",
       "    </tr>\n",
       "    <tr>\n",
       "      <th>2</th>\n",
       "      <td>24869</td>\n",
       "      <td>Chocolate Covered Strawberries</td>\n",
       "      <td>Dessert</td>\n",
       "      <td>249.4</td>\n",
       "      <td>[https://img.sndimg.com/food/image/upload/w_555,h_416,c_fit,fl_progressive,q_95/v1/img/recipes/28/38/0/picwysbal.jpg]</td>\n",
       "      <td>20 Minute(s)</td>\n",
       "      <td>5 Minute(s)</td>\n",
       "      <td>25 Minute(s)</td>\n",
       "      <td>2</td>\n",
       "      <td>[lunch/snacks, strawberry, berries, fruit, canadian, scottish, european, kid friendly, potluck, &lt; 30 mins, beginner cook, stove top, easy, inexpensive]</td>\n",
       "      <td>[Cover a baking sheet with non-stick baking paper., Break up the chocolate and place in a small metal bowl., Place over a saucepan of hot water and heat until melted., Remove from the heat and stir., Do not remove the leaves from the strawberries., Dip into the chocolate., Leaving part of the fruit uncovered., Place on the non-stick baking paper and leave until the chocolate is dry and set.]</td>\n",
       "      <td>[1/2, 3]</td>\n",
       "      <td>[fresh strawberries, chocolate]</td>\n",
       "      <td>[strawberry, chocolate]</td>\n",
       "      <td>[strawberry, chocolate, lunch/snacks, strawberry, berries, fruit, canadian, scottish, european, kid friendly, potluck, &lt; 30 mins, beginner cook, stove top, easy, inexpensive]</td>\n",
       "      <td>[Chocolate, Covered, Strawberries]</td>\n",
       "      <td>[Dessert]</td>\n",
       "      <td>[Chocolate, Covered, Strawberries, Dessert, strawberry, chocolate, lunch/snacks, strawberry, berries, fruit, canadian, scottish, european, kid friendly, potluck, &lt; 30 mins, beginner cook, stove top, easy, inexpensive]</td>\n",
       "    </tr>\n",
       "    <tr>\n",
       "      <th>3</th>\n",
       "      <td>330684</td>\n",
       "      <td>Skinny Chick Popsicles</td>\n",
       "      <td>Low Protein</td>\n",
       "      <td>28.6</td>\n",
       "      <td>[https://img.sndimg.com/food/image/upload/w_555,h_416,c_fit,fl_progressive,q_95/v1/img/recipes/34/31/25/pic3gygkg.jpg]</td>\n",
       "      <td>Not Provided</td>\n",
       "      <td>7 Minute(s)</td>\n",
       "      <td>7 Minute(s)</td>\n",
       "      <td>Not Provided</td>\n",
       "      <td>[low cholesterol, healthy, free of..., &lt; 15 mins, for large groups, easy]</td>\n",
       "      <td>[Puree the fruit., Whip up you cream (add honey or splenda if you please)., Mix the strawberries and whipped cream., Fill the mixture into dixie cups., Insert popsicle sticks., Freeze overnight., When ready., Pull our of cup and drizzle with low fat chocolate (if you desire., Enjoy!.]</td>\n",
       "      <td>[1, 1, na]</td>\n",
       "      <td>[strawberry, chocolate]</td>\n",
       "      <td>[strawberry, chocolate]</td>\n",
       "      <td>[strawberry, chocolate, low cholesterol, healthy, free of..., &lt; 15 mins, for large groups, easy]</td>\n",
       "      <td>[Skinny, Chick, Popsicles]</td>\n",
       "      <td>[Low, Protein]</td>\n",
       "      <td>[Skinny, Chick, Popsicles, Low, Protein, strawberry, chocolate, low cholesterol, healthy, free of..., &lt; 15 mins, for large groups, easy]</td>\n",
       "    </tr>\n",
       "    <tr>\n",
       "      <th>4</th>\n",
       "      <td>228377</td>\n",
       "      <td>Chocolate Mousse</td>\n",
       "      <td>Dessert</td>\n",
       "      <td>436.7</td>\n",
       "      <td>[Not Provided]</td>\n",
       "      <td>5 Minute(s)</td>\n",
       "      <td>20 Minute(s)</td>\n",
       "      <td>25 Minute(s)</td>\n",
       "      <td>4</td>\n",
       "      <td>[&lt; 30 mins, easy]</td>\n",
       "      <td>[Break the cholote into a bowl and place over a pan of simmering water until it melts., Beat the egg whites until they form stiff and glossy peaks., Pour the melted chocolate into a clean bowl and whisk in the egg yolks and tia maria or orange juice. gently fold in a third of the egg whites., Then fold in the rest., Spoon into glass serving dish., Or 4 individual dishes., Cover with cling film and place in the refrigerator for at least two hours before serving. for the best results leave overnight., Serve with whipped cream and the fresh fruit.]</td>\n",
       "      <td>[250, 4, 2, na, na]</td>\n",
       "      <td>[chocolate, eggs, strawberries, raspberries]</td>\n",
       "      <td>[chocolate, egg, strawberry, raspberry]</td>\n",
       "      <td>[chocolate, egg, strawberry, raspberry, &lt; 30 mins, easy]</td>\n",
       "      <td>[Chocolate, Mousse]</td>\n",
       "      <td>[Dessert]</td>\n",
       "      <td>[Chocolate, Mousse, Dessert, chocolate, egg, strawberry, raspberry, &lt; 30 mins, easy]</td>\n",
       "    </tr>\n",
       "    <tr>\n",
       "      <th>5</th>\n",
       "      <td>287431</td>\n",
       "      <td>Chocolate-Covered Cheesecake Strawberries</td>\n",
       "      <td>Dessert</td>\n",
       "      <td>230.5</td>\n",
       "      <td>[Not Provided]</td>\n",
       "      <td>45 Minute(s)</td>\n",
       "      <td>30 Minute(s)</td>\n",
       "      <td>1 Hour(s) 15 Minute(s)</td>\n",
       "      <td>10</td>\n",
       "      <td>[strawberry, berries, fruit, &lt; 4 hours, easy]</td>\n",
       "      <td>[Wash and dry strawberries; they must be completely dry before beginning., Lay them out on trays or cookie sheets covered with wax paper., Spacing them about 1 to 1 1/2 inches apart., Prepare the cheesecake mix according to directions on the box., Let mixture set for 3-5 minutes at room temperature., Until it thickens slightly., Grab the strawberries., One at a time by their tops., And dip them into the cheesecake mix., Covering them to just under where to leafy tops rest., Place back on the tray and refrigerate for 10-15 minutes. this will help set the cheesecake., After this time., Remove the tray from the refrigerator., And set aside., Melt the chocolate for dipping as directed on the package., Take the strawberries., And while the chocolate is still runny., Dip the cheesecake-covered strawberries., One by one., Into it., Creating a second (chocolate) layer., Place the strawberries back on the tray and refrigerate for 30 minutes., Or until ready to serve.]</td>\n",
       "      <td>[1, 2, 1]</td>\n",
       "      <td>[strawberries, chocolate]</td>\n",
       "      <td>[strawberry, chocolate]</td>\n",
       "      <td>[strawberry, chocolate, strawberry, berries, fruit, &lt; 4 hours, easy]</td>\n",
       "      <td>[Chocolate-Covered, Cheesecake, Strawberries]</td>\n",
       "      <td>[Dessert]</td>\n",
       "      <td>[Chocolate-Covered, Cheesecake, Strawberries, Dessert, strawberry, chocolate, strawberry, berries, fruit, &lt; 4 hours, easy]</td>\n",
       "    </tr>\n",
       "    <tr>\n",
       "      <th>6</th>\n",
       "      <td>104284</td>\n",
       "      <td>Easy Chocolate Topped Strawberry Shortcake</td>\n",
       "      <td>Dessert</td>\n",
       "      <td>380.6</td>\n",
       "      <td>[Not Provided]</td>\n",
       "      <td>35 Minute(s)</td>\n",
       "      <td>25 Minute(s)</td>\n",
       "      <td>1 Hour(s)</td>\n",
       "      <td>8</td>\n",
       "      <td>[strawberry, berries, fruit, kid friendly, sweet, &lt; 60 mins, beginner cook, easy]</td>\n",
       "      <td>[Follow cake mix directions and pour batter in two circular 8\\\"/9\\\" pans., Bake according to cake mix directions (it's usually 30-35 min)., Take out when toothpick inserted in the center comes out clean., Make strawberry sauce by taking about 1-2 cups of strawberries and chopping up in chunks., Put in a metal pan and add sugar until sugar is carmilized and a syrup is formed at the bottom of the pan., Drain most of the syrup at the bottom of the pan., Take sauce and spread it on top of one of the cakes., After that., Take the other cake and put it on top of the strawberry topped one (the strawberries should now be sandwiched between the two cakes)., Take melted chocolate and you can either spread it on top or the whole thing., Spray whipped cream on top if desired., Enjoy!.]</td>\n",
       "      <td>[1, 1 -2, 3 -5, 1, na]</td>\n",
       "      <td>[fresh strawberries, sugar, chocolate]</td>\n",
       "      <td>[strawberry, chocolate]</td>\n",
       "      <td>[strawberry, chocolate, strawberry, berries, fruit, kid friendly, sweet, &lt; 60 mins, beginner cook, easy]</td>\n",
       "      <td>[Easy, Chocolate, Topped, Strawberry, Shortcake]</td>\n",
       "      <td>[Dessert]</td>\n",
       "      <td>[Easy, Chocolate, Topped, Strawberry, Shortcake, Dessert, strawberry, chocolate, strawberry, berries, fruit, kid friendly, sweet, &lt; 60 mins, beginner cook, easy]</td>\n",
       "    </tr>\n",
       "    <tr>\n",
       "      <th>7</th>\n",
       "      <td>460665</td>\n",
       "      <td>Easter Carrots (Chocolate Covered Strawberries)</td>\n",
       "      <td>Dessert</td>\n",
       "      <td>175.2</td>\n",
       "      <td>[https://img.sndimg.com/food/image/upload/w_555,h_416,c_fit,fl_progressive,q_95/v1/img/recipes/47/76/52/picdsbcmu.jpg]</td>\n",
       "      <td>30 Minute(s)</td>\n",
       "      <td>30 Minute(s)</td>\n",
       "      <td>1 Hour(s)</td>\n",
       "      <td>12</td>\n",
       "      <td>[strawberry, berries, fruit, &lt; 60 mins, easy]</td>\n",
       "      <td>[Wash and dry strawberries leaving top on., Melt chocoate in a double broiler., Dip strawberries holding top and cover as much as possible., Dry on wax papaer lined cookie sheet., When almost dry., Take piece., Of dental floss and run through top to look like carrot -- dry completely.]</td>\n",
       "      <td>[1, 1]</td>\n",
       "      <td>[strawberry, chocolate]</td>\n",
       "      <td>[strawberry, chocolate]</td>\n",
       "      <td>[strawberry, chocolate, strawberry, berries, fruit, &lt; 60 mins, easy]</td>\n",
       "      <td>[Easter, Carrots, (Chocolate, Covered, Strawberries)]</td>\n",
       "      <td>[Dessert]</td>\n",
       "      <td>[Easter, Carrots, (Chocolate, Covered, Strawberries), Dessert, strawberry, chocolate, strawberry, berries, fruit, &lt; 60 mins, easy]</td>\n",
       "    </tr>\n",
       "    <tr>\n",
       "      <th>8</th>\n",
       "      <td>47190</td>\n",
       "      <td>Yummy Birthday Party Chocolate Strawberry Cake</td>\n",
       "      <td>Dessert</td>\n",
       "      <td>2805.7</td>\n",
       "      <td>[Not Provided]</td>\n",
       "      <td>1 Hour(s) 15 Minute(s)</td>\n",
       "      <td>35 Minute(s)</td>\n",
       "      <td>1 Hour(s) 50 Minute(s)</td>\n",
       "      <td>Not Provided</td>\n",
       "      <td>[strawberry, berries, fruit, asian, indian, kid friendly, weeknight, oven, &lt; 4 hours]</td>\n",
       "      <td>[Line the base and sides of a round cake tin with greaseproof paper., Grease well., Sieve flour and cocoa powder into a bowl and put on one side., Put chocolate into a polythene bag., Tie it firmly and place in a bowl of hot water to melt the chocolate., Beat butter and sugar until light and fluffy., Beat in egg., A little at a time., Fold in the sieved flour and cocoa powder., Stir in the melted chocolate., Turn the mixture into the greased tin., Bake in a moderate oven for 1 hour 15 minutes or until the centre of the cake springs back when pressed with a finger., The cake top will have a light crust., Turn the cake onto a wire rack or onto a flat plate to cool., When the cake is completely cold., Cut it into two layers., Whip up the whipping cream as per the instructions on the sachet., Sandwich the two layers with some whipped cream., Cover the cake with the remaining whipped cream., Drizzle the grated chocolate over the cake but for a small strip., On which any type of colourful chocolate should be drizzled., Arrange the strawberries and m&amp; m's all around the cake., Serve this yummy cake chilled at your child's next birthday party., Enjoy!.]</td>\n",
       "      <td>[125, 25, 75, 150, 150, 3, 2, 1, na, na]</td>\n",
       "      <td>[self-raising flour, chocolate, butter, sugar, eggs, fresh strawberries, chocolate]</td>\n",
       "      <td>[self raising, chocolate, egg, strawberry, chocolate]</td>\n",
       "      <td>[self raising, chocolate, egg, strawberry, chocolate, strawberry, berries, fruit, asian, indian, kid friendly, weeknight, oven, &lt; 4 hours]</td>\n",
       "      <td>[Yummy, Birthday, Party, Chocolate, Strawberry, Cake]</td>\n",
       "      <td>[Dessert]</td>\n",
       "      <td>[Yummy, Birthday, Party, Chocolate, Strawberry, Cake, Dessert, self raising, chocolate, egg, strawberry, chocolate, strawberry, berries, fruit, asian, indian, kid friendly, weeknight, oven, &lt; 4 hours]</td>\n",
       "    </tr>\n",
       "    <tr>\n",
       "      <th>9</th>\n",
       "      <td>452519</td>\n",
       "      <td>Chocolate Idiot Cake (Flourless Chocolate Cake)</td>\n",
       "      <td>Dessert</td>\n",
       "      <td>397.5</td>\n",
       "      <td>[https://img.sndimg.com/food/image/upload/w_555,h_416,c_fit,fl_progressive,q_95/v1/img/recipes/46/92/21/picikhntq.jpg, https://img.sndimg.com/food/image/upload/w_555,h_416,c_fit,fl_progressive,q_95/v1/img/recipes/46/92/21/picrowgf0.jpg]</td>\n",
       "      <td>1 Hour(s) 15 Minute(s)</td>\n",
       "      <td>20 Minute(s)</td>\n",
       "      <td>1 Hour(s) 35 Minute(s)</td>\n",
       "      <td>10</td>\n",
       "      <td>[beginner cook, &lt; 4 hours, easy]</td>\n",
       "      <td>[Preheat the oven to 350f (175c)., Butter a 9-inch (23 cm) springform pan* and dust it with cocoa powder., Tapping out any excess. if you suspect your springform pan isn’t 100% water-tight., Wrap the outside with aluminum foil., Making sure it goes all the way up to the outer rim., Melt the chocolate and butter in a double boiler (or microwave)., Stirring occasionally., Until smooth. remove from heat., In a large bowl., Whisk together the eggs and sugar., Then whisk in the melted chocolate mixture until smooth., Pour the batter into the prepared springform pan and cover the top of the pan snugly with a sheet of foil. put the springform pan into a larger baking pan., Such as a roasting pan., And add enough hot water to the baking pan to come about halfway up to the outside of the cake pan., Bake for 1 hour and 15 minutes.  you’ll know the cake is done when it feels just set., Like quivering chocolate pudding. if you gently touch the center., Your finger should come away clean., Lift the cake pan from the water bath and remove the foil. let cake cool completely on a cooling rack., Serve thin wedges of this very rich cake at room temperature., With creme anglaise., Ice cream., Or whipped cream., Storage: this chocolate idiot cake can be wrapped and chilled in the refrigerator for 3-5 days.]</td>\n",
       "      <td>[10, 7, 5, 1]</td>\n",
       "      <td>[chocolate, butter, eggs, sugar]</td>\n",
       "      <td>[chocolate, egg]</td>\n",
       "      <td>[chocolate, egg, beginner cook, &lt; 4 hours, easy]</td>\n",
       "      <td>[Chocolate, Idiot, Cake, (Flourless, Chocolate, Cake)]</td>\n",
       "      <td>[Dessert]</td>\n",
       "      <td>[Chocolate, Idiot, Cake, (Flourless, Chocolate, Cake), Dessert, chocolate, egg, beginner cook, &lt; 4 hours, easy]</td>\n",
       "    </tr>\n",
       "  </tbody>\n",
       "</table>\n",
       "</div>"
      ],
      "text/plain": [
       "    index                                             Name RecipeCategory  \\\n",
       "0   76859                            Grand Marnier Parfait     Bar Cookie   \n",
       "1  206125                    Chocolate Dipped Strawberries        Dessert   \n",
       "2   24869                   Chocolate Covered Strawberries        Dessert   \n",
       "3  330684                           Skinny Chick Popsicles    Low Protein   \n",
       "4  228377                                 Chocolate Mousse        Dessert   \n",
       "5  287431        Chocolate-Covered Cheesecake Strawberries        Dessert   \n",
       "6  104284       Easy Chocolate Topped Strawberry Shortcake        Dessert   \n",
       "7  460665  Easter Carrots (Chocolate Covered Strawberries)        Dessert   \n",
       "8   47190   Yummy Birthday Party Chocolate Strawberry Cake        Dessert   \n",
       "9  452519  Chocolate Idiot Cake (Flourless Chocolate Cake)        Dessert   \n",
       "\n",
       "  Calories  \\\n",
       "0    591.8   \n",
       "1    236.1   \n",
       "2    249.4   \n",
       "3     28.6   \n",
       "4    436.7   \n",
       "5    230.5   \n",
       "6    380.6   \n",
       "7    175.2   \n",
       "8   2805.7   \n",
       "9    397.5   \n",
       "\n",
       "                                                                                                                                                                                                                                         images  \\\n",
       "0                                                                                                                                                                                                                                [Not Provided]   \n",
       "1                                                                                                                        [https://img.sndimg.com/food/image/upload/w_555,h_416,c_fit,fl_progressive,q_95/v1/img/recipes/21/50/42/picnroqw2.jpg]   \n",
       "2                                                                                                                         [https://img.sndimg.com/food/image/upload/w_555,h_416,c_fit,fl_progressive,q_95/v1/img/recipes/28/38/0/picwysbal.jpg]   \n",
       "3                                                                                                                        [https://img.sndimg.com/food/image/upload/w_555,h_416,c_fit,fl_progressive,q_95/v1/img/recipes/34/31/25/pic3gygkg.jpg]   \n",
       "4                                                                                                                                                                                                                                [Not Provided]   \n",
       "5                                                                                                                                                                                                                                [Not Provided]   \n",
       "6                                                                                                                                                                                                                                [Not Provided]   \n",
       "7                                                                                                                        [https://img.sndimg.com/food/image/upload/w_555,h_416,c_fit,fl_progressive,q_95/v1/img/recipes/47/76/52/picdsbcmu.jpg]   \n",
       "8                                                                                                                                                                                                                                [Not Provided]   \n",
       "9  [https://img.sndimg.com/food/image/upload/w_555,h_416,c_fit,fl_progressive,q_95/v1/img/recipes/46/92/21/picikhntq.jpg, https://img.sndimg.com/food/image/upload/w_555,h_416,c_fit,fl_progressive,q_95/v1/img/recipes/46/92/21/picrowgf0.jpg]   \n",
       "\n",
       "                 cook_time      prep_time               total_time  \\\n",
       "0            20 Minute(s)    5 Minute(s)             25 Minute(s)    \n",
       "1             5 Minute(s)   20 Minute(s)             25 Minute(s)    \n",
       "2            20 Minute(s)    5 Minute(s)             25 Minute(s)    \n",
       "3             Not Provided   7 Minute(s)              7 Minute(s)    \n",
       "4             5 Minute(s)   20 Minute(s)             25 Minute(s)    \n",
       "5            45 Minute(s)   30 Minute(s)   1 Hour(s) 15 Minute(s)    \n",
       "6            35 Minute(s)   25 Minute(s)                1 Hour(s)    \n",
       "7            30 Minute(s)   30 Minute(s)                1 Hour(s)    \n",
       "8  1 Hour(s) 15 Minute(s)   35 Minute(s)   1 Hour(s) 50 Minute(s)    \n",
       "9  1 Hour(s) 15 Minute(s)   20 Minute(s)   1 Hour(s) 35 Minute(s)    \n",
       "\n",
       "  recipe_servings  \\\n",
       "0    Not Provided   \n",
       "1    Not Provided   \n",
       "2               2   \n",
       "3    Not Provided   \n",
       "4               4   \n",
       "5              10   \n",
       "6               8   \n",
       "7              12   \n",
       "8    Not Provided   \n",
       "9              10   \n",
       "\n",
       "                                                                                                                                                      tags  \\\n",
       "0                                                [frozen desserts, dessert, cookie & brownie, european, sweet, mixer, < 30 mins, freezer, small appliance]   \n",
       "1                                                                      [strawberry, berries, fruit, spring, summer, microwave, < 30 mins, stove top, easy]   \n",
       "2  [lunch/snacks, strawberry, berries, fruit, canadian, scottish, european, kid friendly, potluck, < 30 mins, beginner cook, stove top, easy, inexpensive]   \n",
       "3                                                                                [low cholesterol, healthy, free of..., < 15 mins, for large groups, easy]   \n",
       "4                                                                                                                                        [< 30 mins, easy]   \n",
       "5                                                                                                            [strawberry, berries, fruit, < 4 hours, easy]   \n",
       "6                                                                        [strawberry, berries, fruit, kid friendly, sweet, < 60 mins, beginner cook, easy]   \n",
       "7                                                                                                            [strawberry, berries, fruit, < 60 mins, easy]   \n",
       "8                                                                    [strawberry, berries, fruit, asian, indian, kid friendly, weeknight, oven, < 4 hours]   \n",
       "9                                                                                                                         [beginner cook, < 4 hours, easy]   \n",
       "\n",
       "                                                                                                                                                                                                                                                                                                                                                                                                                                                                                                                                                                                                                                                                                                                                                                                                                                                                                                                                                                                                                                                                                                                                                                                                                                                                                                                                                   instructions  \\\n",
       "0                                                                                                                                                                                                                                                                                                                                                                                                                                                                                                                                                                                                                                                                                                                                                                                                                                      [Beat eggs and yolks., Add sugar and liqueur and mix thoroughly., Heat au bain marie while continuously stirring until slightly thicker (don't let it boil!)., Take from heat and whip until thickened (circa 10 minutes)., Whip cream until thick but still slightly fluid., Fold through egg mixture., Pour into form (circa 1 litre) and freeze for circa 5 hours., Remove parfait from freezer 30 minutes before serving., Turn onto a large plate., Serve parfait with shaved chocolate and strawberry slices.\"\\n.]   \n",
       "1                                                                                                                                                                                                                                                                                  [Rinse strawberries., Drying them with paper towels., Melt chocolate in top of double boiler or in microwave (full power in 30 second intervals., Until chocolate is melted., Stirring often)., Note 1: chocolate should not be too hot - if it gets too hot it will drip on the berries instead of adhering to the berries., Note 2: be careful--over heating chocolate may cause scorching and keep it from blending properly., Insert toothpick into stem end of strawberry and dip 3/4 of berry into chocolate., Leaving green cap and some of the red berry showing., Spear free end of toothpick into a piece of styrofoam or grapefruit to allow strawberry to dry upside down (alternatively dry strawberries on waxed paper)., Note 3: if chocolate becomes too thick to work with reheat chocolate gently., Note 4: after chocolate hardens dip tip of berry into contrasting melted chocolate., After the chocolate hardens discard toothpicks., These berries are best if eaten within 24 hours., For longer storage refrigerate but serve at room temperature.]   \n",
       "2                                                                                                                                                                                                                                                                                                                                                                                                                                                                                                                                                                                                                                                                                                                                                                                                                                                                                                                                                    [Cover a baking sheet with non-stick baking paper., Break up the chocolate and place in a small metal bowl., Place over a saucepan of hot water and heat until melted., Remove from the heat and stir., Do not remove the leaves from the strawberries., Dip into the chocolate., Leaving part of the fruit uncovered., Place on the non-stick baking paper and leave until the chocolate is dry and set.]   \n",
       "3                                                                                                                                                                                                                                                                                                                                                                                                                                                                                                                                                                                                                                                                                                                                                                                                                                                                                                                                                                                                                                                                 [Puree the fruit., Whip up you cream (add honey or splenda if you please)., Mix the strawberries and whipped cream., Fill the mixture into dixie cups., Insert popsicle sticks., Freeze overnight., When ready., Pull our of cup and drizzle with low fat chocolate (if you desire., Enjoy!.]   \n",
       "4                                                                                                                                                                                                                                                                                                                                                                                                                                                                                                                                                                                                                                                                                                                                                                                       [Break the cholote into a bowl and place over a pan of simmering water until it melts., Beat the egg whites until they form stiff and glossy peaks., Pour the melted chocolate into a clean bowl and whisk in the egg yolks and tia maria or orange juice. gently fold in a third of the egg whites., Then fold in the rest., Spoon into glass serving dish., Or 4 individual dishes., Cover with cling film and place in the refrigerator for at least two hours before serving. for the best results leave overnight., Serve with whipped cream and the fresh fruit.]   \n",
       "5                                                                                                                                                                                                                                                                                                                                                 [Wash and dry strawberries; they must be completely dry before beginning., Lay them out on trays or cookie sheets covered with wax paper., Spacing them about 1 to 1 1/2 inches apart., Prepare the cheesecake mix according to directions on the box., Let mixture set for 3-5 minutes at room temperature., Until it thickens slightly., Grab the strawberries., One at a time by their tops., And dip them into the cheesecake mix., Covering them to just under where to leafy tops rest., Place back on the tray and refrigerate for 10-15 minutes. this will help set the cheesecake., After this time., Remove the tray from the refrigerator., And set aside., Melt the chocolate for dipping as directed on the package., Take the strawberries., And while the chocolate is still runny., Dip the cheesecake-covered strawberries., One by one., Into it., Creating a second (chocolate) layer., Place the strawberries back on the tray and refrigerate for 30 minutes., Or until ready to serve.]   \n",
       "6                                                                                                                                                                                                                                                                                                                                                                                                                                                                                                                                              [Follow cake mix directions and pour batter in two circular 8\\\"/9\\\" pans., Bake according to cake mix directions (it's usually 30-35 min)., Take out when toothpick inserted in the center comes out clean., Make strawberry sauce by taking about 1-2 cups of strawberries and chopping up in chunks., Put in a metal pan and add sugar until sugar is carmilized and a syrup is formed at the bottom of the pan., Drain most of the syrup at the bottom of the pan., Take sauce and spread it on top of one of the cakes., After that., Take the other cake and put it on top of the strawberry topped one (the strawberries should now be sandwiched between the two cakes)., Take melted chocolate and you can either spread it on top or the whole thing., Spray whipped cream on top if desired., Enjoy!.]   \n",
       "7                                                                                                                                                                                                                                                                                                                                                                                                                                                                                                                                                                                                                                                                                                                                                                                                                                                                                                                                                                                                                                                                [Wash and dry strawberries leaving top on., Melt chocoate in a double broiler., Dip strawberries holding top and cover as much as possible., Dry on wax papaer lined cookie sheet., When almost dry., Take piece., Of dental floss and run through top to look like carrot -- dry completely.]   \n",
       "8                                                                                                                                                   [Line the base and sides of a round cake tin with greaseproof paper., Grease well., Sieve flour and cocoa powder into a bowl and put on one side., Put chocolate into a polythene bag., Tie it firmly and place in a bowl of hot water to melt the chocolate., Beat butter and sugar until light and fluffy., Beat in egg., A little at a time., Fold in the sieved flour and cocoa powder., Stir in the melted chocolate., Turn the mixture into the greased tin., Bake in a moderate oven for 1 hour 15 minutes or until the centre of the cake springs back when pressed with a finger., The cake top will have a light crust., Turn the cake onto a wire rack or onto a flat plate to cool., When the cake is completely cold., Cut it into two layers., Whip up the whipping cream as per the instructions on the sachet., Sandwich the two layers with some whipped cream., Cover the cake with the remaining whipped cream., Drizzle the grated chocolate over the cake but for a small strip., On which any type of colourful chocolate should be drizzled., Arrange the strawberries and m& m's all around the cake., Serve this yummy cake chilled at your child's next birthday party., Enjoy!.]   \n",
       "9  [Preheat the oven to 350f (175c)., Butter a 9-inch (23 cm) springform pan* and dust it with cocoa powder., Tapping out any excess. if you suspect your springform pan isn’t 100% water-tight., Wrap the outside with aluminum foil., Making sure it goes all the way up to the outer rim., Melt the chocolate and butter in a double boiler (or microwave)., Stirring occasionally., Until smooth. remove from heat., In a large bowl., Whisk together the eggs and sugar., Then whisk in the melted chocolate mixture until smooth., Pour the batter into the prepared springform pan and cover the top of the pan snugly with a sheet of foil. put the springform pan into a larger baking pan., Such as a roasting pan., And add enough hot water to the baking pan to come about halfway up to the outside of the cake pan., Bake for 1 hour and 15 minutes.  you’ll know the cake is done when it feels just set., Like quivering chocolate pudding. if you gently touch the center., Your finger should come away clean., Lift the cake pan from the water bath and remove the foil. let cake cool completely on a cooling rack., Serve thin wedges of this very rich cake at room temperature., With creme anglaise., Ice cream., Or whipped cream., Storage: this chocolate idiot cake can be wrapped and chilled in the refrigerator for 3-5 days.]   \n",
       "\n",
       "                      ingredient_quantities  \\\n",
       "0           [4, 2, 150, 100, 300, 5, 50, 2]   \n",
       "1                           [24 -30, 6, na]   \n",
       "2                                  [1/2, 3]   \n",
       "3                                [1, 1, na]   \n",
       "4                       [250, 4, 2, na, na]   \n",
       "5                                 [1, 2, 1]   \n",
       "6                    [1, 1 -2, 3 -5, 1, na]   \n",
       "7                                    [1, 1]   \n",
       "8  [125, 25, 75, 150, 150, 3, 2, 1, na, na]   \n",
       "9                             [10, 7, 5, 1]   \n",
       "\n",
       "                                                                           ingredients  \\\n",
       "0                                               [eggs, sugar, strawberries, chocolate]   \n",
       "1                                                            [strawberries, chocolate]   \n",
       "2                                                      [fresh strawberries, chocolate]   \n",
       "3                                                              [strawberry, chocolate]   \n",
       "4                                         [chocolate, eggs, strawberries, raspberries]   \n",
       "5                                                            [strawberries, chocolate]   \n",
       "6                                               [fresh strawberries, sugar, chocolate]   \n",
       "7                                                              [strawberry, chocolate]   \n",
       "8  [self-raising flour, chocolate, butter, sugar, eggs, fresh strawberries, chocolate]   \n",
       "9                                                     [chocolate, butter, eggs, sugar]   \n",
       "\n",
       "                                     ingredients_cleaned  \\\n",
       "0                           [egg, strawberry, chocolate]   \n",
       "1                                [strawberry, chocolate]   \n",
       "2                                [strawberry, chocolate]   \n",
       "3                                [strawberry, chocolate]   \n",
       "4                [chocolate, egg, strawberry, raspberry]   \n",
       "5                                [strawberry, chocolate]   \n",
       "6                                [strawberry, chocolate]   \n",
       "7                                [strawberry, chocolate]   \n",
       "8  [self raising, chocolate, egg, strawberry, chocolate]   \n",
       "9                                       [chocolate, egg]   \n",
       "\n",
       "                                                                                                                                                                  ingred_and_tags  \\\n",
       "0                                           [egg, strawberry, chocolate, frozen desserts, dessert, cookie & brownie, european, sweet, mixer, < 30 mins, freezer, small appliance]   \n",
       "1                                                                      [strawberry, chocolate, strawberry, berries, fruit, spring, summer, microwave, < 30 mins, stove top, easy]   \n",
       "2  [strawberry, chocolate, lunch/snacks, strawberry, berries, fruit, canadian, scottish, european, kid friendly, potluck, < 30 mins, beginner cook, stove top, easy, inexpensive]   \n",
       "3                                                                                [strawberry, chocolate, low cholesterol, healthy, free of..., < 15 mins, for large groups, easy]   \n",
       "4                                                                                                                        [chocolate, egg, strawberry, raspberry, < 30 mins, easy]   \n",
       "5                                                                                                            [strawberry, chocolate, strawberry, berries, fruit, < 4 hours, easy]   \n",
       "6                                                                        [strawberry, chocolate, strawberry, berries, fruit, kid friendly, sweet, < 60 mins, beginner cook, easy]   \n",
       "7                                                                                                            [strawberry, chocolate, strawberry, berries, fruit, < 60 mins, easy]   \n",
       "8                                      [self raising, chocolate, egg, strawberry, chocolate, strawberry, berries, fruit, asian, indian, kid friendly, weeknight, oven, < 4 hours]   \n",
       "9                                                                                                                                [chocolate, egg, beginner cook, < 4 hours, easy]   \n",
       "\n",
       "                                                     name      recipe_cat  \\\n",
       "0                               [Grand, Marnier, Parfait]   [Bar, Cookie]   \n",
       "1                       [Chocolate, Dipped, Strawberries]       [Dessert]   \n",
       "2                      [Chocolate, Covered, Strawberries]       [Dessert]   \n",
       "3                              [Skinny, Chick, Popsicles]  [Low, Protein]   \n",
       "4                                     [Chocolate, Mousse]       [Dessert]   \n",
       "5           [Chocolate-Covered, Cheesecake, Strawberries]       [Dessert]   \n",
       "6        [Easy, Chocolate, Topped, Strawberry, Shortcake]       [Dessert]   \n",
       "7   [Easter, Carrots, (Chocolate, Covered, Strawberries)]       [Dessert]   \n",
       "8   [Yummy, Birthday, Party, Chocolate, Strawberry, Cake]       [Dessert]   \n",
       "9  [Chocolate, Idiot, Cake, (Flourless, Chocolate, Cake)]       [Dessert]   \n",
       "\n",
       "                                                                                                                                                                                                         name_cat_ingred_tag  \n",
       "0                                                [Grand, Marnier, Parfait, Bar, Cookie, egg, strawberry, chocolate, frozen desserts, dessert, cookie & brownie, european, sweet, mixer, < 30 mins, freezer, small appliance]  \n",
       "1                                                                       [Chocolate, Dipped, Strawberries, Dessert, strawberry, chocolate, strawberry, berries, fruit, spring, summer, microwave, < 30 mins, stove top, easy]  \n",
       "2  [Chocolate, Covered, Strawberries, Dessert, strawberry, chocolate, lunch/snacks, strawberry, berries, fruit, canadian, scottish, european, kid friendly, potluck, < 30 mins, beginner cook, stove top, easy, inexpensive]  \n",
       "3                                                                                   [Skinny, Chick, Popsicles, Low, Protein, strawberry, chocolate, low cholesterol, healthy, free of..., < 15 mins, for large groups, easy]  \n",
       "4                                                                                                                                       [Chocolate, Mousse, Dessert, chocolate, egg, strawberry, raspberry, < 30 mins, easy]  \n",
       "5                                                                                                 [Chocolate-Covered, Cheesecake, Strawberries, Dessert, strawberry, chocolate, strawberry, berries, fruit, < 4 hours, easy]  \n",
       "6                                                          [Easy, Chocolate, Topped, Strawberry, Shortcake, Dessert, strawberry, chocolate, strawberry, berries, fruit, kid friendly, sweet, < 60 mins, beginner cook, easy]  \n",
       "7                                                                                         [Easter, Carrots, (Chocolate, Covered, Strawberries), Dessert, strawberry, chocolate, strawberry, berries, fruit, < 60 mins, easy]  \n",
       "8                   [Yummy, Birthday, Party, Chocolate, Strawberry, Cake, Dessert, self raising, chocolate, egg, strawberry, chocolate, strawberry, berries, fruit, asian, indian, kid friendly, weeknight, oven, < 4 hours]  \n",
       "9                                                                                                            [Chocolate, Idiot, Cake, (Flourless, Chocolate, Cake), Dessert, chocolate, egg, beginner cook, < 4 hours, easy]  "
      ]
     },
     "execution_count": 68,
     "metadata": {},
     "output_type": "execute_result"
    }
   ],
   "source": [
    "recipe_ingred_dict = {}\n",
    "for i in most_similar_ingred_list:\n",
    "    recipe_ingred_dict[i] = df.iloc[i].to_dict()\n",
    "\n",
    "most_similar_ingred_df = pd.DataFrame(recipe_ingred_dict).T.reset_index()\n",
    "\n",
    "most_similar_ingred_df"
   ]
  },
  {
   "cell_type": "markdown",
   "id": "58844b4f",
   "metadata": {
    "heading_collapsed": true
   },
   "source": [
    "## Building NLP model for tags/keywords"
   ]
  },
  {
   "cell_type": "markdown",
   "id": "cb62c7c7",
   "metadata": {
    "hidden": true
   },
   "source": [
    "### Applying tags to list of tags for each recipe"
   ]
  },
  {
   "cell_type": "code",
   "execution_count": 21,
   "id": "2dca7c24",
   "metadata": {
    "hidden": true
   },
   "outputs": [],
   "source": [
    "#tagging keywords\n",
    "tags_documents = [TaggedDocument(doc, [i]) for i, doc in enumerate(df['tags'])]"
   ]
  },
  {
   "cell_type": "markdown",
   "id": "762853c0",
   "metadata": {
    "hidden": true
   },
   "source": [
    "### Instatiate model and train"
   ]
  },
  {
   "cell_type": "code",
   "execution_count": 22,
   "id": "d957f133",
   "metadata": {
    "hidden": true
   },
   "outputs": [],
   "source": [
    "#building nlp model for tags\n",
    "doc_model_t = Doc2Vec(tags_documents, \n",
    "                      vector_size= 50, \n",
    "                      alpha = 0.025,\n",
    "                      min_count= 20, \n",
    "                      epochs = 50,\n",
    "                      window = 10,  \n",
    "                      dm=0)\n",
    "\n",
    "doc_model_t.build_vocab(tags_documents)\n",
    "\n",
    "doc_model_t.train(tags_documents, \n",
    "                total_examples = doc_model_t.corpus_count, \n",
    "                epochs= 100)"
   ]
  },
  {
   "cell_type": "markdown",
   "id": "61127d21",
   "metadata": {
    "hidden": true
   },
   "source": [
    "### Save trained model to local drive"
   ]
  },
  {
   "cell_type": "code",
   "execution_count": 37,
   "id": "36ed603d",
   "metadata": {
    "hidden": true
   },
   "outputs": [],
   "source": [
    "#uncomment below to save\n",
    "# doc_model_t.save(\"r_tags_d2v.model\")"
   ]
  },
  {
   "cell_type": "markdown",
   "id": "8cbf0fa4",
   "metadata": {
    "hidden": true
   },
   "source": [
    "### Vectorise user input of preferences"
   ]
  },
  {
   "cell_type": "code",
   "execution_count": 66,
   "id": "13822505",
   "metadata": {
    "hidden": true
   },
   "outputs": [],
   "source": [
    "input_tags = \"summer, easy, refresh\"\n",
    "\n",
    "tokens_tags= input_tags.split(\", \")\n",
    "new_vector_tags = doc_model_t.infer_vector(tokens_tags)\n",
    "most_similar_tags = doc_model_t.dv.most_similar([new_vector_tags], topn= 50)\n",
    "print(most_similar_tags)\n",
    "most_similar_tags_list = [x[0] for x in most_similar_tags]"
   ]
  },
  {
   "cell_type": "markdown",
   "id": "3fadd89c",
   "metadata": {
    "hidden": true
   },
   "source": [
    "### Return top 10 recipes based on most similar tags"
   ]
  },
  {
   "cell_type": "code",
   "execution_count": 65,
   "id": "54026825",
   "metadata": {
    "hidden": true
   },
   "outputs": [],
   "source": [
    "tags_dict = {}\n",
    "for i in most_similar_tags_list:\n",
    "    tags_dict[i] = df.iloc[i].to_dict()\n",
    "\n",
    "most_similar_tags_df = pd.DataFrame(tags_dict).T.reset_index()\n",
    "\n",
    "most_similar_tags_df"
   ]
  },
  {
   "cell_type": "markdown",
   "id": "2f8e78dd",
   "metadata": {
    "heading_collapsed": true
   },
   "source": [
    "## One model trained on both ingredients and tags"
   ]
  },
  {
   "cell_type": "markdown",
   "id": "ac5b5b65",
   "metadata": {
    "hidden": true
   },
   "source": [
    "### Applying tags"
   ]
  },
  {
   "cell_type": "code",
   "execution_count": 71,
   "id": "b9aa9823",
   "metadata": {
    "hidden": true
   },
   "outputs": [],
   "source": [
    "#tagging \n",
    "it_documents = [TaggedDocument(doc, [i]) for i, doc in enumerate(df['ingred_and_tags'])]"
   ]
  },
  {
   "cell_type": "markdown",
   "id": "fc48d485",
   "metadata": {
    "hidden": true
   },
   "source": [
    "### Instatiate model and train"
   ]
  },
  {
   "cell_type": "code",
   "execution_count": 72,
   "id": "35d459a5",
   "metadata": {
    "hidden": true
   },
   "outputs": [],
   "source": [
    "#building nlp model for ingredients\n",
    "\n",
    "doc_model_both = Doc2Vec(it_documents, \n",
    "                      vector_size= 100, \n",
    "                      alpha = 0.025,\n",
    "                      min_count= 100, \n",
    "                      epochs = 100,\n",
    "                      window = 10,  \n",
    "                      dm=0)\n",
    "\n",
    "doc_model_both.build_vocab(it_documents)\n",
    "\n",
    "doc_model_both.train(it_documents, \n",
    "                total_examples = doc_model_both.corpus_count, \n",
    "                epochs= doc_model_both.epochs)"
   ]
  },
  {
   "cell_type": "markdown",
   "id": "31e21467",
   "metadata": {
    "hidden": true
   },
   "source": [
    "### Save model"
   ]
  },
  {
   "cell_type": "code",
   "execution_count": 73,
   "id": "c5e76c56",
   "metadata": {
    "hidden": true
   },
   "outputs": [],
   "source": [
    "#uncomment below to save\n",
    "# doc_model_both.save(\"r_ingredtag_d2v.model\") #vector_size = 50, epochs = 100\n",
    "# doc_model_both.save(\"r_ingredtag_d2v_2.model\") #vector_size = 100, epochs = 100"
   ]
  },
  {
   "cell_type": "markdown",
   "id": "8621f002",
   "metadata": {
    "hidden": true
   },
   "source": [
    "### Vectorise user inputs"
   ]
  },
  {
   "cell_type": "code",
   "execution_count": 30,
   "id": "b1c5a8ca",
   "metadata": {
    "hidden": true
   },
   "outputs": [],
   "source": [
    "inputs = \"chicken, spinach, tomato, < 30 mins, easy\"\n",
    "\n",
    "tokens = inputs.split(\", \")\n",
    "vectors = doc_model_both.infer_vector(tokens)\n",
    "most_similar_vec = doc_model_both.dv.most_similar([vectors], topn= 10)\n",
    "# print(most_similar_vec)\n",
    "most_similar_vec_list = [x[0] for x in most_similar_vec]"
   ]
  },
  {
   "cell_type": "markdown",
   "id": "3b5cb0b0",
   "metadata": {
    "hidden": true
   },
   "source": [
    "### Return top 10 recipes based on highest similarities"
   ]
  },
  {
   "cell_type": "code",
   "execution_count": 37,
   "id": "90b6d2ca",
   "metadata": {
    "hidden": true
   },
   "outputs": [],
   "source": [
    "vec_dict = {}\n",
    "for i in most_similar_vec_list:\n",
    "    vec_dict[i] = df.iloc[i].to_dict()\n",
    "\n",
    "most_similar_vec_df = pd.DataFrame(vec_dict).T.reset_index()\n",
    "\n",
    "most_similar_vec_df.head(1)"
   ]
  },
  {
   "cell_type": "markdown",
   "id": "a63fcaa5",
   "metadata": {
    "heading_collapsed": true
   },
   "source": [
    "## One model trained on ingredients, tags, recipe name and categories"
   ]
  },
  {
   "cell_type": "markdown",
   "id": "01084462",
   "metadata": {
    "hidden": true
   },
   "source": [
    "### Applying tags"
   ]
  },
  {
   "cell_type": "code",
   "execution_count": 51,
   "id": "e1a30d28",
   "metadata": {
    "hidden": true
   },
   "outputs": [],
   "source": [
    "#tagging \n",
    "all_documents = [TaggedDocument(doc, [i]) for i, doc in enumerate(df['name_cat_ingred_tag'])]"
   ]
  },
  {
   "cell_type": "code",
   "execution_count": 69,
   "id": "c6ab9419",
   "metadata": {
    "hidden": true
   },
   "outputs": [],
   "source": [
    "#building nlp model for all\n",
    "\n",
    "doc_model_all = Doc2Vec(all_documents, \n",
    "                      vector_size= 100, \n",
    "                      alpha = 0.025,\n",
    "                      min_count= 100, \n",
    "                      epochs = 100,\n",
    "                      window = 15,  \n",
    "                      dm=0)\n",
    "\n",
    "doc_model_all.build_vocab(all_documents)\n",
    "\n",
    "doc_model_all.train(all_documents, \n",
    "                total_examples = doc_model_all.corpus_count, \n",
    "                epochs=doc_model_all.epochs)"
   ]
  },
  {
   "cell_type": "markdown",
   "id": "7babdc0b",
   "metadata": {
    "heading_collapsed": true,
    "hidden": true
   },
   "source": [
    "### Save model"
   ]
  },
  {
   "cell_type": "code",
   "execution_count": 80,
   "id": "074abe07",
   "metadata": {
    "hidden": true
   },
   "outputs": [],
   "source": [
    "# uncomment to save\n",
    "# doc_model_all.save('r_all_d2v.model') #vector_size_50 #epoch 100\n",
    "# doc_model_all.save('r_all_d2v_2.model') #vector_size_80 #epoch 100\n",
    "# doc_model_all.save('r_all_d2v_3.model') #vector_size_100 epoch 50\n",
    "# doc_model_all.save('r_all_d2v_4.model') #vector_size_100 epoch 100"
   ]
  },
  {
   "cell_type": "markdown",
   "id": "286a1dee",
   "metadata": {
    "hidden": true
   },
   "source": [
    "### Vectorise user inputs and return top 5 recipes based on highest similarity score"
   ]
  },
  {
   "cell_type": "code",
   "execution_count": 57,
   "id": "4e0989bb",
   "metadata": {
    "hidden": true
   },
   "outputs": [
    {
     "name": "stdout",
     "output_type": "stream",
     "text": [
      "[(429460, 0.8286301493644714), (455735, 0.8152256608009338), (72374, 0.7675464153289795), (222894, 0.7531178593635559), (105838, 0.7363920211791992)]\n"
     ]
    },
    {
     "data": {
      "text/html": [
       "<div>\n",
       "<style scoped>\n",
       "    .dataframe tbody tr th:only-of-type {\n",
       "        vertical-align: middle;\n",
       "    }\n",
       "\n",
       "    .dataframe tbody tr th {\n",
       "        vertical-align: top;\n",
       "    }\n",
       "\n",
       "    .dataframe thead th {\n",
       "        text-align: right;\n",
       "    }\n",
       "</style>\n",
       "<table border=\"1\" class=\"dataframe\">\n",
       "  <thead>\n",
       "    <tr style=\"text-align: right;\">\n",
       "      <th></th>\n",
       "      <th>index</th>\n",
       "      <th>Name</th>\n",
       "      <th>RecipeCategory</th>\n",
       "      <th>Calories</th>\n",
       "      <th>images</th>\n",
       "      <th>cook_time</th>\n",
       "      <th>prep_time</th>\n",
       "      <th>total_time</th>\n",
       "      <th>recipe_servings</th>\n",
       "      <th>tags</th>\n",
       "      <th>instructions</th>\n",
       "      <th>ingredient_quantities</th>\n",
       "      <th>ingredients</th>\n",
       "      <th>ingredients_cleaned</th>\n",
       "      <th>ingred_and_tags</th>\n",
       "      <th>name_cat_ingred_tag</th>\n",
       "    </tr>\n",
       "  </thead>\n",
       "  <tbody>\n",
       "    <tr>\n",
       "      <th>0</th>\n",
       "      <td>429460</td>\n",
       "      <td>Breakfast Burrito Scramble</td>\n",
       "      <td>Breakfast</td>\n",
       "      <td>89.9</td>\n",
       "      <td>[Not Provided]</td>\n",
       "      <td>10 Minute(s)</td>\n",
       "      <td>10 Minute(s)</td>\n",
       "      <td>20 Minute(s)</td>\n",
       "      <td>1</td>\n",
       "      <td>[&lt; 30 mins, easy]</td>\n",
       "      <td>[Combine the eggs., Salt., Pepper., And dillweed., And mix in a bowl. warm olive oil in skillet and add garlic., And onions to warmed skillet to sautee.  once golden., Add the eggs and scramble to satisfaction. after the eggs are scrambled to your satisfaction., Add the chopped tomatoes and cooked meat if desired. place in low carb or whole-wheat tortilla.  this is a very high protein., Filling., And very portable breakfast for those days when you’re on the go.]</td>\n",
       "      <td>[3, 1/4, 1, 1, na, 1, 1, 1/4]</td>\n",
       "      <td>[onion, tomatoes, garlic clove, spinach, salt, black pepper, ground chicken, olive oil]</td>\n",
       "      <td>[tomato, garlic, spinach, chicken]</td>\n",
       "      <td>[tomato, garlic, spinach, chicken, &lt; 30 mins, easy]</td>\n",
       "      <td>[Breakfast, Burrito, Scramble, Breakfast, tomato, garlic, spinach, chicken, &lt; 30 mins, easy]</td>\n",
       "    </tr>\n",
       "  </tbody>\n",
       "</table>\n",
       "</div>"
      ],
      "text/plain": [
       "    index                        Name RecipeCategory Calories          images  \\\n",
       "0  429460  Breakfast Burrito Scramble      Breakfast     89.9  [Not Provided]   \n",
       "\n",
       "       cook_time      prep_time     total_time recipe_servings  \\\n",
       "0  10 Minute(s)   10 Minute(s)   20 Minute(s)                1   \n",
       "\n",
       "                tags  \\\n",
       "0  [< 30 mins, easy]   \n",
       "\n",
       "                                                                                                                                                                                                                                                                                                                                                                                                                                                                         instructions  \\\n",
       "0  [Combine the eggs., Salt., Pepper., And dillweed., And mix in a bowl. warm olive oil in skillet and add garlic., And onions to warmed skillet to sautee.  once golden., Add the eggs and scramble to satisfaction. after the eggs are scrambled to your satisfaction., Add the chopped tomatoes and cooked meat if desired. place in low carb or whole-wheat tortilla.  this is a very high protein., Filling., And very portable breakfast for those days when you’re on the go.]   \n",
       "\n",
       "           ingredient_quantities  \\\n",
       "0  [3, 1/4, 1, 1, na, 1, 1, 1/4]   \n",
       "\n",
       "                                                                               ingredients  \\\n",
       "0  [onion, tomatoes, garlic clove, spinach, salt, black pepper, ground chicken, olive oil]   \n",
       "\n",
       "                  ingredients_cleaned  \\\n",
       "0  [tomato, garlic, spinach, chicken]   \n",
       "\n",
       "                                       ingred_and_tags  \\\n",
       "0  [tomato, garlic, spinach, chicken, < 30 mins, easy]   \n",
       "\n",
       "                                                                            name_cat_ingred_tag  \n",
       "0  [Breakfast, Burrito, Scramble, Breakfast, tomato, garlic, spinach, chicken, < 30 mins, easy]  "
      ]
     },
     "execution_count": 57,
     "metadata": {},
     "output_type": "execute_result"
    }
   ],
   "source": [
    "all_inputs = \"chicken, spinach, tomato, < 30 mins, easy\"\n",
    "\n",
    "all_tokens = all_inputs.split(\", \")\n",
    "all_vectors = doc_model_all.infer_vector(tokens)\n",
    "most_similar_all = doc_model_all.dv.most_similar([all_vectors], topn= 5)\n",
    "# print(most_similar_all)\n",
    "most_similar_all_list = [x[0] for x in most_similar_vec]\n",
    "\n",
    "all_dict = {}\n",
    "for i in most_similar_all_list:\n",
    "    all_dict[i] = df.iloc[i].to_dict()\n",
    "\n",
    "most_similar_vec_df = pd.DataFrame(all_dict).T.reset_index()\n",
    "\n",
    "most_similar_vec_df.head(1)"
   ]
  },
  {
   "cell_type": "markdown",
   "id": "57d23895",
   "metadata": {},
   "source": [
    "## One model trained on ingredients, tags and categories"
   ]
  },
  {
   "cell_type": "code",
   "execution_count": 4,
   "id": "e2f83e5d",
   "metadata": {
    "collapsed": true
   },
   "outputs": [
    {
     "data": {
      "text/html": [
       "<div>\n",
       "<style scoped>\n",
       "    .dataframe tbody tr th:only-of-type {\n",
       "        vertical-align: middle;\n",
       "    }\n",
       "\n",
       "    .dataframe tbody tr th {\n",
       "        vertical-align: top;\n",
       "    }\n",
       "\n",
       "    .dataframe thead th {\n",
       "        text-align: right;\n",
       "    }\n",
       "</style>\n",
       "<table border=\"1\" class=\"dataframe\">\n",
       "  <thead>\n",
       "    <tr style=\"text-align: right;\">\n",
       "      <th></th>\n",
       "      <th>Name</th>\n",
       "      <th>RecipeCategory</th>\n",
       "      <th>Calories</th>\n",
       "      <th>images</th>\n",
       "      <th>cook_time</th>\n",
       "      <th>prep_time</th>\n",
       "      <th>total_time</th>\n",
       "      <th>recipe_servings</th>\n",
       "      <th>tags</th>\n",
       "      <th>instructions</th>\n",
       "      <th>ingredient_quantities</th>\n",
       "      <th>ingredients</th>\n",
       "      <th>ingredients_cleaned</th>\n",
       "      <th>ingred_and_tags</th>\n",
       "      <th>name_cat_ingred_tag</th>\n",
       "      <th>cat_ingred_tag</th>\n",
       "    </tr>\n",
       "  </thead>\n",
       "  <tbody>\n",
       "    <tr>\n",
       "      <th>0</th>\n",
       "      <td>Low-Fat Berry Blue Frozen Dessert</td>\n",
       "      <td>Frozen Desserts</td>\n",
       "      <td>170.9</td>\n",
       "      <td>[https://img.sndimg.com/food/image/upload/w_555,h_416,c_fit,fl_progressive,q_95/v1/img/recipes/38/yueirxmlqaee1h3v3qnm_229%20berry%20blue%20frzn%20dess.jpg, https://img.sndimg.com/food/image/upload/w_555,h_416,c_fit,fl_progressive,q_95/v1/img/recipes/38/afpddhatwzq0b1cdpdat_255%20berry%20blue%20frzn%20dess.jpg, https://img.sndimg.com/food/image/upload/w_555,h_416,c_fit,fl_progressive,q_95/v1/img/recipes/38/uygf9nwmt2sggjcuzilo_228%20berry%20blue%20frzn%20dess.jpg, https://img.sndimg.com/food/image/upload/w_555,h_416,c_fit,fl_progressive,q_95/v1/img/recipes/38/pebmjn2tgsayks2759ba_20140722_202142.jpg, https://img.sndimg.com/food/image/upload/w_555,h_416,c_fit,fl_progressive,q_95/v1/img/recipes/38/picuaeten.jpg, https://img.sndimg.com/food/image/upload/w_555,h_416,c_fit,fl_progressive,q_95/v1/img/recipes/38/pictzvxw5.jpg]</td>\n",
       "      <td>24 Hour(s)</td>\n",
       "      <td>45 Minute(s)</td>\n",
       "      <td>24 Hour(s) 45 Minute(s)</td>\n",
       "      <td>4</td>\n",
       "      <td>[dessert, low protein, low cholesterol, healthy, free of..., summer, weeknight, freezer, easy]</td>\n",
       "      <td>[Toss 2 cups berries with sugar., Let stand for 45 minutes., Stirring occasionally., Transfer berry-sugar mixture to food processor., Add yogurt and process until smooth., Strain through fine sieve. pour into baking pan (or transfer to ice cream maker and process according to manufacturers' directions). freeze uncovered until edges are solid but centre is soft.  transfer to processor and blend until smooth again., Return to pan and freeze until edges are solid., Transfer to processor and blend until smooth again., Fold in remaining 2 cups of blueberries., Pour into plastic mold and freeze overnight. let soften slightly to serve.]</td>\n",
       "      <td>[4, 1/4, 1, 1]</td>\n",
       "      <td>[blueberries, granulated sugar, vanilla yogurt, lemon juice]</td>\n",
       "      <td>[blueberry, yogurt, lemon juice]</td>\n",
       "      <td>[blueberry, yogurt, lemon juice, dessert, low protein, low cholesterol, healthy, free of..., summer, weeknight, freezer, easy]</td>\n",
       "      <td>[Low-Fat, Berry, Blue, Frozen, Dessert, Frozen, Desserts, blueberry, yogurt, lemon juice, dessert, low protein, low cholesterol, healthy, free of..., summer, weeknight, freezer, easy]</td>\n",
       "      <td>[Frozen, Desserts, blueberry, yogurt, lemon juice, dessert, low protein, low cholesterol, healthy, free of..., summer, weeknight, freezer, easy]</td>\n",
       "    </tr>\n",
       "  </tbody>\n",
       "</table>\n",
       "</div>"
      ],
      "text/plain": [
       "                                Name   RecipeCategory  Calories  \\\n",
       "0  Low-Fat Berry Blue Frozen Dessert  Frozen Desserts     170.9   \n",
       "\n",
       "                                                                                                                                                                                                                                                                                                                                                                                                                                                                                                                                                                                                                                                                                                                                                                                                                                                            images  \\\n",
       "0  [https://img.sndimg.com/food/image/upload/w_555,h_416,c_fit,fl_progressive,q_95/v1/img/recipes/38/yueirxmlqaee1h3v3qnm_229%20berry%20blue%20frzn%20dess.jpg, https://img.sndimg.com/food/image/upload/w_555,h_416,c_fit,fl_progressive,q_95/v1/img/recipes/38/afpddhatwzq0b1cdpdat_255%20berry%20blue%20frzn%20dess.jpg, https://img.sndimg.com/food/image/upload/w_555,h_416,c_fit,fl_progressive,q_95/v1/img/recipes/38/uygf9nwmt2sggjcuzilo_228%20berry%20blue%20frzn%20dess.jpg, https://img.sndimg.com/food/image/upload/w_555,h_416,c_fit,fl_progressive,q_95/v1/img/recipes/38/pebmjn2tgsayks2759ba_20140722_202142.jpg, https://img.sndimg.com/food/image/upload/w_555,h_416,c_fit,fl_progressive,q_95/v1/img/recipes/38/picuaeten.jpg, https://img.sndimg.com/food/image/upload/w_555,h_416,c_fit,fl_progressive,q_95/v1/img/recipes/38/pictzvxw5.jpg]   \n",
       "\n",
       "     cook_time      prep_time                total_time recipe_servings  \\\n",
       "0  24 Hour(s)   45 Minute(s)   24 Hour(s) 45 Minute(s)                4   \n",
       "\n",
       "                                                                                             tags  \\\n",
       "0  [dessert, low protein, low cholesterol, healthy, free of..., summer, weeknight, freezer, easy]   \n",
       "\n",
       "                                                                                                                                                                                                                                                                                                                                                                                                                                                                                                                                                                                                                                                    instructions  \\\n",
       "0  [Toss 2 cups berries with sugar., Let stand for 45 minutes., Stirring occasionally., Transfer berry-sugar mixture to food processor., Add yogurt and process until smooth., Strain through fine sieve. pour into baking pan (or transfer to ice cream maker and process according to manufacturers' directions). freeze uncovered until edges are solid but centre is soft.  transfer to processor and blend until smooth again., Return to pan and freeze until edges are solid., Transfer to processor and blend until smooth again., Fold in remaining 2 cups of blueberries., Pour into plastic mold and freeze overnight. let soften slightly to serve.]   \n",
       "\n",
       "  ingredient_quantities  \\\n",
       "0        [4, 1/4, 1, 1]   \n",
       "\n",
       "                                                    ingredients  \\\n",
       "0  [blueberries, granulated sugar, vanilla yogurt, lemon juice]   \n",
       "\n",
       "                ingredients_cleaned  \\\n",
       "0  [blueberry, yogurt, lemon juice]   \n",
       "\n",
       "                                                                                                                  ingred_and_tags  \\\n",
       "0  [blueberry, yogurt, lemon juice, dessert, low protein, low cholesterol, healthy, free of..., summer, weeknight, freezer, easy]   \n",
       "\n",
       "                                                                                                                                                                       name_cat_ingred_tag  \\\n",
       "0  [Low-Fat, Berry, Blue, Frozen, Dessert, Frozen, Desserts, blueberry, yogurt, lemon juice, dessert, low protein, low cholesterol, healthy, free of..., summer, weeknight, freezer, easy]   \n",
       "\n",
       "                                                                                                                                     cat_ingred_tag  \n",
       "0  [Frozen, Desserts, blueberry, yogurt, lemon juice, dessert, low protein, low cholesterol, healthy, free of..., summer, weeknight, freezer, easy]  "
      ]
     },
     "execution_count": 4,
     "metadata": {},
     "output_type": "execute_result"
    }
   ],
   "source": [
    "df = pd.read_pickle(\"../../docker_data/final_cleaned_recipes_dataset.pkl\")\n",
    "df.head(1)"
   ]
  },
  {
   "cell_type": "code",
   "execution_count": 5,
   "id": "8cb4f4ad",
   "metadata": {},
   "outputs": [],
   "source": [
    "#tagging \n",
    "cit_documents = [TaggedDocument(doc, [i]) for i, doc in enumerate(df['cat_ingred_tag'])]"
   ]
  },
  {
   "cell_type": "code",
   "execution_count": 6,
   "id": "27cd9249",
   "metadata": {},
   "outputs": [],
   "source": [
    "#building nlp model for cit\n",
    "\n",
    "doc_model_cit = Doc2Vec(cit_documents, \n",
    "                      vector_size= 100, \n",
    "                      alpha = 0.025,\n",
    "                      min_count= 100, \n",
    "                      epochs = 100,\n",
    "                      window = 15,  \n",
    "                      dm=0)\n",
    "\n",
    "doc_model_cit.build_vocab(cit_documents)\n",
    "\n",
    "doc_model_cit.train(cit_documents, \n",
    "                total_examples = doc_model_cit.corpus_count, \n",
    "                epochs=doc_model_cit.epochs)"
   ]
  },
  {
   "cell_type": "code",
   "execution_count": 9,
   "id": "93cf1740",
   "metadata": {},
   "outputs": [],
   "source": [
    "doc_model_cit.save('nlp_model_cit_model') #vector_size_100 epoch 100"
   ]
  },
  {
   "cell_type": "code",
   "execution_count": 87,
   "id": "32103589",
   "metadata": {},
   "outputs": [
    {
     "data": {
      "text/html": [
       "<div>\n",
       "<style scoped>\n",
       "    .dataframe tbody tr th:only-of-type {\n",
       "        vertical-align: middle;\n",
       "    }\n",
       "\n",
       "    .dataframe tbody tr th {\n",
       "        vertical-align: top;\n",
       "    }\n",
       "\n",
       "    .dataframe thead th {\n",
       "        text-align: right;\n",
       "    }\n",
       "</style>\n",
       "<table border=\"1\" class=\"dataframe\">\n",
       "  <thead>\n",
       "    <tr style=\"text-align: right;\">\n",
       "      <th></th>\n",
       "      <th>index</th>\n",
       "      <th>Name</th>\n",
       "      <th>RecipeCategory</th>\n",
       "      <th>Calories</th>\n",
       "      <th>images</th>\n",
       "      <th>cook_time</th>\n",
       "      <th>prep_time</th>\n",
       "      <th>total_time</th>\n",
       "      <th>recipe_servings</th>\n",
       "      <th>tags</th>\n",
       "      <th>instructions</th>\n",
       "      <th>ingredient_quantities</th>\n",
       "      <th>ingredients</th>\n",
       "      <th>ingredients_cleaned</th>\n",
       "      <th>ingred_and_tags</th>\n",
       "      <th>name</th>\n",
       "      <th>recipe_cat</th>\n",
       "      <th>name_cat_ingred_tag</th>\n",
       "      <th>cat_ingred_tag</th>\n",
       "    </tr>\n",
       "  </thead>\n",
       "  <tbody>\n",
       "    <tr>\n",
       "      <th>0</th>\n",
       "      <td>429460</td>\n",
       "      <td>Breakfast Burrito Scramble</td>\n",
       "      <td>Breakfast</td>\n",
       "      <td>89.9</td>\n",
       "      <td>[Not Provided]</td>\n",
       "      <td>10 Minute(s)</td>\n",
       "      <td>10 Minute(s)</td>\n",
       "      <td>20 Minute(s)</td>\n",
       "      <td>1</td>\n",
       "      <td>[&lt; 30 mins, easy]</td>\n",
       "      <td>[Combine the eggs., Salt., Pepper., And dillweed., And mix in a bowl. warm olive oil in skillet and add garlic., And onions to warmed skillet to sautee.  once golden., Add the eggs and scramble to satisfaction. after the eggs are scrambled to your satisfaction., Add the chopped tomatoes and cooked meat if desired. place in low carb or whole-wheat tortilla.  this is a very high protein., Filling., And very portable breakfast for those days when you’re on the go.]</td>\n",
       "      <td>[3, 1/4, 1, 1, na, 1, 1, 1/4]</td>\n",
       "      <td>[onion, tomatoes, garlic clove, spinach, salt, black pepper, ground chicken, olive oil]</td>\n",
       "      <td>[tomato, garlic, spinach, chicken]</td>\n",
       "      <td>[tomato, garlic, spinach, chicken, &lt; 30 mins, easy]</td>\n",
       "      <td>[Breakfast, Burrito, Scramble]</td>\n",
       "      <td>[Breakfast]</td>\n",
       "      <td>[Breakfast, Burrito, Scramble, Breakfast, tomato, garlic, spinach, chicken, &lt; 30 mins, easy]</td>\n",
       "      <td>[Breakfast, tomato, garlic, spinach, chicken, &lt; 30 mins, easy]</td>\n",
       "    </tr>\n",
       "  </tbody>\n",
       "</table>\n",
       "</div>"
      ],
      "text/plain": [
       "    index                        Name RecipeCategory Calories          images  \\\n",
       "0  429460  Breakfast Burrito Scramble      Breakfast     89.9  [Not Provided]   \n",
       "\n",
       "       cook_time      prep_time     total_time recipe_servings  \\\n",
       "0  10 Minute(s)   10 Minute(s)   20 Minute(s)                1   \n",
       "\n",
       "                tags  \\\n",
       "0  [< 30 mins, easy]   \n",
       "\n",
       "                                                                                                                                                                                                                                                                                                                                                                                                                                                                         instructions  \\\n",
       "0  [Combine the eggs., Salt., Pepper., And dillweed., And mix in a bowl. warm olive oil in skillet and add garlic., And onions to warmed skillet to sautee.  once golden., Add the eggs and scramble to satisfaction. after the eggs are scrambled to your satisfaction., Add the chopped tomatoes and cooked meat if desired. place in low carb or whole-wheat tortilla.  this is a very high protein., Filling., And very portable breakfast for those days when you’re on the go.]   \n",
       "\n",
       "           ingredient_quantities  \\\n",
       "0  [3, 1/4, 1, 1, na, 1, 1, 1/4]   \n",
       "\n",
       "                                                                               ingredients  \\\n",
       "0  [onion, tomatoes, garlic clove, spinach, salt, black pepper, ground chicken, olive oil]   \n",
       "\n",
       "                  ingredients_cleaned  \\\n",
       "0  [tomato, garlic, spinach, chicken]   \n",
       "\n",
       "                                       ingred_and_tags  \\\n",
       "0  [tomato, garlic, spinach, chicken, < 30 mins, easy]   \n",
       "\n",
       "                             name   recipe_cat  \\\n",
       "0  [Breakfast, Burrito, Scramble]  [Breakfast]   \n",
       "\n",
       "                                                                            name_cat_ingred_tag  \\\n",
       "0  [Breakfast, Burrito, Scramble, Breakfast, tomato, garlic, spinach, chicken, < 30 mins, easy]   \n",
       "\n",
       "                                                   cat_ingred_tag  \n",
       "0  [Breakfast, tomato, garlic, spinach, chicken, < 30 mins, easy]  "
      ]
     },
     "execution_count": 87,
     "metadata": {},
     "output_type": "execute_result"
    }
   ],
   "source": [
    "all_inputs = \"chicken, spinach, tomato, < 30 mins, easy\"\n",
    "\n",
    "all_tokens = all_inputs.split(\", \")\n",
    "all_vectors = doc_model_all.infer_vector(tokens)\n",
    "most_similar_all = doc_model_all.dv.most_similar([all_vectors], topn= 5)\n",
    "# print(most_similar_all)\n",
    "most_similar_all_list = [x[0] for x in most_similar_vec]\n",
    "\n",
    "all_dict = {}\n",
    "for i in most_similar_all_list:\n",
    "    all_dict[i] = df.iloc[i].to_dict()\n",
    "\n",
    "most_similar_vec_df = pd.DataFrame(all_dict).T.reset_index()\n",
    "most_similar_vec_df.head(1)"
   ]
  }
 ],
 "metadata": {
  "kernelspec": {
   "display_name": "your_kitchen_ai",
   "language": "python",
   "name": "your_kitchen_ai"
  },
  "language_info": {
   "codemirror_mode": {
    "name": "ipython",
    "version": 3
   },
   "file_extension": ".py",
   "mimetype": "text/x-python",
   "name": "python",
   "nbconvert_exporter": "python",
   "pygments_lexer": "ipython3",
   "version": "3.10.6"
  },
  "toc": {
   "base_numbering": 1,
   "nav_menu": {},
   "number_sections": true,
   "sideBar": true,
   "skip_h1_title": false,
   "title_cell": "Table of Contents",
   "title_sidebar": "Contents",
   "toc_cell": false,
   "toc_position": {},
   "toc_section_display": true,
   "toc_window_display": false
  }
 },
 "nbformat": 4,
 "nbformat_minor": 5
}
