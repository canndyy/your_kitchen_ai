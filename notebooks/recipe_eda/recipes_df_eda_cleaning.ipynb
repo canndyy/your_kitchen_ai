{
 "cells": [
  {
   "cell_type": "markdown",
   "id": "c787628d",
   "metadata": {},
   "source": [
    "# Recipes dataset EDA and Cleaning"
   ]
  },
  {
   "cell_type": "markdown",
   "id": "ac224c7a",
   "metadata": {},
   "source": [
    "Link to datset: https://www.kaggle.com/datasets/irkaal/foodcom-recipes-and-reviews"
   ]
  },
  {
   "cell_type": "code",
   "execution_count": 1,
   "id": "ab7dfabc",
   "metadata": {},
   "outputs": [],
   "source": [
    "import pandas as pd\n",
    "import numpy as np\n",
    "import gensim.downloader\n",
    "import re\n",
    "from gensim.models import word2vec, phrases\n",
    "from gensim.parsing.preprocessing import remove_stopwords, strip_punctuation, strip_numeric,\\\n",
    "                    strip_non_alphanum, strip_multiple_whitespaces, strip_short\n",
    "from textblob import TextBlob, Word\n",
    "import collections\n",
    "from numpy import dot\n",
    "from numpy.linalg import norm\n",
    "from gensim.test.utils import common_texts\n",
    "from gensim.models.doc2vec import Doc2Vec, TaggedDocument"
   ]
  },
  {
   "cell_type": "code",
   "execution_count": 2,
   "id": "525a22e8",
   "metadata": {},
   "outputs": [],
   "source": [
    "# pd.set_option('display.max_rows', None)\n",
    "# pd.set_option('display.max_colwidth', None)\n",
    "# pd.set_option('display.max_columns', None)"
   ]
  },
  {
   "cell_type": "code",
   "execution_count": 28,
   "id": "48a273e7",
   "metadata": {},
   "outputs": [],
   "source": [
    "recipe_df = pd.read_csv('../../data/test_data/kaggle_recipes/r_food_recipes.csv')"
   ]
  },
  {
   "cell_type": "code",
   "execution_count": 29,
   "id": "c7aa856e",
   "metadata": {},
   "outputs": [
    {
     "name": "stdout",
     "output_type": "stream",
     "text": [
      "<class 'pandas.core.frame.DataFrame'>\n",
      "RangeIndex: 522517 entries, 0 to 522516\n",
      "Data columns (total 28 columns):\n",
      " #   Column                      Non-Null Count   Dtype  \n",
      "---  ------                      --------------   -----  \n",
      " 0   RecipeId                    522517 non-null  int64  \n",
      " 1   Name                        522517 non-null  object \n",
      " 2   AuthorId                    522517 non-null  int64  \n",
      " 3   AuthorName                  522517 non-null  object \n",
      " 4   CookTime                    439972 non-null  object \n",
      " 5   PrepTime                    522517 non-null  object \n",
      " 6   TotalTime                   522517 non-null  object \n",
      " 7   DatePublished               522517 non-null  object \n",
      " 8   Description                 522512 non-null  object \n",
      " 9   Images                      522516 non-null  object \n",
      " 10  RecipeCategory              521766 non-null  object \n",
      " 11  Keywords                    505280 non-null  object \n",
      " 12  RecipeIngredientQuantities  522514 non-null  object \n",
      " 13  RecipeIngredientParts       522517 non-null  object \n",
      " 14  AggregatedRating            269294 non-null  float64\n",
      " 15  ReviewCount                 275028 non-null  float64\n",
      " 16  Calories                    522517 non-null  float64\n",
      " 17  FatContent                  522517 non-null  float64\n",
      " 18  SaturatedFatContent         522517 non-null  float64\n",
      " 19  CholesterolContent          522517 non-null  float64\n",
      " 20  SodiumContent               522517 non-null  float64\n",
      " 21  CarbohydrateContent         522517 non-null  float64\n",
      " 22  FiberContent                522517 non-null  float64\n",
      " 23  SugarContent                522517 non-null  float64\n",
      " 24  ProteinContent              522517 non-null  float64\n",
      " 25  RecipeServings              339606 non-null  float64\n",
      " 26  RecipeYield                 174446 non-null  object \n",
      " 27  RecipeInstructions          522517 non-null  object \n",
      "dtypes: float64(12), int64(2), object(14)\n",
      "memory usage: 111.6+ MB\n"
     ]
    }
   ],
   "source": [
    "#----check for null values\n",
    "recipe_df.info()"
   ]
  },
  {
   "cell_type": "markdown",
   "id": "323d0137",
   "metadata": {},
   "source": [
    "## Cleaning DF"
   ]
  },
  {
   "cell_type": "code",
   "execution_count": 30,
   "id": "a596d8f5",
   "metadata": {},
   "outputs": [],
   "source": [
    "#----keep wanted columns\n",
    "recipe_df = recipe_df[[\"Name\", \"CookTime\",\"PrepTime\",\"TotalTime\",\"Images\",\"RecipeCategory\",\"Keywords\",\"RecipeIngredientQuantities\",\"RecipeIngredientParts\",\"Calories\",\"RecipeServings\",\"RecipeInstructions\"]]\n",
    "                       "
   ]
  },
  {
   "cell_type": "code",
   "execution_count": 31,
   "id": "86fef3b8",
   "metadata": {},
   "outputs": [],
   "source": [
    "#---make a copy so can go back to original dataset if needed\n",
    "new_recipe_df = recipe_df.copy()"
   ]
  },
  {
   "cell_type": "code",
   "execution_count": 32,
   "id": "e21ccb47",
   "metadata": {},
   "outputs": [
    {
     "data": {
      "text/html": [
       "<div>\n",
       "<style scoped>\n",
       "    .dataframe tbody tr th:only-of-type {\n",
       "        vertical-align: middle;\n",
       "    }\n",
       "\n",
       "    .dataframe tbody tr th {\n",
       "        vertical-align: top;\n",
       "    }\n",
       "\n",
       "    .dataframe thead th {\n",
       "        text-align: right;\n",
       "    }\n",
       "</style>\n",
       "<table border=\"1\" class=\"dataframe\">\n",
       "  <thead>\n",
       "    <tr style=\"text-align: right;\">\n",
       "      <th></th>\n",
       "      <th>Name</th>\n",
       "      <th>CookTime</th>\n",
       "      <th>PrepTime</th>\n",
       "      <th>TotalTime</th>\n",
       "      <th>Images</th>\n",
       "      <th>RecipeCategory</th>\n",
       "      <th>Keywords</th>\n",
       "      <th>RecipeIngredientQuantities</th>\n",
       "      <th>RecipeIngredientParts</th>\n",
       "      <th>Calories</th>\n",
       "      <th>RecipeServings</th>\n",
       "      <th>RecipeInstructions</th>\n",
       "    </tr>\n",
       "  </thead>\n",
       "  <tbody>\n",
       "    <tr>\n",
       "      <th>0</th>\n",
       "      <td>Low-Fat Berry Blue Frozen Dessert</td>\n",
       "      <td>PT24H</td>\n",
       "      <td>PT45M</td>\n",
       "      <td>PT24H45M</td>\n",
       "      <td>c(\"https://img.sndimg.com/food/image/upload/w_...</td>\n",
       "      <td>Frozen Desserts</td>\n",
       "      <td>c(\"Dessert\", \"Low Protein\", \"Low Cholesterol\",...</td>\n",
       "      <td>c(\"4\", \"1/4\", \"1\", \"1\")</td>\n",
       "      <td>c(\"blueberries\", \"granulated sugar\", \"vanilla ...</td>\n",
       "      <td>170.9</td>\n",
       "      <td>4.0</td>\n",
       "      <td>c(\"Toss 2 cups berries with sugar.\", \"Let stan...</td>\n",
       "    </tr>\n",
       "  </tbody>\n",
       "</table>\n",
       "</div>"
      ],
      "text/plain": [
       "                                Name CookTime PrepTime TotalTime  \\\n",
       "0  Low-Fat Berry Blue Frozen Dessert    PT24H    PT45M  PT24H45M   \n",
       "\n",
       "                                              Images   RecipeCategory  \\\n",
       "0  c(\"https://img.sndimg.com/food/image/upload/w_...  Frozen Desserts   \n",
       "\n",
       "                                            Keywords  \\\n",
       "0  c(\"Dessert\", \"Low Protein\", \"Low Cholesterol\",...   \n",
       "\n",
       "  RecipeIngredientQuantities  \\\n",
       "0    c(\"4\", \"1/4\", \"1\", \"1\")   \n",
       "\n",
       "                               RecipeIngredientParts  Calories  \\\n",
       "0  c(\"blueberries\", \"granulated sugar\", \"vanilla ...     170.9   \n",
       "\n",
       "   RecipeServings                                 RecipeInstructions  \n",
       "0             4.0  c(\"Toss 2 cups berries with sugar.\", \"Let stan...  "
      ]
     },
     "execution_count": 32,
     "metadata": {},
     "output_type": "execute_result"
    }
   ],
   "source": [
    "new_recipe_df.head(1)"
   ]
  },
  {
   "cell_type": "code",
   "execution_count": 33,
   "id": "b3eb4637",
   "metadata": {},
   "outputs": [
    {
     "name": "stdout",
     "output_type": "stream",
     "text": [
      "<class 'pandas.core.frame.DataFrame'>\n",
      "RangeIndex: 522517 entries, 0 to 522516\n",
      "Data columns (total 12 columns):\n",
      " #   Column                      Non-Null Count   Dtype  \n",
      "---  ------                      --------------   -----  \n",
      " 0   Name                        522517 non-null  object \n",
      " 1   CookTime                    439972 non-null  object \n",
      " 2   PrepTime                    522517 non-null  object \n",
      " 3   TotalTime                   522517 non-null  object \n",
      " 4   Images                      522516 non-null  object \n",
      " 5   RecipeCategory              521766 non-null  object \n",
      " 6   Keywords                    505280 non-null  object \n",
      " 7   RecipeIngredientQuantities  522514 non-null  object \n",
      " 8   RecipeIngredientParts       522517 non-null  object \n",
      " 9   Calories                    522517 non-null  float64\n",
      " 10  RecipeServings              339606 non-null  float64\n",
      " 11  RecipeInstructions          522517 non-null  object \n",
      "dtypes: float64(2), object(10)\n",
      "memory usage: 47.8+ MB\n"
     ]
    }
   ],
   "source": [
    "new_recipe_df.info()"
   ]
  },
  {
   "cell_type": "code",
   "execution_count": 34,
   "id": "e88f81e0",
   "metadata": {},
   "outputs": [],
   "source": [
    "#----Fill Null values with 'Not Provided'\n",
    "\n",
    "new_recipe_df[\"CookTime\"] = new_recipe_df['CookTime'].fillna(\"Not Provided\")\n",
    "new_recipe_df['RecipeCategory'] = new_recipe_df['RecipeCategory'].fillna(\"Not Provided\")\n",
    "new_recipe_df['RecipeServings'] = new_recipe_df['RecipeServings'].fillna(0).astype(\"int64\")\n",
    "new_recipe_df[\"Images\"] = new_recipe_df[\"Images\"].fillna(\"[haracter(0]\")"
   ]
  },
  {
   "cell_type": "code",
   "execution_count": 35,
   "id": "a9c35b08",
   "metadata": {},
   "outputs": [],
   "source": [
    "#----Clean receipe servings column \n",
    "\n",
    "def servings_clean(number):\n",
    "    if number == 0:\n",
    "        number = \"Not Provided\"\n",
    "    else:\n",
    "        number = number\n",
    "    return number\n"
   ]
  },
  {
   "cell_type": "code",
   "execution_count": 36,
   "id": "ad447ad2",
   "metadata": {},
   "outputs": [],
   "source": [
    "#----function to clean cook time, prep time and total time column into readable format\n",
    "\n",
    "def time_clean(string):\n",
    "    string = string.strip(\"PT\")\n",
    "    string = string.replace(\"H\", \" Hour(s) \")\n",
    "    string = string.replace(\"M\", \" Minute(s) \")\n",
    "    string = string.replace(\"S\", \" Second(s)\")\n",
    "    \n",
    "    return string\n"
   ]
  },
  {
   "cell_type": "code",
   "execution_count": 37,
   "id": "9898d0ee",
   "metadata": {},
   "outputs": [],
   "source": [
    "#----function to further clean instructions column to tidy up words and remove non-alpha + non-num values \n",
    "\n",
    "def further_clean_instructions(lst):\n",
    "    new_lst =[]\n",
    "    for x in lst:\n",
    "        x = x.lstrip('\\n\"').rstrip('.').capitalize()\n",
    "        x = x +\".\"\n",
    "        new_lst.append(x)\n",
    "    return new_lst\n"
   ]
  },
  {
   "cell_type": "code",
   "execution_count": 38,
   "id": "a22f91a9",
   "metadata": {},
   "outputs": [],
   "source": [
    "#----function to further clean images column to tidy up words and remove non-alpha + non-num values \n",
    "\n",
    "def further_clean_images(lst):\n",
    "    new_lst =[]\n",
    "    for x in lst:\n",
    "        if x == \"haracter(0\":\n",
    "            x = \"Not Provided\"\n",
    "        else:\n",
    "            x = x.lstrip('\\n\"').rstrip('.')\n",
    "        new_lst.append(x)\n",
    "    return new_lst"
   ]
  },
  {
   "cell_type": "code",
   "execution_count": 39,
   "id": "9b412ac0",
   "metadata": {},
   "outputs": [],
   "source": [
    "#----ingredients, and keywords and instructions are in string format, need to convert strings to list\n",
    "\n",
    "def string_to_list(string):\n",
    "    try:\n",
    "        st = string.strip(\"c()\").split(\", \")\n",
    "        s = [i.strip('\"\"').lower() for i in st]\n",
    "        return s\n",
    "    except:\n",
    "        s = [\"null\"]\n",
    "        return s"
   ]
  },
  {
   "cell_type": "code",
   "execution_count": 40,
   "id": "ecbc66b2",
   "metadata": {},
   "outputs": [],
   "source": [
    "#----apply cleaning to all columns\n",
    "\n",
    "new_recipe_df[\"images\"] = new_recipe_df[\"Images\"].apply(string_to_list).apply(further_clean_images)\n",
    "new_recipe_df[\"cook_time\"] = new_recipe_df[\"CookTime\"].apply(time_clean)\n",
    "new_recipe_df[\"prep_time\"] = new_recipe_df[\"PrepTime\"].apply(time_clean)\n",
    "new_recipe_df[\"total_time\"] = new_recipe_df[\"TotalTime\"].apply(time_clean)\n",
    "new_recipe_df['recipe_servings'] = new_recipe_df['RecipeServings'].apply(servings_clean)\n",
    "new_recipe_df[\"tags\"] = new_recipe_df[\"Keywords\"].apply(string_to_list)\n",
    "new_recipe_df[\"instructions\"] = new_recipe_df[\"RecipeInstructions\"].apply(string_to_list).apply(further_clean_instructions)\n",
    "new_recipe_df[\"ingredient_quantities\"] = new_recipe_df[\"RecipeIngredientQuantities\"].apply(string_to_list)\n",
    "\n",
    "new_recipe_df[\"ingredients\"] = new_recipe_df[\"RecipeIngredientParts\"].apply(string_to_list)\n"
   ]
  },
  {
   "cell_type": "code",
   "execution_count": 41,
   "id": "864be82e",
   "metadata": {},
   "outputs": [],
   "source": [
    "recipe_df_2 = new_recipe_df.drop(columns = [\"Images\", \"Keywords\", \"RecipeIngredientQuantities\"\\\n",
    "                                            , \"RecipeIngredientParts\", \"RecipeServings\",\"RecipeInstructions\"\\\n",
    "                                            , \"TotalTime\", \"CookTime\", \"PrepTime\"])\n"
   ]
  },
  {
   "cell_type": "markdown",
   "id": "28d6dc82",
   "metadata": {},
   "source": [
    "## Saving cleaned DF as pickle file for future use (not csv to retain list formats)"
   ]
  },
  {
   "cell_type": "code",
   "execution_count": 43,
   "id": "80543484",
   "metadata": {},
   "outputs": [],
   "source": [
    "# uncomment to save cleaned df as a pickle file\n",
    "# recipe_df_2.to_pickle(\"r_cleaned_recipes.pkl\")"
   ]
  },
  {
   "cell_type": "markdown",
   "id": "bd7dd584",
   "metadata": {},
   "source": [
    "## EDA on tags, ingredients, categories"
   ]
  },
  {
   "cell_type": "code",
   "execution_count": 13,
   "id": "f8423ddb",
   "metadata": {},
   "outputs": [],
   "source": [
    "#----EDA on keyword/tags --> df of tags and counts in descending order\n",
    "\n",
    "tag_list = []\n",
    "for x in recipe_df_2[\"tags\"]:\n",
    "    for y in x:\n",
    "        tag_list.append(y)\n",
    "        \n",
    "tag_df = pd.DataFrame(tag_list ,columns = [\"tags\"])\n",
    "tag_df[\"n_tags\"] = 1\n",
    "tags_order = tag_df.groupby(\"tags\").count().sort_values(\"n_tags\", ascending = False)"
   ]
  },
  {
   "cell_type": "code",
   "execution_count": null,
   "id": "60d5bd06",
   "metadata": {},
   "outputs": [],
   "source": [
    "# Uncomment to save csv file \n",
    "# tags_order.to_csv(r_n_tags_list.csv)"
   ]
  },
  {
   "cell_type": "code",
   "execution_count": 62,
   "id": "930851ea",
   "metadata": {},
   "outputs": [],
   "source": [
    "#----EDA on categories --> df of categories and counts in descending order\n",
    "\n",
    "cat_list = []\n",
    "cat_df = recipe_df_2[[\"RecipeCategory\"]] \n",
    "cat_df['n_cat'] = 1\n",
    "cat_order = cat_df.groupby(\"RecipeCategory\").sum().sort_values(\"n_cat\", ascending = False)\n"
   ]
  },
  {
   "cell_type": "code",
   "execution_count": null,
   "id": "555244d4",
   "metadata": {},
   "outputs": [],
   "source": [
    "# Uncomment to save csv file \n",
    "# cat_order.to_csv(r_n_cat_list.csv)"
   ]
  },
  {
   "cell_type": "code",
   "execution_count": 63,
   "id": "ea454d36",
   "metadata": {},
   "outputs": [],
   "source": [
    "#----EDA on ingredients --> df of ingredients and counts in descending order\n",
    "\n",
    "ingred_list =[]\n",
    "for x in new_recipe_df[\"ingredients\"]:\n",
    "    for y in x:\n",
    "        ingred_list.append(y)\n",
    "        \n",
    "ingred_df = pd.DataFrame(ingred_list, columns=[\"ingredients\"])\n",
    "ingred_df[\"n_ingred\"] = 1\n",
    "ingred_order = ingred_df.groupby(\"ingredients\").sum().sort_values(\"n_ingred\", ascending=False)\n",
    "ingred_order\n"
   ]
  },
  {
   "cell_type": "code",
   "execution_count": null,
   "id": "1804536e",
   "metadata": {},
   "outputs": [],
   "source": [
    "# Uncomment to save csv file \n",
    "# ingred_order.to_csv(r_n_ingred_list.csv)"
   ]
  }
 ],
 "metadata": {
  "kernelspec": {
   "display_name": "Python 3 (ipykernel)",
   "language": "python",
   "name": "python3"
  },
  "language_info": {
   "codemirror_mode": {
    "name": "ipython",
    "version": 3
   },
   "file_extension": ".py",
   "mimetype": "text/x-python",
   "name": "python",
   "nbconvert_exporter": "python",
   "pygments_lexer": "ipython3",
   "version": "3.10.6"
  },
  "toc": {
   "base_numbering": 1,
   "nav_menu": {},
   "number_sections": true,
   "sideBar": true,
   "skip_h1_title": false,
   "title_cell": "Table of Contents",
   "title_sidebar": "Contents",
   "toc_cell": false,
   "toc_position": {},
   "toc_section_display": true,
   "toc_window_display": false
  }
 },
 "nbformat": 4,
 "nbformat_minor": 5
}
