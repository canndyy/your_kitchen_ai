{
 "cells": [
  {
   "cell_type": "markdown",
   "id": "ba718dcd",
   "metadata": {},
   "source": [
    "# Testing NLP Models and Front-End Display"
   ]
  },
  {
   "cell_type": "code",
   "execution_count": 1,
   "id": "ff9391da",
   "metadata": {},
   "outputs": [],
   "source": [
    "import pandas as pd\n",
    "import numpy as np\n",
    "import gensim.downloader\n",
    "from gensim.models.doc2vec import Doc2Vec, TaggedDocument\n",
    "import collections\n",
    "import requests\n",
    "from PIL import Image\n",
    "from io import BytesIO\n",
    "from urllib.request import urlopen\n",
    "import matplotlib.pyplot as plt\n",
    "import matplotlib.image as mpimg"
   ]
  },
  {
   "cell_type": "code",
   "execution_count": 36,
   "id": "3bcbdbe7",
   "metadata": {},
   "outputs": [],
   "source": [
    "# pd.set_option('display.max_colwidth', None)"
   ]
  },
  {
   "cell_type": "markdown",
   "id": "0c202787",
   "metadata": {
    "heading_collapsed": true
   },
   "source": [
    "# Load DF as pickle file"
   ]
  },
  {
   "cell_type": "code",
   "execution_count": 59,
   "id": "1fc51390",
   "metadata": {
    "hidden": true
   },
   "outputs": [],
   "source": [
    "df = pd.read_pickle(\"../../data/test_data/kaggle_recipes/r_cleaned_recipes_3.pkl\")\n"
   ]
  },
  {
   "cell_type": "code",
   "execution_count": 69,
   "id": "6b72c305",
   "metadata": {
    "hidden": true
   },
   "outputs": [
    {
     "data": {
      "text/html": [
       "<div>\n",
       "<style scoped>\n",
       "    .dataframe tbody tr th:only-of-type {\n",
       "        vertical-align: middle;\n",
       "    }\n",
       "\n",
       "    .dataframe tbody tr th {\n",
       "        vertical-align: top;\n",
       "    }\n",
       "\n",
       "    .dataframe thead th {\n",
       "        text-align: right;\n",
       "    }\n",
       "</style>\n",
       "<table border=\"1\" class=\"dataframe\">\n",
       "  <thead>\n",
       "    <tr style=\"text-align: right;\">\n",
       "      <th></th>\n",
       "      <th>Name</th>\n",
       "      <th>RecipeCategory</th>\n",
       "      <th>Calories</th>\n",
       "      <th>images</th>\n",
       "      <th>cook_time</th>\n",
       "      <th>prep_time</th>\n",
       "      <th>total_time</th>\n",
       "      <th>recipe_servings</th>\n",
       "      <th>tags</th>\n",
       "      <th>instructions</th>\n",
       "      <th>ingredient_quantities</th>\n",
       "      <th>ingredients</th>\n",
       "      <th>ingredients_cleaned</th>\n",
       "      <th>ingred_and_tags</th>\n",
       "      <th>name_cat_ingred_tag</th>\n",
       "      <th>cat_ingred_tag</th>\n",
       "    </tr>\n",
       "  </thead>\n",
       "  <tbody>\n",
       "    <tr>\n",
       "      <th>0</th>\n",
       "      <td>Low-Fat Berry Blue Frozen Dessert</td>\n",
       "      <td>Frozen Desserts</td>\n",
       "      <td>170.9</td>\n",
       "      <td>[https://img.sndimg.com/food/image/upload/w_555,h_416,c_fit,fl_progressive,q_95/v1/img/recipes/38/yueirxmlqaee1h3v3qnm_229%20berry%20blue%20frzn%20dess.jpg, https://img.sndimg.com/food/image/upload/w_555,h_416,c_fit,fl_progressive,q_95/v1/img/recipes/38/afpddhatwzq0b1cdpdat_255%20berry%20blue%20frzn%20dess.jpg, https://img.sndimg.com/food/image/upload/w_555,h_416,c_fit,fl_progressive,q_95/v1/img/recipes/38/uygf9nwmt2sggjcuzilo_228%20berry%20blue%20frzn%20dess.jpg, https://img.sndimg.com/food/image/upload/w_555,h_416,c_fit,fl_progressive,q_95/v1/img/recipes/38/pebmjn2tgsayks2759ba_20140722_202142.jpg, https://img.sndimg.com/food/image/upload/w_555,h_416,c_fit,fl_progressive,q_95/v1/img/recipes/38/picuaeten.jpg, https://img.sndimg.com/food/image/upload/w_555,h_416,c_fit,fl_progressive,q_95/v1/img/recipes/38/pictzvxw5.jpg]</td>\n",
       "      <td>24 Hour(s)</td>\n",
       "      <td>45 Minute(s)</td>\n",
       "      <td>24 Hour(s) 45 Minute(s)</td>\n",
       "      <td>4</td>\n",
       "      <td>[dessert, low protein, low cholesterol, healthy, free of..., summer, weeknight, freezer, easy]</td>\n",
       "      <td>[Toss 2 cups berries with sugar., Let stand for 45 minutes., Stirring occasionally., Transfer berry-sugar mixture to food processor., Add yogurt and process until smooth., Strain through fine sieve. pour into baking pan (or transfer to ice cream maker and process according to manufacturers' directions). freeze uncovered until edges are solid but centre is soft.  transfer to processor and blend until smooth again., Return to pan and freeze until edges are solid., Transfer to processor and blend until smooth again., Fold in remaining 2 cups of blueberries., Pour into plastic mold and freeze overnight. let soften slightly to serve.]</td>\n",
       "      <td>[4, 1/4, 1, 1]</td>\n",
       "      <td>[blueberries, granulated sugar, vanilla yogurt, lemon juice]</td>\n",
       "      <td>[blueberry, yogurt, lemon juice]</td>\n",
       "      <td>[blueberry, yogurt, lemon juice, dessert, low protein, low cholesterol, healthy, free of..., summer, weeknight, freezer, easy]</td>\n",
       "      <td>[Low-Fat, Berry, Blue, Frozen, Dessert, Frozen, Desserts, blueberry, yogurt, lemon juice, dessert, low protein, low cholesterol, healthy, free of..., summer, weeknight, freezer, easy]</td>\n",
       "      <td>[Frozen, Desserts, blueberry, yogurt, lemon juice, dessert, low protein, low cholesterol, healthy, free of..., summer, weeknight, freezer, easy]</td>\n",
       "    </tr>\n",
       "  </tbody>\n",
       "</table>\n",
       "</div>"
      ],
      "text/plain": [
       "                                Name   RecipeCategory  Calories  \\\n",
       "0  Low-Fat Berry Blue Frozen Dessert  Frozen Desserts     170.9   \n",
       "\n",
       "                                                                                                                                                                                                                                                                                                                                                                                                                                                                                                                                                                                                                                                                                                                                                                                                                                                            images  \\\n",
       "0  [https://img.sndimg.com/food/image/upload/w_555,h_416,c_fit,fl_progressive,q_95/v1/img/recipes/38/yueirxmlqaee1h3v3qnm_229%20berry%20blue%20frzn%20dess.jpg, https://img.sndimg.com/food/image/upload/w_555,h_416,c_fit,fl_progressive,q_95/v1/img/recipes/38/afpddhatwzq0b1cdpdat_255%20berry%20blue%20frzn%20dess.jpg, https://img.sndimg.com/food/image/upload/w_555,h_416,c_fit,fl_progressive,q_95/v1/img/recipes/38/uygf9nwmt2sggjcuzilo_228%20berry%20blue%20frzn%20dess.jpg, https://img.sndimg.com/food/image/upload/w_555,h_416,c_fit,fl_progressive,q_95/v1/img/recipes/38/pebmjn2tgsayks2759ba_20140722_202142.jpg, https://img.sndimg.com/food/image/upload/w_555,h_416,c_fit,fl_progressive,q_95/v1/img/recipes/38/picuaeten.jpg, https://img.sndimg.com/food/image/upload/w_555,h_416,c_fit,fl_progressive,q_95/v1/img/recipes/38/pictzvxw5.jpg]   \n",
       "\n",
       "     cook_time      prep_time                total_time recipe_servings  \\\n",
       "0  24 Hour(s)   45 Minute(s)   24 Hour(s) 45 Minute(s)                4   \n",
       "\n",
       "                                                                                             tags  \\\n",
       "0  [dessert, low protein, low cholesterol, healthy, free of..., summer, weeknight, freezer, easy]   \n",
       "\n",
       "                                                                                                                                                                                                                                                                                                                                                                                                                                                                                                                                                                                                                                                    instructions  \\\n",
       "0  [Toss 2 cups berries with sugar., Let stand for 45 minutes., Stirring occasionally., Transfer berry-sugar mixture to food processor., Add yogurt and process until smooth., Strain through fine sieve. pour into baking pan (or transfer to ice cream maker and process according to manufacturers' directions). freeze uncovered until edges are solid but centre is soft.  transfer to processor and blend until smooth again., Return to pan and freeze until edges are solid., Transfer to processor and blend until smooth again., Fold in remaining 2 cups of blueberries., Pour into plastic mold and freeze overnight. let soften slightly to serve.]   \n",
       "\n",
       "  ingredient_quantities  \\\n",
       "0        [4, 1/4, 1, 1]   \n",
       "\n",
       "                                                    ingredients  \\\n",
       "0  [blueberries, granulated sugar, vanilla yogurt, lemon juice]   \n",
       "\n",
       "                ingredients_cleaned  \\\n",
       "0  [blueberry, yogurt, lemon juice]   \n",
       "\n",
       "                                                                                                                  ingred_and_tags  \\\n",
       "0  [blueberry, yogurt, lemon juice, dessert, low protein, low cholesterol, healthy, free of..., summer, weeknight, freezer, easy]   \n",
       "\n",
       "                                                                                                                                                                       name_cat_ingred_tag  \\\n",
       "0  [Low-Fat, Berry, Blue, Frozen, Dessert, Frozen, Desserts, blueberry, yogurt, lemon juice, dessert, low protein, low cholesterol, healthy, free of..., summer, weeknight, freezer, easy]   \n",
       "\n",
       "                                                                                                                                     cat_ingred_tag  \n",
       "0  [Frozen, Desserts, blueberry, yogurt, lemon juice, dessert, low protein, low cholesterol, healthy, free of..., summer, weeknight, freezer, easy]  "
      ]
     },
     "execution_count": 69,
     "metadata": {},
     "output_type": "execute_result"
    }
   ],
   "source": [
    "df.head(1)"
   ]
  },
  {
   "cell_type": "markdown",
   "id": "9a8ba37c",
   "metadata": {},
   "source": [
    "# Setting inputs of ingredients and preference"
   ]
  },
  {
   "cell_type": "code",
   "execution_count": 112,
   "id": "df51b838",
   "metadata": {},
   "outputs": [],
   "source": [
    "input_ingred = \"chicken, potato, carrot\"\n",
    "input_tags = \"easy, healthy\""
   ]
  },
  {
   "cell_type": "markdown",
   "id": "0f4b8b67",
   "metadata": {
    "heading_collapsed": true
   },
   "source": [
    "# Test 1 - combining two NLP models with different weights"
   ]
  },
  {
   "cell_type": "markdown",
   "id": "267cc02c",
   "metadata": {
    "heading_collapsed": true,
    "hidden": true
   },
   "source": [
    "## Load models"
   ]
  },
  {
   "cell_type": "code",
   "execution_count": 38,
   "id": "839cacef",
   "metadata": {
    "hidden": true
   },
   "outputs": [
    {
     "ename": "FileNotFoundError",
     "evalue": "[Errno 2] No such file or directory: 'nlp_models/r_ingred_d2v.model'",
     "output_type": "error",
     "traceback": [
      "\u001b[0;31m---------------------------------------------------------------------------\u001b[0m",
      "\u001b[0;31mFileNotFoundError\u001b[0m                         Traceback (most recent call last)",
      "Cell \u001b[0;32mIn[38], line 1\u001b[0m\n\u001b[0;32m----> 1\u001b[0m model_i \u001b[38;5;241m=\u001b[39m \u001b[43mDoc2Vec\u001b[49m\u001b[38;5;241;43m.\u001b[39;49m\u001b[43mload\u001b[49m\u001b[43m(\u001b[49m\u001b[38;5;124;43m\"\u001b[39;49m\u001b[38;5;124;43mnlp_models/r_ingred_d2v.model\u001b[39;49m\u001b[38;5;124;43m\"\u001b[39;49m\u001b[43m)\u001b[49m \u001b[38;5;66;03m#vector_size = 50, epochs = 100\u001b[39;00m\n\u001b[1;32m      2\u001b[0m model_t \u001b[38;5;241m=\u001b[39m Doc2Vec\u001b[38;5;241m.\u001b[39mload(\u001b[38;5;124m\"\u001b[39m\u001b[38;5;124mnlp_models/r_tags_d2v.model\u001b[39m\u001b[38;5;124m\"\u001b[39m) \u001b[38;5;66;03m#vector_size 50, epochs = 100\u001b[39;00m\n",
      "File \u001b[0;32m~/.pyenv/versions/3.10.6/envs/your_kitchen_ai/lib/python3.10/site-packages/gensim/models/doc2vec.py:809\u001b[0m, in \u001b[0;36mDoc2Vec.load\u001b[0;34m(cls, *args, **kwargs)\u001b[0m\n\u001b[1;32m    786\u001b[0m \u001b[38;5;250m\u001b[39m\u001b[38;5;124;03m\"\"\"Load a previously saved :class:`~gensim.models.doc2vec.Doc2Vec` model.\u001b[39;00m\n\u001b[1;32m    787\u001b[0m \n\u001b[1;32m    788\u001b[0m \u001b[38;5;124;03mParameters\u001b[39;00m\n\u001b[0;32m   (...)\u001b[0m\n\u001b[1;32m    806\u001b[0m \n\u001b[1;32m    807\u001b[0m \u001b[38;5;124;03m\"\"\"\u001b[39;00m\n\u001b[1;32m    808\u001b[0m \u001b[38;5;28;01mtry\u001b[39;00m:\n\u001b[0;32m--> 809\u001b[0m     \u001b[38;5;28;01mreturn\u001b[39;00m \u001b[38;5;28;43msuper\u001b[39;49m\u001b[43m(\u001b[49m\u001b[43mDoc2Vec\u001b[49m\u001b[43m,\u001b[49m\u001b[43m \u001b[49m\u001b[38;5;28;43mcls\u001b[39;49m\u001b[43m)\u001b[49m\u001b[38;5;241;43m.\u001b[39;49m\u001b[43mload\u001b[49m\u001b[43m(\u001b[49m\u001b[38;5;241;43m*\u001b[39;49m\u001b[43margs\u001b[49m\u001b[43m,\u001b[49m\u001b[43m \u001b[49m\u001b[43mrethrow\u001b[49m\u001b[38;5;241;43m=\u001b[39;49m\u001b[38;5;28;43;01mTrue\u001b[39;49;00m\u001b[43m,\u001b[49m\u001b[43m \u001b[49m\u001b[38;5;241;43m*\u001b[39;49m\u001b[38;5;241;43m*\u001b[39;49m\u001b[43mkwargs\u001b[49m\u001b[43m)\u001b[49m\n\u001b[1;32m    810\u001b[0m \u001b[38;5;28;01mexcept\u001b[39;00m \u001b[38;5;167;01mAttributeError\u001b[39;00m \u001b[38;5;28;01mas\u001b[39;00m ae:\n\u001b[1;32m    811\u001b[0m     logger\u001b[38;5;241m.\u001b[39merror(\n\u001b[1;32m    812\u001b[0m         \u001b[38;5;124m\"\u001b[39m\u001b[38;5;124mModel load error. Was model saved using code from an older Gensim version? \u001b[39m\u001b[38;5;124m\"\u001b[39m\n\u001b[1;32m    813\u001b[0m         \u001b[38;5;124m\"\u001b[39m\u001b[38;5;124mTry loading older model using gensim-3.8.3, then re-saving, to restore \u001b[39m\u001b[38;5;124m\"\u001b[39m\n\u001b[1;32m    814\u001b[0m         \u001b[38;5;124m\"\u001b[39m\u001b[38;5;124mcompatibility with current code.\u001b[39m\u001b[38;5;124m\"\u001b[39m)\n",
      "File \u001b[0;32m~/.pyenv/versions/3.10.6/envs/your_kitchen_ai/lib/python3.10/site-packages/gensim/models/word2vec.py:1942\u001b[0m, in \u001b[0;36mWord2Vec.load\u001b[0;34m(cls, rethrow, *args, **kwargs)\u001b[0m\n\u001b[1;32m   1923\u001b[0m \u001b[38;5;250m\u001b[39m\u001b[38;5;124;03m\"\"\"Load a previously saved :class:`~gensim.models.word2vec.Word2Vec` model.\u001b[39;00m\n\u001b[1;32m   1924\u001b[0m \n\u001b[1;32m   1925\u001b[0m \u001b[38;5;124;03mSee Also\u001b[39;00m\n\u001b[0;32m   (...)\u001b[0m\n\u001b[1;32m   1939\u001b[0m \n\u001b[1;32m   1940\u001b[0m \u001b[38;5;124;03m\"\"\"\u001b[39;00m\n\u001b[1;32m   1941\u001b[0m \u001b[38;5;28;01mtry\u001b[39;00m:\n\u001b[0;32m-> 1942\u001b[0m     model \u001b[38;5;241m=\u001b[39m \u001b[38;5;28;43msuper\u001b[39;49m\u001b[43m(\u001b[49m\u001b[43mWord2Vec\u001b[49m\u001b[43m,\u001b[49m\u001b[43m \u001b[49m\u001b[38;5;28;43mcls\u001b[39;49m\u001b[43m)\u001b[49m\u001b[38;5;241;43m.\u001b[39;49m\u001b[43mload\u001b[49m\u001b[43m(\u001b[49m\u001b[38;5;241;43m*\u001b[39;49m\u001b[43margs\u001b[49m\u001b[43m,\u001b[49m\u001b[43m \u001b[49m\u001b[38;5;241;43m*\u001b[39;49m\u001b[38;5;241;43m*\u001b[39;49m\u001b[43mkwargs\u001b[49m\u001b[43m)\u001b[49m\n\u001b[1;32m   1943\u001b[0m     \u001b[38;5;28;01mif\u001b[39;00m \u001b[38;5;129;01mnot\u001b[39;00m \u001b[38;5;28misinstance\u001b[39m(model, Word2Vec):\n\u001b[1;32m   1944\u001b[0m         rethrow \u001b[38;5;241m=\u001b[39m \u001b[38;5;28;01mTrue\u001b[39;00m\n",
      "File \u001b[0;32m~/.pyenv/versions/3.10.6/envs/your_kitchen_ai/lib/python3.10/site-packages/gensim/utils.py:486\u001b[0m, in \u001b[0;36mSaveLoad.load\u001b[0;34m(cls, fname, mmap)\u001b[0m\n\u001b[1;32m    482\u001b[0m logger\u001b[38;5;241m.\u001b[39minfo(\u001b[38;5;124m\"\u001b[39m\u001b[38;5;124mloading \u001b[39m\u001b[38;5;132;01m%s\u001b[39;00m\u001b[38;5;124m object from \u001b[39m\u001b[38;5;132;01m%s\u001b[39;00m\u001b[38;5;124m\"\u001b[39m, \u001b[38;5;28mcls\u001b[39m\u001b[38;5;241m.\u001b[39m\u001b[38;5;18m__name__\u001b[39m, fname)\n\u001b[1;32m    484\u001b[0m compress, subname \u001b[38;5;241m=\u001b[39m SaveLoad\u001b[38;5;241m.\u001b[39m_adapt_by_suffix(fname)\n\u001b[0;32m--> 486\u001b[0m obj \u001b[38;5;241m=\u001b[39m \u001b[43munpickle\u001b[49m\u001b[43m(\u001b[49m\u001b[43mfname\u001b[49m\u001b[43m)\u001b[49m\n\u001b[1;32m    487\u001b[0m obj\u001b[38;5;241m.\u001b[39m_load_specials(fname, mmap, compress, subname)\n\u001b[1;32m    488\u001b[0m obj\u001b[38;5;241m.\u001b[39madd_lifecycle_event(\u001b[38;5;124m\"\u001b[39m\u001b[38;5;124mloaded\u001b[39m\u001b[38;5;124m\"\u001b[39m, fname\u001b[38;5;241m=\u001b[39mfname)\n",
      "File \u001b[0;32m~/.pyenv/versions/3.10.6/envs/your_kitchen_ai/lib/python3.10/site-packages/gensim/utils.py:1460\u001b[0m, in \u001b[0;36munpickle\u001b[0;34m(fname)\u001b[0m\n\u001b[1;32m   1446\u001b[0m \u001b[38;5;28;01mdef\u001b[39;00m \u001b[38;5;21munpickle\u001b[39m(fname):\n\u001b[1;32m   1447\u001b[0m \u001b[38;5;250m    \u001b[39m\u001b[38;5;124;03m\"\"\"Load object from `fname`, using smart_open so that `fname` can be on S3, HDFS, compressed etc.\u001b[39;00m\n\u001b[1;32m   1448\u001b[0m \n\u001b[1;32m   1449\u001b[0m \u001b[38;5;124;03m    Parameters\u001b[39;00m\n\u001b[0;32m   (...)\u001b[0m\n\u001b[1;32m   1458\u001b[0m \n\u001b[1;32m   1459\u001b[0m \u001b[38;5;124;03m    \"\"\"\u001b[39;00m\n\u001b[0;32m-> 1460\u001b[0m     \u001b[38;5;28;01mwith\u001b[39;00m \u001b[38;5;28;43mopen\u001b[39;49m\u001b[43m(\u001b[49m\u001b[43mfname\u001b[49m\u001b[43m,\u001b[49m\u001b[43m \u001b[49m\u001b[38;5;124;43m'\u001b[39;49m\u001b[38;5;124;43mrb\u001b[39;49m\u001b[38;5;124;43m'\u001b[39;49m\u001b[43m)\u001b[49m \u001b[38;5;28;01mas\u001b[39;00m f:\n\u001b[1;32m   1461\u001b[0m         \u001b[38;5;28;01mreturn\u001b[39;00m _pickle\u001b[38;5;241m.\u001b[39mload(f, encoding\u001b[38;5;241m=\u001b[39m\u001b[38;5;124m'\u001b[39m\u001b[38;5;124mlatin1\u001b[39m\u001b[38;5;124m'\u001b[39m)\n",
      "File \u001b[0;32m~/.pyenv/versions/3.10.6/envs/your_kitchen_ai/lib/python3.10/site-packages/smart_open/smart_open_lib.py:177\u001b[0m, in \u001b[0;36mopen\u001b[0;34m(uri, mode, buffering, encoding, errors, newline, closefd, opener, compression, transport_params)\u001b[0m\n\u001b[1;32m    174\u001b[0m \u001b[38;5;28;01mif\u001b[39;00m transport_params \u001b[38;5;129;01mis\u001b[39;00m \u001b[38;5;28;01mNone\u001b[39;00m:\n\u001b[1;32m    175\u001b[0m     transport_params \u001b[38;5;241m=\u001b[39m {}\n\u001b[0;32m--> 177\u001b[0m fobj \u001b[38;5;241m=\u001b[39m \u001b[43m_shortcut_open\u001b[49m\u001b[43m(\u001b[49m\n\u001b[1;32m    178\u001b[0m \u001b[43m    \u001b[49m\u001b[43muri\u001b[49m\u001b[43m,\u001b[49m\n\u001b[1;32m    179\u001b[0m \u001b[43m    \u001b[49m\u001b[43mmode\u001b[49m\u001b[43m,\u001b[49m\n\u001b[1;32m    180\u001b[0m \u001b[43m    \u001b[49m\u001b[43mcompression\u001b[49m\u001b[38;5;241;43m=\u001b[39;49m\u001b[43mcompression\u001b[49m\u001b[43m,\u001b[49m\n\u001b[1;32m    181\u001b[0m \u001b[43m    \u001b[49m\u001b[43mbuffering\u001b[49m\u001b[38;5;241;43m=\u001b[39;49m\u001b[43mbuffering\u001b[49m\u001b[43m,\u001b[49m\n\u001b[1;32m    182\u001b[0m \u001b[43m    \u001b[49m\u001b[43mencoding\u001b[49m\u001b[38;5;241;43m=\u001b[39;49m\u001b[43mencoding\u001b[49m\u001b[43m,\u001b[49m\n\u001b[1;32m    183\u001b[0m \u001b[43m    \u001b[49m\u001b[43merrors\u001b[49m\u001b[38;5;241;43m=\u001b[39;49m\u001b[43merrors\u001b[49m\u001b[43m,\u001b[49m\n\u001b[1;32m    184\u001b[0m \u001b[43m    \u001b[49m\u001b[43mnewline\u001b[49m\u001b[38;5;241;43m=\u001b[39;49m\u001b[43mnewline\u001b[49m\u001b[43m,\u001b[49m\n\u001b[1;32m    185\u001b[0m \u001b[43m\u001b[49m\u001b[43m)\u001b[49m\n\u001b[1;32m    186\u001b[0m \u001b[38;5;28;01mif\u001b[39;00m fobj \u001b[38;5;129;01mis\u001b[39;00m \u001b[38;5;129;01mnot\u001b[39;00m \u001b[38;5;28;01mNone\u001b[39;00m:\n\u001b[1;32m    187\u001b[0m     \u001b[38;5;28;01mreturn\u001b[39;00m fobj\n",
      "File \u001b[0;32m~/.pyenv/versions/3.10.6/envs/your_kitchen_ai/lib/python3.10/site-packages/smart_open/smart_open_lib.py:363\u001b[0m, in \u001b[0;36m_shortcut_open\u001b[0;34m(uri, mode, compression, buffering, encoding, errors, newline)\u001b[0m\n\u001b[1;32m    360\u001b[0m \u001b[38;5;28;01mif\u001b[39;00m errors \u001b[38;5;129;01mand\u001b[39;00m \u001b[38;5;124m'\u001b[39m\u001b[38;5;124mb\u001b[39m\u001b[38;5;124m'\u001b[39m \u001b[38;5;129;01mnot\u001b[39;00m \u001b[38;5;129;01min\u001b[39;00m mode:\n\u001b[1;32m    361\u001b[0m     open_kwargs[\u001b[38;5;124m'\u001b[39m\u001b[38;5;124merrors\u001b[39m\u001b[38;5;124m'\u001b[39m] \u001b[38;5;241m=\u001b[39m errors\n\u001b[0;32m--> 363\u001b[0m \u001b[38;5;28;01mreturn\u001b[39;00m \u001b[43m_builtin_open\u001b[49m\u001b[43m(\u001b[49m\u001b[43mlocal_path\u001b[49m\u001b[43m,\u001b[49m\u001b[43m \u001b[49m\u001b[43mmode\u001b[49m\u001b[43m,\u001b[49m\u001b[43m \u001b[49m\u001b[43mbuffering\u001b[49m\u001b[38;5;241;43m=\u001b[39;49m\u001b[43mbuffering\u001b[49m\u001b[43m,\u001b[49m\u001b[43m \u001b[49m\u001b[38;5;241;43m*\u001b[39;49m\u001b[38;5;241;43m*\u001b[39;49m\u001b[43mopen_kwargs\u001b[49m\u001b[43m)\u001b[49m\n",
      "\u001b[0;31mFileNotFoundError\u001b[0m: [Errno 2] No such file or directory: 'nlp_models/r_ingred_d2v.model'"
     ]
    }
   ],
   "source": [
    "model_i = Doc2Vec.load(\"nlp_models/r_ingred_d2v.model\") #vector_size = 50, epochs = 100\n",
    "model_t = Doc2Vec.load(\"nlp_models/r_tags_d2v.model\") #vector_size 50, epochs = 100"
   ]
  },
  {
   "cell_type": "code",
   "execution_count": null,
   "id": "c43b3906",
   "metadata": {
    "hidden": true
   },
   "outputs": [],
   "source": [
    "#----checking similarities for ingredients\n",
    "\n",
    "tokens_ingred = input_ingred.split(\", \")\n",
    "new_vector_ingred = model_i.infer_vector(tokens_ingred)\n",
    "most_similar_ingred = model_i.dv.most_similar([new_vector_ingred], topn= 100) # 1000 as ingredients are more important\n",
    "# print(most_similar_ingred)\n",
    "most_similar_ingred_list = [x[0] for x in most_similar_ingred]\n",
    "most_similar_ingred_score = [x[0] for x in most_similar_ingred]\n",
    "\n",
    "#----checking similarities for tags\n",
    "tokens_tags= input_tags.split(\", \")\n",
    "new_vector_tags = model_t.infer_vector(tokens_tags)\n",
    "most_similar_tags = model_t.dv.most_similar([new_vector_tags], topn= 10000)\n",
    "# print(most_similar_tags)\n",
    "most_similar_tags_list = [x[0] for x in most_similar_tags]\n",
    "most_similar_tags_list = [x[1] for x in most_similar_tags]\n"
   ]
  },
  {
   "cell_type": "markdown",
   "id": "879e0ea4",
   "metadata": {
    "heading_collapsed": true,
    "hidden": true
   },
   "source": [
    "## Listing top recipes indices by most similar ingredients and tags according to cosine similarity scores"
   ]
  },
  {
   "cell_type": "code",
   "execution_count": 39,
   "id": "6206616e",
   "metadata": {
    "hidden": true
   },
   "outputs": [],
   "source": [
    "ms_ingred_vector = pd.DataFrame(most_similar_ingred, columns=[\"index\", \"ingred_score\"])\n",
    "ms_tags_vector = pd.DataFrame(most_similar_tags, columns=[\"index\", \"tags_score\"])\n",
    "# ms_ingred_vector\n",
    "# ms_tags_vector"
   ]
  },
  {
   "cell_type": "markdown",
   "id": "61f84481",
   "metadata": {
    "hidden": true
   },
   "source": [
    "## Set weights for ingredients and tags"
   ]
  },
  {
   "cell_type": "code",
   "execution_count": 40,
   "id": "c04be8db",
   "metadata": {
    "hidden": true
   },
   "outputs": [],
   "source": [
    "ingred_weight = 5\n",
    "tags_weight = 2"
   ]
  },
  {
   "cell_type": "markdown",
   "id": "c007d7a7",
   "metadata": {
    "hidden": true
   },
   "source": [
    "## Return top 5 recipes indices after applying weights and combining scores"
   ]
  },
  {
   "cell_type": "code",
   "execution_count": 41,
   "id": "46a95eae",
   "metadata": {
    "hidden": true
   },
   "outputs": [
    {
     "name": "stdout",
     "output_type": "stream",
     "text": [
      "<class 'pandas.core.frame.DataFrame'>\n",
      "Int64Index: 100 entries, 12 to 99\n",
      "Data columns (total 4 columns):\n",
      " #   Column          Non-Null Count  Dtype  \n",
      "---  ------          --------------  -----  \n",
      " 0   index           100 non-null    int64  \n",
      " 1   ingred_score    100 non-null    float64\n",
      " 2   tags_score      3 non-null      float64\n",
      " 3   combined_score  3 non-null      float64\n",
      "dtypes: float64(3), int64(1)\n",
      "memory usage: 3.9 KB\n"
     ]
    }
   ],
   "source": [
    "merged = ms_ingred_vector.merge(ms_tags_vector, how = \"left\", on = \"index\")\n",
    "merged['combined_score'] = merged['ingred_score']*ingred_weight + merged['tags_score']*tags_weight\n",
    "merged_combined = merged.sort_values('combined_score', ascending=False)\n",
    "# print(merged_combined['index'][:5])\n",
    "\n",
    "merged_combined.info()"
   ]
  },
  {
   "cell_type": "code",
   "execution_count": 42,
   "id": "5f1562b0",
   "metadata": {
    "hidden": true
   },
   "outputs": [
    {
     "data": {
      "text/html": [
       "<div>\n",
       "<style scoped>\n",
       "    .dataframe tbody tr th:only-of-type {\n",
       "        vertical-align: middle;\n",
       "    }\n",
       "\n",
       "    .dataframe tbody tr th {\n",
       "        vertical-align: top;\n",
       "    }\n",
       "\n",
       "    .dataframe thead th {\n",
       "        text-align: right;\n",
       "    }\n",
       "</style>\n",
       "<table border=\"1\" class=\"dataframe\">\n",
       "  <thead>\n",
       "    <tr style=\"text-align: right;\">\n",
       "      <th></th>\n",
       "      <th>index</th>\n",
       "      <th>ingred_score</th>\n",
       "      <th>tags_score</th>\n",
       "      <th>combined_score</th>\n",
       "    </tr>\n",
       "  </thead>\n",
       "  <tbody>\n",
       "    <tr>\n",
       "      <th>12</th>\n",
       "      <td>165133</td>\n",
       "      <td>0.813623</td>\n",
       "      <td>0.842723</td>\n",
       "      <td>5.753561</td>\n",
       "    </tr>\n",
       "    <tr>\n",
       "      <th>30</th>\n",
       "      <td>397280</td>\n",
       "      <td>0.775244</td>\n",
       "      <td>0.711402</td>\n",
       "      <td>5.299025</td>\n",
       "    </tr>\n",
       "    <tr>\n",
       "      <th>83</th>\n",
       "      <td>1646</td>\n",
       "      <td>0.726734</td>\n",
       "      <td>0.762440</td>\n",
       "      <td>5.158552</td>\n",
       "    </tr>\n",
       "    <tr>\n",
       "      <th>0</th>\n",
       "      <td>287428</td>\n",
       "      <td>0.870006</td>\n",
       "      <td>NaN</td>\n",
       "      <td>NaN</td>\n",
       "    </tr>\n",
       "    <tr>\n",
       "      <th>1</th>\n",
       "      <td>408461</td>\n",
       "      <td>0.866503</td>\n",
       "      <td>NaN</td>\n",
       "      <td>NaN</td>\n",
       "    </tr>\n",
       "  </tbody>\n",
       "</table>\n",
       "</div>"
      ],
      "text/plain": [
       "     index  ingred_score  tags_score  combined_score\n",
       "12  165133      0.813623    0.842723        5.753561\n",
       "30  397280      0.775244    0.711402        5.299025\n",
       "83    1646      0.726734    0.762440        5.158552\n",
       "0   287428      0.870006         NaN             NaN\n",
       "1   408461      0.866503         NaN             NaN"
      ]
     },
     "execution_count": 42,
     "metadata": {},
     "output_type": "execute_result"
    }
   ],
   "source": [
    "merged_combined.head(5)"
   ]
  },
  {
   "cell_type": "markdown",
   "id": "38976ee0",
   "metadata": {
    "hidden": true
   },
   "source": [
    "## Returning Top 5 recipes in DF"
   ]
  },
  {
   "cell_type": "code",
   "execution_count": 43,
   "id": "9abad92f",
   "metadata": {
    "hidden": true
   },
   "outputs": [
    {
     "data": {
      "text/html": [
       "<div>\n",
       "<style scoped>\n",
       "    .dataframe tbody tr th:only-of-type {\n",
       "        vertical-align: middle;\n",
       "    }\n",
       "\n",
       "    .dataframe tbody tr th {\n",
       "        vertical-align: top;\n",
       "    }\n",
       "\n",
       "    .dataframe thead th {\n",
       "        text-align: right;\n",
       "    }\n",
       "</style>\n",
       "<table border=\"1\" class=\"dataframe\">\n",
       "  <thead>\n",
       "    <tr style=\"text-align: right;\">\n",
       "      <th></th>\n",
       "      <th>index</th>\n",
       "      <th>Name</th>\n",
       "      <th>tags</th>\n",
       "      <th>ingredients</th>\n",
       "      <th>ingredients_cleaned</th>\n",
       "    </tr>\n",
       "  </thead>\n",
       "  <tbody>\n",
       "    <tr>\n",
       "      <th>0</th>\n",
       "      <td>165133</td>\n",
       "      <td>Eggs in Their Nest</td>\n",
       "      <td>[healthy, &lt; 60 mins, easy]</td>\n",
       "      <td>[eggs, spinach, potatoes]</td>\n",
       "      <td>[egg, spinach, potato]</td>\n",
       "    </tr>\n",
       "    <tr>\n",
       "      <th>1</th>\n",
       "      <td>397280</td>\n",
       "      <td>Potato Bowl</td>\n",
       "      <td>[low cholesterol, healthy, &lt; 60 mins]</td>\n",
       "      <td>[potatoes, bacon, leeks, garlic cloves, fresh spinach]</td>\n",
       "      <td>[potato, bacon, leek, garlic, spinach]</td>\n",
       "    </tr>\n",
       "    <tr>\n",
       "      <th>2</th>\n",
       "      <td>1646</td>\n",
       "      <td>Chicken and Spinach Veloute</td>\n",
       "      <td>[low cholesterol, healthy, &lt; 15 mins, easy]</td>\n",
       "      <td>[spinach, heavy cream]</td>\n",
       "      <td>[spinach]</td>\n",
       "    </tr>\n",
       "    <tr>\n",
       "      <th>3</th>\n",
       "      <td>287428</td>\n",
       "      <td>Spinach and Potato Soup</td>\n",
       "      <td>[vegetable, low protein, low cholesterol, healthy, &lt; 30 mins, easy, inexpensive]</td>\n",
       "      <td>[potatoes, frozen spinach, sour cream]</td>\n",
       "      <td>[potato, spinach]</td>\n",
       "    </tr>\n",
       "    <tr>\n",
       "      <th>4</th>\n",
       "      <td>408461</td>\n",
       "      <td>Stampot (Spinazie)- Dutch Potatoes and Spinach</td>\n",
       "      <td>[potato, greens, vegetable, dutch, european, low protein, low cholesterol, healthy, &lt; 30 mins, easy]</td>\n",
       "      <td>[potatoes, spinach, butter]</td>\n",
       "      <td>[potato, spinach]</td>\n",
       "    </tr>\n",
       "  </tbody>\n",
       "</table>\n",
       "</div>"
      ],
      "text/plain": [
       "    index                                            Name  \\\n",
       "0  165133                              Eggs in Their Nest   \n",
       "1  397280                                     Potato Bowl   \n",
       "2    1646                     Chicken and Spinach Veloute   \n",
       "3  287428                         Spinach and Potato Soup   \n",
       "4  408461  Stampot (Spinazie)- Dutch Potatoes and Spinach   \n",
       "\n",
       "                                                                                                   tags  \\\n",
       "0                                                                            [healthy, < 60 mins, easy]   \n",
       "1                                                                 [low cholesterol, healthy, < 60 mins]   \n",
       "2                                                           [low cholesterol, healthy, < 15 mins, easy]   \n",
       "3                      [vegetable, low protein, low cholesterol, healthy, < 30 mins, easy, inexpensive]   \n",
       "4  [potato, greens, vegetable, dutch, european, low protein, low cholesterol, healthy, < 30 mins, easy]   \n",
       "\n",
       "                                              ingredients  \\\n",
       "0                               [eggs, spinach, potatoes]   \n",
       "1  [potatoes, bacon, leeks, garlic cloves, fresh spinach]   \n",
       "2                                  [spinach, heavy cream]   \n",
       "3                  [potatoes, frozen spinach, sour cream]   \n",
       "4                             [potatoes, spinach, butter]   \n",
       "\n",
       "                      ingredients_cleaned  \n",
       "0                  [egg, spinach, potato]  \n",
       "1  [potato, bacon, leek, garlic, spinach]  \n",
       "2                               [spinach]  \n",
       "3                       [potato, spinach]  \n",
       "4                       [potato, spinach]  "
      ]
     },
     "execution_count": 43,
     "metadata": {},
     "output_type": "execute_result"
    }
   ],
   "source": [
    "recipe_dict = {}\n",
    "for i in merged_combined['index']:\n",
    "    recipe_dict[i] = df.iloc[i].to_dict()\n",
    "\n",
    "most_similar_df = pd.DataFrame(recipe_dict).T.reset_index()\n",
    "most_similar_df.head(5)[['index', 'Name', 'tags', 'ingredients', 'ingredients_cleaned']]"
   ]
  },
  {
   "cell_type": "markdown",
   "id": "94c4a761",
   "metadata": {
    "heading_collapsed": true
   },
   "source": [
    "# Test 2 - one NLP model with ingred and tags combined"
   ]
  },
  {
   "cell_type": "code",
   "execution_count": 71,
   "id": "2a464d5e",
   "metadata": {
    "hidden": true
   },
   "outputs": [],
   "source": [
    "# # vector_size = 50, epochs = 100\n",
    "# model_b = Doc2Vec.load(\"nlp_models/r_ingredtag_d2v.model\")\n",
    "# vector_size = 100, epochs = 100 --> better\n",
    "model_b2 = Doc2Vec.load(\"../../nlp_models/nlp_model_ingred_tag_d2v_2.model\")\n",
    "\n",
    "model_ingred_tag = model_b2"
   ]
  },
  {
   "cell_type": "code",
   "execution_count": 72,
   "id": "a9411d7f",
   "metadata": {
    "hidden": true
   },
   "outputs": [
    {
     "data": {
      "text/html": [
       "<div>\n",
       "<style scoped>\n",
       "    .dataframe tbody tr th:only-of-type {\n",
       "        vertical-align: middle;\n",
       "    }\n",
       "\n",
       "    .dataframe tbody tr th {\n",
       "        vertical-align: top;\n",
       "    }\n",
       "\n",
       "    .dataframe thead th {\n",
       "        text-align: right;\n",
       "    }\n",
       "</style>\n",
       "<table border=\"1\" class=\"dataframe\">\n",
       "  <thead>\n",
       "    <tr style=\"text-align: right;\">\n",
       "      <th></th>\n",
       "      <th>index</th>\n",
       "      <th>Name</th>\n",
       "      <th>tags</th>\n",
       "      <th>ingredients_cleaned</th>\n",
       "      <th>ingred_and_tags</th>\n",
       "    </tr>\n",
       "  </thead>\n",
       "  <tbody>\n",
       "    <tr>\n",
       "      <th>0</th>\n",
       "      <td>165133</td>\n",
       "      <td>Eggs in Their Nest</td>\n",
       "      <td>[healthy, &lt; 60 mins, easy]</td>\n",
       "      <td>[egg, spinach, potato]</td>\n",
       "      <td>[egg, spinach, potato, healthy, &lt; 60 mins, easy]</td>\n",
       "    </tr>\n",
       "    <tr>\n",
       "      <th>1</th>\n",
       "      <td>287428</td>\n",
       "      <td>Spinach and Potato Soup</td>\n",
       "      <td>[vegetable, low protein, low cholesterol, healthy, &lt; 30 mins, easy, inexpensive]</td>\n",
       "      <td>[potato, spinach]</td>\n",
       "      <td>[potato, spinach, vegetable, low protein, low cholesterol, healthy, &lt; 30 mins, easy, inexpensive]</td>\n",
       "    </tr>\n",
       "    <tr>\n",
       "      <th>2</th>\n",
       "      <td>91952</td>\n",
       "      <td>Spinach and Bacon Baked Potatoes</td>\n",
       "      <td>[pork, potato, vegetable, meat, low cholesterol, healthy, kid friendly, savory, oven, &lt; 4 hours, inexpensive]</td>\n",
       "      <td>[potato, bacon, spinach, green, parmesan cheese]</td>\n",
       "      <td>[potato, bacon, spinach, green, parmesan cheese, pork, potato, vegetable, meat, low cholesterol, healthy, kid friendly, savory, oven, &lt; 4 hours, inexpensive]</td>\n",
       "    </tr>\n",
       "    <tr>\n",
       "      <th>3</th>\n",
       "      <td>408461</td>\n",
       "      <td>Stampot (Spinazie)- Dutch Potatoes and Spinach</td>\n",
       "      <td>[potato, greens, vegetable, dutch, european, low protein, low cholesterol, healthy, &lt; 30 mins, easy]</td>\n",
       "      <td>[potato, spinach]</td>\n",
       "      <td>[potato, spinach, potato, greens, vegetable, dutch, european, low protein, low cholesterol, healthy, &lt; 30 mins, easy]</td>\n",
       "    </tr>\n",
       "    <tr>\n",
       "      <th>4</th>\n",
       "      <td>60116</td>\n",
       "      <td>Mashed Potato Casserole</td>\n",
       "      <td>[vegetable, healthy, &lt; 30 mins, oven, easy]</td>\n",
       "      <td>[potato, spinach, cheese]</td>\n",
       "      <td>[potato, spinach, cheese, vegetable, healthy, &lt; 30 mins, oven, easy]</td>\n",
       "    </tr>\n",
       "  </tbody>\n",
       "</table>\n",
       "</div>"
      ],
      "text/plain": [
       "    index                                            Name  \\\n",
       "0  165133                              Eggs in Their Nest   \n",
       "1  287428                         Spinach and Potato Soup   \n",
       "2   91952                Spinach and Bacon Baked Potatoes   \n",
       "3  408461  Stampot (Spinazie)- Dutch Potatoes and Spinach   \n",
       "4   60116                         Mashed Potato Casserole   \n",
       "\n",
       "                                                                                                            tags  \\\n",
       "0                                                                                     [healthy, < 60 mins, easy]   \n",
       "1                               [vegetable, low protein, low cholesterol, healthy, < 30 mins, easy, inexpensive]   \n",
       "2  [pork, potato, vegetable, meat, low cholesterol, healthy, kid friendly, savory, oven, < 4 hours, inexpensive]   \n",
       "3           [potato, greens, vegetable, dutch, european, low protein, low cholesterol, healthy, < 30 mins, easy]   \n",
       "4                                                                    [vegetable, healthy, < 30 mins, oven, easy]   \n",
       "\n",
       "                                ingredients_cleaned  \\\n",
       "0                            [egg, spinach, potato]   \n",
       "1                                 [potato, spinach]   \n",
       "2  [potato, bacon, spinach, green, parmesan cheese]   \n",
       "3                                 [potato, spinach]   \n",
       "4                         [potato, spinach, cheese]   \n",
       "\n",
       "                                                                                                                                                 ingred_and_tags  \n",
       "0                                                                                                               [egg, spinach, potato, healthy, < 60 mins, easy]  \n",
       "1                                                              [potato, spinach, vegetable, low protein, low cholesterol, healthy, < 30 mins, easy, inexpensive]  \n",
       "2  [potato, bacon, spinach, green, parmesan cheese, pork, potato, vegetable, meat, low cholesterol, healthy, kid friendly, savory, oven, < 4 hours, inexpensive]  \n",
       "3                                          [potato, spinach, potato, greens, vegetable, dutch, european, low protein, low cholesterol, healthy, < 30 mins, easy]  \n",
       "4                                                                                           [potato, spinach, cheese, vegetable, healthy, < 30 mins, oven, easy]  "
      ]
     },
     "execution_count": 72,
     "metadata": {},
     "output_type": "execute_result"
    }
   ],
   "source": [
    "combined_input = input_ingred + \", \" + input_tags\n",
    "tokens = [word.strip() for word in combined_input.split(\",\")]\n",
    "\n",
    "vectors = model_ingred_tag.infer_vector(tokens)\n",
    "most_similar_ = model_ingred_tag.dv.most_similar([vectors], topn = 5)\n",
    "# print(most_similar_)\n",
    "most_similar_list = [x[0] for x in most_similar_]\n",
    "most_similar_score = [x[1] for x in most_similar_]\n",
    "\n",
    "combined_dict = {}\n",
    "for i in most_similar_list:\n",
    "    combined_dict[i] = df.iloc[i].to_dict()\n",
    "\n",
    "most_similar_df_b = pd.DataFrame(combined_dict).T.reset_index()\n",
    "most_similar_df_b[['index', 'Name', 'tags', 'ingredients_cleaned', 'ingred_and_tags']]"
   ]
  },
  {
   "cell_type": "markdown",
   "id": "2482e4be",
   "metadata": {},
   "source": [
    "# Test 3 - one NLP model with ingredients, tags, categories combined"
   ]
  },
  {
   "cell_type": "code",
   "execution_count": 113,
   "id": "e2713c91",
   "metadata": {},
   "outputs": [],
   "source": [
    "#vector_size = 100, epochs = 100 --> better\n",
    "model_cit_1 = Doc2Vec.load(\"../../nlp_models/nlp_model_cit.model\") \n",
    "model_cit = model_cit_1"
   ]
  },
  {
   "cell_type": "code",
   "execution_count": 114,
   "id": "ebf89f8c",
   "metadata": {},
   "outputs": [
    {
     "data": {
      "text/html": [
       "<div>\n",
       "<style scoped>\n",
       "    .dataframe tbody tr th:only-of-type {\n",
       "        vertical-align: middle;\n",
       "    }\n",
       "\n",
       "    .dataframe tbody tr th {\n",
       "        vertical-align: top;\n",
       "    }\n",
       "\n",
       "    .dataframe thead th {\n",
       "        text-align: right;\n",
       "    }\n",
       "</style>\n",
       "<table border=\"1\" class=\"dataframe\">\n",
       "  <thead>\n",
       "    <tr style=\"text-align: right;\">\n",
       "      <th></th>\n",
       "      <th>index</th>\n",
       "      <th>Name</th>\n",
       "      <th>tags</th>\n",
       "      <th>ingredients_cleaned</th>\n",
       "      <th>cat_ingred_tag</th>\n",
       "    </tr>\n",
       "  </thead>\n",
       "  <tbody>\n",
       "    <tr>\n",
       "      <th>0</th>\n",
       "      <td>312221</td>\n",
       "      <td>Pasty</td>\n",
       "      <td>[&lt; 4 hours]</td>\n",
       "      <td>[potato, carrot, chicken]</td>\n",
       "      <td>[Savory, Pies, potato, carrot, chicken, &lt; 4 hours]</td>\n",
       "    </tr>\n",
       "    <tr>\n",
       "      <th>1</th>\n",
       "      <td>85472</td>\n",
       "      <td>Rappy Pie  (Acadian Food)</td>\n",
       "      <td>[low cholesterol, healthy, oven, &lt; 4 hours]</td>\n",
       "      <td>[chicken, carrot, celery, potato]</td>\n",
       "      <td>[One, Dish, Meal, chicken, carrot, celery, potato, low cholesterol, healthy, oven, &lt; 4 hours]</td>\n",
       "    </tr>\n",
       "    <tr>\n",
       "      <th>2</th>\n",
       "      <td>218334</td>\n",
       "      <td>Delicious Game Day Beef Stew</td>\n",
       "      <td>[low cholesterol, healthy, easy]</td>\n",
       "      <td>[carrot, potato]</td>\n",
       "      <td>[Stew, carrot, potato, low cholesterol, healthy, easy]</td>\n",
       "    </tr>\n",
       "    <tr>\n",
       "      <th>3</th>\n",
       "      <td>491914</td>\n",
       "      <td>Chicken and Gravy (Slow Cooker)</td>\n",
       "      <td>[chicken, poultry, meat, healthy, easy]</td>\n",
       "      <td>[chicken breast, potato]</td>\n",
       "      <td>[Chicken, Breast, chicken breast, potato, chicken, poultry, meat, healthy, easy]</td>\n",
       "    </tr>\n",
       "    <tr>\n",
       "      <th>4</th>\n",
       "      <td>270852</td>\n",
       "      <td>Chicken Dinner in the Crock Pot</td>\n",
       "      <td>[chicken, potato, poultry, vegetable, meat, low cholesterol, healthy]</td>\n",
       "      <td>[carrot, chicken breast half]</td>\n",
       "      <td>[Chicken, Breast, carrot, chicken breast half, chicken, potato, poultry, vegetable, meat, low cholesterol, healthy]</td>\n",
       "    </tr>\n",
       "  </tbody>\n",
       "</table>\n",
       "</div>"
      ],
      "text/plain": [
       "    index                             Name  \\\n",
       "0  312221                            Pasty   \n",
       "1   85472        Rappy Pie  (Acadian Food)   \n",
       "2  218334     Delicious Game Day Beef Stew   \n",
       "3  491914  Chicken and Gravy (Slow Cooker)   \n",
       "4  270852  Chicken Dinner in the Crock Pot   \n",
       "\n",
       "                                                                    tags  \\\n",
       "0                                                            [< 4 hours]   \n",
       "1                            [low cholesterol, healthy, oven, < 4 hours]   \n",
       "2                                       [low cholesterol, healthy, easy]   \n",
       "3                                [chicken, poultry, meat, healthy, easy]   \n",
       "4  [chicken, potato, poultry, vegetable, meat, low cholesterol, healthy]   \n",
       "\n",
       "                 ingredients_cleaned  \\\n",
       "0          [potato, carrot, chicken]   \n",
       "1  [chicken, carrot, celery, potato]   \n",
       "2                   [carrot, potato]   \n",
       "3           [chicken breast, potato]   \n",
       "4      [carrot, chicken breast half]   \n",
       "\n",
       "                                                                                                        cat_ingred_tag  \n",
       "0                                                                   [Savory, Pies, potato, carrot, chicken, < 4 hours]  \n",
       "1                        [One, Dish, Meal, chicken, carrot, celery, potato, low cholesterol, healthy, oven, < 4 hours]  \n",
       "2                                                               [Stew, carrot, potato, low cholesterol, healthy, easy]  \n",
       "3                                     [Chicken, Breast, chicken breast, potato, chicken, poultry, meat, healthy, easy]  \n",
       "4  [Chicken, Breast, carrot, chicken breast half, chicken, potato, poultry, vegetable, meat, low cholesterol, healthy]  "
      ]
     },
     "execution_count": 114,
     "metadata": {},
     "output_type": "execute_result"
    }
   ],
   "source": [
    "cit_input = input_ingred + \", \" + input_tags\n",
    "cit_tokens = [word.strip() for word in cit_input.split(\",\")]\n",
    "\n",
    "cit_vectors = model_cit.infer_vector(cit_tokens)\n",
    "\n",
    "most_similar_cit = model_cit.dv.most_similar([cit_vectors], topn = 5)\n",
    "# print(most_similar_)\n",
    "most_similar_list_cit = [x[0] for x in most_similar_cit]\n",
    "most_similar_score_cit = [x[1] for x in most_similar_cit]\n",
    "\n",
    "cit_dict = {}\n",
    "for i in most_similar_list_cit:\n",
    "    cit_dict[i] = df.iloc[i].to_dict()\n",
    "\n",
    "most_similar_df_cit = pd.DataFrame(cit_dict).T.reset_index()\n",
    "most_similar_df_cit[['index', 'Name', 'tags', 'ingredients_cleaned', 'cat_ingred_tag']]"
   ]
  },
  {
   "cell_type": "markdown",
   "id": "57f94bf9",
   "metadata": {
    "heading_collapsed": true
   },
   "source": [
    "# Test 4 - one NLP model with ingredients, tags, categories and recipe names combined"
   ]
  },
  {
   "cell_type": "code",
   "execution_count": 73,
   "id": "bdd6d60f",
   "metadata": {
    "hidden": true
   },
   "outputs": [],
   "source": [
    "# # vector_size = 50, epochs = 100)\n",
    "# model_a = Doc2Vec.load(\"nlp_models/r_all_d2v.model\") \n",
    "# # vector_size = 80, epochs = 100) ******\n",
    "# model_a2 = Doc2Vec.load(\"nlp_models/r_all_d2v_2.model\")\n",
    "# #accuracy starts going down with reduced epochs (vector_size = 100, epochs = 50)\n",
    "# model_a3 = Doc2Vec.load(\"nlp_models/r_all_d2v_3.model\")\n",
    "\n",
    "#vector_size = 100, epochs = 100 --> better\n",
    "model_a4 = Doc2Vec.load(\"../../nlp_models/nlp_model_all_d2v_4.model\") \n",
    "model = model_a4"
   ]
  },
  {
   "cell_type": "code",
   "execution_count": 74,
   "id": "d1d09450",
   "metadata": {
    "hidden": true
   },
   "outputs": [
    {
     "data": {
      "text/html": [
       "<div>\n",
       "<style scoped>\n",
       "    .dataframe tbody tr th:only-of-type {\n",
       "        vertical-align: middle;\n",
       "    }\n",
       "\n",
       "    .dataframe tbody tr th {\n",
       "        vertical-align: top;\n",
       "    }\n",
       "\n",
       "    .dataframe thead th {\n",
       "        text-align: right;\n",
       "    }\n",
       "</style>\n",
       "<table border=\"1\" class=\"dataframe\">\n",
       "  <thead>\n",
       "    <tr style=\"text-align: right;\">\n",
       "      <th></th>\n",
       "      <th>index</th>\n",
       "      <th>Name</th>\n",
       "      <th>tags</th>\n",
       "      <th>ingredients_cleaned</th>\n",
       "      <th>name_cat_ingred_tag</th>\n",
       "    </tr>\n",
       "  </thead>\n",
       "  <tbody>\n",
       "    <tr>\n",
       "      <th>0</th>\n",
       "      <td>165133</td>\n",
       "      <td>Eggs in Their Nest</td>\n",
       "      <td>[healthy, &lt; 60 mins, easy]</td>\n",
       "      <td>[egg, spinach, potato]</td>\n",
       "      <td>[Eggs, in, Their, Nest, Vegetable, egg, spinach, potato, healthy, &lt; 60 mins, easy]</td>\n",
       "    </tr>\n",
       "    <tr>\n",
       "      <th>1</th>\n",
       "      <td>274549</td>\n",
       "      <td>Spinach-Topped Baked Potatoes</td>\n",
       "      <td>[potato, greens, vegetable, low protein, low cholesterol, healthy, &lt; 4 hours, easy]</td>\n",
       "      <td>[baking potato, spinach, nutmeg]</td>\n",
       "      <td>[Spinach-Topped, Baked, Potatoes, Spinach, baking potato, spinach, nutmeg, potato, greens, vegetable, low protein, low cholesterol, healthy, &lt; 4 hours, easy]</td>\n",
       "    </tr>\n",
       "    <tr>\n",
       "      <th>2</th>\n",
       "      <td>353208</td>\n",
       "      <td>Fried Wonton</td>\n",
       "      <td>[healthy, &lt; 30 mins, easy]</td>\n",
       "      <td>[wonton wrapper, pork, shallot, mushroom, shrimp, soya sauce]</td>\n",
       "      <td>[Fried, Wonton, Lunch/Snacks, wonton wrapper, pork, shallot, mushroom, shrimp, soya sauce, healthy, &lt; 30 mins, easy]</td>\n",
       "    </tr>\n",
       "    <tr>\n",
       "      <th>3</th>\n",
       "      <td>510808</td>\n",
       "      <td>Gnocchi</td>\n",
       "      <td>[healthy, &lt; 60 mins, easy]</td>\n",
       "      <td>[potato, egg]</td>\n",
       "      <td>[Gnocchi, European, potato, egg, healthy, &lt; 60 mins, easy]</td>\n",
       "    </tr>\n",
       "    <tr>\n",
       "      <th>4</th>\n",
       "      <td>145536</td>\n",
       "      <td>Pork Stew</td>\n",
       "      <td>[one dish meal, pork, meat, low cholesterol, healthy, &lt; 4 hours]</td>\n",
       "      <td>[pork chop, potato, carrot, chicken bouillon, chicken broth]</td>\n",
       "      <td>[Pork, Stew, Stew, pork chop, potato, carrot, chicken bouillon, chicken broth, one dish meal, pork, meat, low cholesterol, healthy, &lt; 4 hours]</td>\n",
       "    </tr>\n",
       "  </tbody>\n",
       "</table>\n",
       "</div>"
      ],
      "text/plain": [
       "    index                           Name  \\\n",
       "0  165133             Eggs in Their Nest   \n",
       "1  274549  Spinach-Topped Baked Potatoes   \n",
       "2  353208                   Fried Wonton   \n",
       "3  510808                        Gnocchi   \n",
       "4  145536                      Pork Stew   \n",
       "\n",
       "                                                                                  tags  \\\n",
       "0                                                           [healthy, < 60 mins, easy]   \n",
       "1  [potato, greens, vegetable, low protein, low cholesterol, healthy, < 4 hours, easy]   \n",
       "2                                                           [healthy, < 30 mins, easy]   \n",
       "3                                                           [healthy, < 60 mins, easy]   \n",
       "4                     [one dish meal, pork, meat, low cholesterol, healthy, < 4 hours]   \n",
       "\n",
       "                                             ingredients_cleaned  \\\n",
       "0                                         [egg, spinach, potato]   \n",
       "1                               [baking potato, spinach, nutmeg]   \n",
       "2  [wonton wrapper, pork, shallot, mushroom, shrimp, soya sauce]   \n",
       "3                                                  [potato, egg]   \n",
       "4   [pork chop, potato, carrot, chicken bouillon, chicken broth]   \n",
       "\n",
       "                                                                                                                                             name_cat_ingred_tag  \n",
       "0                                                                             [Eggs, in, Their, Nest, Vegetable, egg, spinach, potato, healthy, < 60 mins, easy]  \n",
       "1  [Spinach-Topped, Baked, Potatoes, Spinach, baking potato, spinach, nutmeg, potato, greens, vegetable, low protein, low cholesterol, healthy, < 4 hours, easy]  \n",
       "2                                           [Fried, Wonton, Lunch/Snacks, wonton wrapper, pork, shallot, mushroom, shrimp, soya sauce, healthy, < 30 mins, easy]  \n",
       "3                                                                                                     [Gnocchi, European, potato, egg, healthy, < 60 mins, easy]  \n",
       "4                 [Pork, Stew, Stew, pork chop, potato, carrot, chicken bouillon, chicken broth, one dish meal, pork, meat, low cholesterol, healthy, < 4 hours]  "
      ]
     },
     "execution_count": 74,
     "metadata": {},
     "output_type": "execute_result"
    }
   ],
   "source": [
    "all_input = input_ingred + \", \" + input_tags\n",
    "tokens = [word.strip() for word in all_input.split(\",\")]\n",
    "\n",
    "all_vectors = model.infer_vector(tokens)\n",
    "\n",
    "most_similar_all = model.dv.most_similar([all_vectors], topn = 5)\n",
    "# print(most_similar_)\n",
    "most_similar_list_all = [x[0] for x in most_similar_all]\n",
    "most_similar_score_all = [x[1] for x in most_similar_all]\n",
    "\n",
    "all_dict = {}\n",
    "for i in most_similar_list_all:\n",
    "    all_dict[i] = df.iloc[i].to_dict()\n",
    "\n",
    "most_similar_df_all = pd.DataFrame(all_dict).T.reset_index()\n",
    "most_similar_df_all[['index', 'Name', 'tags', 'ingredients_cleaned', 'name_cat_ingred_tag']]"
   ]
  },
  {
   "cell_type": "markdown",
   "id": "1b23a7b4",
   "metadata": {
    "heading_collapsed": true
   },
   "source": [
    "# Front End Display"
   ]
  },
  {
   "cell_type": "code",
   "execution_count": 271,
   "id": "8746f654",
   "metadata": {
    "hidden": true
   },
   "outputs": [],
   "source": [
    "def print_recipe_names(df):\n",
    "    print(f\"These are the top 5 recipes of closest match to your ingredients and preferences: \\n\")\n",
    "    for i, index in df.iterrows():\n",
    "        print(f\"{i+1} - {index['Name']}\")\n",
    "    print(\"\\n***************\\n\")"
   ]
  },
  {
   "cell_type": "code",
   "execution_count": 272,
   "id": "ab0c3341",
   "metadata": {
    "hidden": true
   },
   "outputs": [],
   "source": [
    "def list_all_recipes_info(df):\n",
    "\n",
    "    for i, index in df.iterrows():\n",
    "        print(f\"Recipe Name: {index['Name']}\")\n",
    "        print(f\"Recipe ID: {index['index']}\\n\")\n",
    "\n",
    "        print(f\"Cook Time: {index['cook_time']}\")\n",
    "        print(f\"Preparation Time: {index['prep_time']}\")\n",
    "        print(f\"Total Time: {index['total_time']}\")\n",
    "\n",
    "        print(f\"Serving(s): {index['recipe_servings']}\")\n",
    "        print(f\"Calories: {index['Calories']} kcal\\n\")\n",
    "\n",
    "        print(\"Ingredients and Quantities\")\n",
    "        for i, ingredient in enumerate(index[\"ingredients\"]):\n",
    "            print(f\"{index['ingredient_quantities'][i]} {ingredient.capitalize()}\")\n",
    "        print(\"\")\n",
    "\n",
    "        print(\"Instructions\")\n",
    "        for i, instruction in enumerate(index['instructions'],1):\n",
    "            print(f\"{i}. {instruction}\")\n",
    "        \n",
    "#         try:\n",
    "#             response = requests.get(index[\"images\"][0])\n",
    "#             img = Image.open(BytesIO(response.content))\n",
    "#             plt.imshow(img)\n",
    "#             plt.axis(\"off\")\n",
    "#         except:\n",
    "#             print(f\"Image Not Provided\")\n",
    "\n",
    "        print(\"\\n===============\\n\")"
   ]
  },
  {
   "cell_type": "code",
   "execution_count": 273,
   "id": "e8e35443",
   "metadata": {
    "hidden": true
   },
   "outputs": [],
   "source": [
    "def show_recipe_images(df):\n",
    "\n",
    "    rows = 5\n",
    "\n",
    "    fig, axes = plt.subplots(rows, 1)\n",
    "    fig.set_size_inches(3,15)\n",
    "    fig.tight_layout(pad=1.0)\n",
    "\n",
    "    for i,image in enumerate(df['images']):\n",
    "        try:\n",
    "            response = requests.get(image[0])\n",
    "            img = Image.open(BytesIO(response.content))\n",
    "        except:\n",
    "            axes[i].set_yticklabels([])\n",
    "            axes[i].set_xticklabels([])\n",
    "            axes[i].axis('off')\n",
    "            axes[i].text(0, 0.7,f\"{df['Name'][i]}:\\nImage Not Provided\", fontsize = \"large\")\n",
    "            continue\n",
    "        axes[i].set_title(f\"{df['Name'][i]}\", fontsize = \"large\")\n",
    "        axes[i].axis('off')\n",
    "        axes[i].imshow(img)\n",
    "                     "
   ]
  },
  {
   "cell_type": "code",
   "execution_count": 229,
   "id": "b06f4cd2",
   "metadata": {
    "hidden": true
   },
   "outputs": [],
   "source": [
    "test_1_df = most_similar_df.head(5)\n",
    "test_2_df = most_similar_df_b\n",
    "test_3_df = most_similar_df_all\n",
    "\n",
    "def front_end_display(df):\n",
    "    print_recipe_names(df)\n",
    "    list_all_recipes_info(df)\n",
    "    show_recipe_images(df)"
   ]
  },
  {
   "cell_type": "code",
   "execution_count": 274,
   "id": "d7094783",
   "metadata": {
    "hidden": true
   },
   "outputs": [
    {
     "name": "stdout",
     "output_type": "stream",
     "text": [
      "These are the top 5 recipes of closest match to your ingredients and preferences: \n",
      "\n",
      "1 - Chocolate Chip Ice Cream\n",
      "2 - Zuzu\n",
      "3 - The Yummiest Frozen Chocolate Cake...\n",
      "4 - Strawberry Shortcake Ice Cream Cake\n",
      "5 - Chocolate Mousse\n",
      "\n",
      "***************\n",
      "\n",
      "Recipe Name: Chocolate Chip Ice Cream\n",
      "Recipe ID: 12660\n",
      "\n",
      "Cook Time: Not Provided\n",
      "Preparation Time: 30 Minute(s) \n",
      "Total Time: 30 Minute(s) \n",
      "Serving(s): 4\n",
      "Calories: 740.9 kcal\n",
      "\n",
      "Ingredients and Quantities\n",
      "3 Eggs\n",
      "2 Caster sugar\n",
      "200 Chocolate\n",
      "1 1/3 Dark chocolate\n",
      "90 Raspberries\n",
      "\n",
      "Instructions\n",
      "1. Beat eggs and sugar in a bowl till its fluffy.\n",
      "2. Pale and increases in volume.\n",
      "3. Put the bowl mixture o'er a pan of simmering water and add milk chocolate in it.\n",
      "4. Mix well.\n",
      "5. Remove from heat.\n",
      "6. Beat the cream until it forms a soft peak.\n",
      "7. Fold it into the egg mixture.\n",
      "8. Add the chopped dark chocolate and mix well.\n",
      "9. Pour the mixture into a tray and freeze it for 4-5 hours or until firm.\n",
      "10. Serve garnished with chocolate sticks and raspberries.\n",
      "\n",
      "===============\n",
      "\n",
      "Recipe Name: Zuzu\n",
      "Recipe ID: 292750\n",
      "\n",
      "Cook Time: 15 Minute(s) \n",
      "Preparation Time: 15 Minute(s) \n",
      "Total Time: 30 Minute(s) \n",
      "Serving(s): 4\n",
      "Calories: 113.8 kcal\n",
      "\n",
      "Ingredients and Quantities\n",
      "3 Eggs\n",
      "4 Caster sugar\n",
      "1 Chocolate\n",
      "\n",
      "Instructions\n",
      "1. Separate eggs and reserve the egg yolks.\n",
      "2. Beat the egg whites until soft peaks form. then gradually add the sugar and beat for a further minute.\n",
      "3. Add the egg yolks and beat until creamy.\n",
      "4. Pour into 4 dessert bowls or glasses and freeze for at least 3 hours.\n",
      "5. Serve frozen decorated with either grated chocolate or chocolate sauce.\n",
      "\n",
      "===============\n",
      "\n",
      "Recipe Name: The Yummiest Frozen Chocolate Cake...\n",
      "Recipe ID: 184097\n",
      "\n",
      "Cook Time: 4 Hour(s) \n",
      "Preparation Time: 5 Minute(s) \n",
      "Total Time: 4 Hour(s) 5 Minute(s) \n",
      "Serving(s): Not Provided\n",
      "Calories: 547.2 kcal\n",
      "\n",
      "Ingredients and Quantities\n",
      "300 Caster sugar\n",
      "1/3 Water\n",
      "150 Egg\n",
      "3 Cocoa powder\n",
      "\n",
      "Instructions\n",
      "1. Blend chocolate in a food processor until it is quite fine. (if you dont have a food processor.\n",
      "2. You can grate the chocolate instead).\n",
      "3. Heat sugar and water over a medium heat.\n",
      "4. Stirring until sugar dissolves. increase heat and boil for 2 minutes until its slightly thickened.\n",
      "5. Pour hot syrup into processor with motor running. add egg yolks.\n",
      "6. Whole egg and cream. process until smooth (or beat together in a bowl).\n",
      "7. Grease a 22cm cake tin and line with plastic wrap. leave a border of wrap above the edge of the tin.\n",
      "8. To make it easy to pull it out of the tin. pour mixture into tin and freeze for at least 4 hours. remove from freezer 20 minutes prior to serving.\n",
      "9. Pull gently on plastic wrap to release cake from tin.\n",
      "10. Dust with cocoa powder.\n",
      "11. Serve immediately with cream.\n",
      "12. And berries if liked.\n",
      "\n",
      "===============\n",
      "\n",
      "Recipe Name: Strawberry Shortcake Ice Cream Cake\n",
      "Recipe ID: 512788\n",
      "\n",
      "Cook Time: 4 Hour(s) \n",
      "Preparation Time: 30 Minute(s) \n",
      "Total Time: 4 Hour(s) 30 Minute(s) \n",
      "Serving(s): 8\n",
      "Calories: 373.4 kcal\n",
      "\n",
      "Ingredients and Quantities\n",
      "1 Egg\n",
      "na Water\n",
      "na Strawberry ice cream\n",
      "na Strawberry\n",
      "1 1/2 Fresh strawberries\n",
      "\n",
      "Instructions\n",
      "1. For the cake:.\n",
      "2. Preheat the oven to the temperature required according to the directions on the cake mix box. grease and line the bottom of two 9-inch cake tins with baking paper.\n",
      "3. Tip the cake mix into a large bowl and add the eggs.\n",
      "4. Vegetable oil and water following the directions on the box for the quantities needed and mixing directions.\n",
      "5. Divide the batter between the cake pans and bake for the time given on the cake mix box.\n",
      "6. Tip the cake layers out onto wire racks.\n",
      "7. Peel the baking paper off and set aside to cool completely.\n",
      "8. For the filling:.\n",
      "9. Let the strawberry ice cream soften for a few minutes before scooping it out into a large bowl. use a wooden spoon to beat the ice cream until you get a buttercream-like texture. add the diced strawberries and fold together.\n",
      "10. Assemble:.\n",
      "11. Line a tall 9-inch springform cake pan with plastic wrap.\n",
      "12. Allowing a few inches to overhang on the outside of the cake pan. place the first cooled cake layer in the pan. spread the softened strawberry ice cream in an even layer over the whole thing. place the second cake layer on top. cover with the overhanging plastic wrap and freeze for 3-4 hours until firm.\n",
      "13. Decorate:.\n",
      "14. Pulse the freeze-dried strawberries and vanilla wafers together in a food processor until broken down into a breadcrumb-like texture.\n",
      "15. Remove the cake from the freezer and from the springform pan. peel away the plastic wrap carefully.\n",
      "16. Use a metal offset spatula to spread the vanilla frosting in a thin.\n",
      "17. Even layer over the top and sides of the cake.\n",
      "18. Quickly press your strawberry-vanilla wafer powder over the top and sides of the cake.\n",
      "19. Pipe 6-8 peaks of vanilla frosting onto the top of the cake using a piping bag fitted with a wide star tip. top each of these with a halved strawberry.\n",
      "20. Serve immediately.\n",
      "21. Tip:.\n",
      "22. Line your pan with plastic wrap to help unmold it later.\n",
      "\n",
      "===============\n",
      "\n",
      "Recipe Name: Chocolate Mousse\n",
      "Recipe ID: 228377\n",
      "\n",
      "Cook Time: 5 Minute(s) \n",
      "Preparation Time: 20 Minute(s) \n",
      "Total Time: 25 Minute(s) \n",
      "Serving(s): 4\n",
      "Calories: 436.7 kcal\n",
      "\n",
      "Ingredients and Quantities\n",
      "250 Chocolate\n",
      "4 Eggs\n",
      "2 Strawberries\n",
      "na Raspberries\n",
      "\n",
      "Instructions\n",
      "1. Break the cholote into a bowl and place over a pan of simmering water until it melts.\n",
      "2. Beat the egg whites until they form stiff and glossy peaks.\n",
      "3. Pour the melted chocolate into a clean bowl and whisk in the egg yolks and tia maria or orange juice. gently fold in a third of the egg whites.\n",
      "4. Then fold in the rest.\n",
      "5. Spoon into glass serving dish.\n",
      "6. Or 4 individual dishes.\n",
      "7. Cover with cling film and place in the refrigerator for at least two hours before serving. for the best results leave overnight.\n",
      "8. Serve with whipped cream and the fresh fruit.\n",
      "\n",
      "===============\n",
      "\n"
     ]
    },
    {
     "data": {
      "image/png": "[encoded data removed]",
      "text/plain": [
       "<Figure size 300x1500 with 5 Axes>"
      ]
     },
     "metadata": {},
     "output_type": "display_data"
    }
   ],
   "source": [
    "df = test_3_df\n",
    "front_end_display(df)"
   ]
  },
  {
   "cell_type": "code",
   "execution_count": null,
   "id": "8ce050cb",
   "metadata": {
    "hidden": true
   },
   "outputs": [],
   "source": []
  },
  {
   "cell_type": "code",
   "execution_count": null,
   "id": "dcd77b98",
   "metadata": {
    "hidden": true
   },
   "outputs": [],
   "source": []
  }
 ],
 "metadata": {
  "kernelspec": {
   "display_name": "your_kitchen_ai",
   "language": "python",
   "name": "your_kitchen_ai"
  },
  "language_info": {
   "codemirror_mode": {
    "name": "ipython",
    "version": 3
   },
   "file_extension": ".py",
   "mimetype": "text/x-python",
   "name": "python",
   "nbconvert_exporter": "python",
   "pygments_lexer": "ipython3",
   "version": "3.10.6"
  },
  "toc": {
   "base_numbering": 1,
   "nav_menu": {},
   "number_sections": true,
   "sideBar": true,
   "skip_h1_title": false,
   "title_cell": "Table of Contents",
   "title_sidebar": "Contents",
   "toc_cell": false,
   "toc_position": {},
   "toc_section_display": true,
   "toc_window_display": false
  }
 },
 "nbformat": 4,
 "nbformat_minor": 5
}
