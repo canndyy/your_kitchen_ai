{
 "cells": [
  {
   "cell_type": "code",
   "execution_count": 2,
   "id": "0f07a00d",
   "metadata": {
    "ExecuteTime": {
     "end_time": "2023-03-06T14:41:28.519248Z",
     "start_time": "2023-03-06T14:41:28.515422Z"
    }
   },
   "outputs": [],
   "source": [
    "import pandas as pd\n",
    "import numpy as np\n",
    "import os\n",
    "import matplotlib.pyplot as plt\n"
   ]
  },
  {
   "cell_type": "code",
   "execution_count": null,
   "id": "ae34ee9f",
   "metadata": {
    "ExecuteTime": {
     "end_time": "2023-03-06T14:49:02.264859Z",
     "start_time": "2023-03-06T14:49:02.246776Z"
    }
   },
   "outputs": [],
   "source": [
    "#get the data in\n",
    "this_path = os.path.abspath(\"\")\n",
    "grocery_rel_path = os.path.join(\"..\", \"data\", \"raw_data\",\"grocery_ingredients\", \"dataset\")\n",
    "grocery_dataset_path = os.path.join(this_path, grocery_rel_path)\n",
    "\n",
    "classes_filepath = os.path.join(grocery_dataset_path, \"classes.csv\")\n",
    "\n",
    "classes_csv = pd.read_csv(classes_filepath)\n",
    "#classes_filepath\n"
   ]
  },
  {
   "cell_type": "code",
   "execution_count": 52,
   "id": "14dc2250",
   "metadata": {
    "ExecuteTime": {
     "end_time": "2023-03-06T15:14:58.326601Z",
     "start_time": "2023-03-06T15:14:58.310286Z"
    }
   },
   "outputs": [
    {
     "data": {
      "text/html": [
       "<div>\n",
       "<style scoped>\n",
       "    .dataframe tbody tr th:only-of-type {\n",
       "        vertical-align: middle;\n",
       "    }\n",
       "\n",
       "    .dataframe tbody tr th {\n",
       "        vertical-align: top;\n",
       "    }\n",
       "\n",
       "    .dataframe thead th {\n",
       "        text-align: right;\n",
       "    }\n",
       "</style>\n",
       "<table border=\"1\" class=\"dataframe\">\n",
       "  <thead>\n",
       "    <tr style=\"text-align: right;\">\n",
       "      <th></th>\n",
       "      <th>Coarse Class ID (int)</th>\n",
       "    </tr>\n",
       "    <tr>\n",
       "      <th>Coarse Class Name (str)</th>\n",
       "      <th></th>\n",
       "    </tr>\n",
       "  </thead>\n",
       "  <tbody>\n",
       "    <tr>\n",
       "      <th>Juice</th>\n",
       "      <td>10</td>\n",
       "    </tr>\n",
       "    <tr>\n",
       "      <th>Yoghurt</th>\n",
       "      <td>6</td>\n",
       "    </tr>\n",
       "    <tr>\n",
       "      <th>Milk</th>\n",
       "      <td>6</td>\n",
       "    </tr>\n",
       "    <tr>\n",
       "      <th>Apple</th>\n",
       "      <td>5</td>\n",
       "    </tr>\n",
       "    <tr>\n",
       "      <th>Pepper</th>\n",
       "      <td>4</td>\n",
       "    </tr>\n",
       "  </tbody>\n",
       "</table>\n",
       "</div>"
      ],
      "text/plain": [
       "                         Coarse Class ID (int)\n",
       "Coarse Class Name (str)                       \n",
       "Juice                                       10\n",
       "Yoghurt                                      6\n",
       "Milk                                         6\n",
       "Apple                                        5\n",
       "Pepper                                       4"
      ]
     },
     "execution_count": 52,
     "metadata": {},
     "output_type": "execute_result"
    }
   ],
   "source": [
    "classes_df = pd.DataFrame(classes_csv)\n",
    "classes_df[[\"Coarse Class ID (int)\"]].value_counts()\n",
    "classes_df[classes_df[\"Coarse Class ID (int)\"] == 7] #20 is coarse class of milk\n",
    "\n",
    "coarse_classes_df = classes_df[[\"Coarse Class Name (str)\", \"Coarse Class ID (int)\"]].groupby(by=[\"Coarse Class Name (str)\"]).count().sort_values(by=[\"Coarse Class ID (int)\"], ascending=False)\n",
    "coarse_classes_df.head()"
   ]
  },
  {
   "cell_type": "code",
   "execution_count": null,
   "id": "b4fb6c4a",
   "metadata": {},
   "outputs": [],
   "source": []
  },
  {
   "cell_type": "markdown",
   "id": "1bc30bdd",
   "metadata": {},
   "source": [
    "## Findings"
   ]
  },
  {
   "cell_type": "code",
   "execution_count": 61,
   "id": "0c74ccfd",
   "metadata": {
    "ExecuteTime": {
     "end_time": "2023-03-06T16:43:56.696780Z",
     "start_time": "2023-03-06T16:43:56.688516Z"
    }
   },
   "outputs": [
    {
     "data": {
      "text/plain": [
       "47"
      ]
     },
     "execution_count": 61,
     "metadata": {},
     "output_type": "execute_result"
    }
   ],
   "source": [
    "#81 fine classes\n",
    "#43 coarse classes\n",
    "\n",
    "important_ingred = [\"onion\", \"garlic\", \"tomato\", \"celery\", \"carrots\", \"potatos\", \"zucchini\", \"bell pepper\",\\\n",
    "                    \"ginger\", \"mushroom\" ,\"cucumber\", \"cabbage\", \"lettuce\", \"spinach\", \"leek\"\\\n",
    "                   \"pumpkin\", \"asparagus\", \"eggplant\", \"broccoli\", \"cauliflower\"]\n",
    "\n",
    "important_fruits = [\"lemon\", \"orange\", \"apple\", \"banana\", \"pineapple\", \"cranberries\", \"strawberries\", \\\n",
    "                    \"peaches\", \"avocado\", \"kiwi\", \"peach\", \"lime\"]\n",
    "\n",
    "important_meat_seafood = [\"chicken\", \"beef\", \"shrimp\", \"salmon\", \"pork\", \"cod\"]\n",
    "\n",
    "important_others = [\"egg\", \"honey\", \"milk\", \"white wine\", \"red wine\", \"rice\", \"pasta\", \"bread\", \"butter\", \"flour\"]\n",
    "\n",
    "all_ingredients = important_ingred + important_fruits + important_meat_seafood + important_others\n",
    "len(all_ingredients)"
   ]
  },
  {
   "cell_type": "code",
   "execution_count": 55,
   "id": "87875fc7",
   "metadata": {
    "ExecuteTime": {
     "end_time": "2023-03-06T15:49:01.972516Z",
     "start_time": "2023-03-06T15:49:01.964185Z"
    },
    "collapsed": true
   },
   "outputs": [
    {
     "data": {
      "text/plain": [
       "['onion',\n",
       " 'garlic',\n",
       " 'tomato',\n",
       " 'celery',\n",
       " 'carrots',\n",
       " 'potatos',\n",
       " 'zucchini',\n",
       " 'bell pepper',\n",
       " 'ginger',\n",
       " 'mushroom',\n",
       " 'cucumber',\n",
       " 'cabbage',\n",
       " 'lettuce',\n",
       " 'spinach',\n",
       " 'leekpumpkin',\n",
       " 'asparagus',\n",
       " 'eggplant',\n",
       " 'broccoli',\n",
       " 'cauliflower',\n",
       " 'lemon',\n",
       " 'orange',\n",
       " 'apple',\n",
       " 'banana',\n",
       " 'pineapple',\n",
       " 'cranberries',\n",
       " 'strawberries',\n",
       " 'peaches',\n",
       " 'avocado',\n",
       " 'kiwi',\n",
       " 'peach',\n",
       " 'lime',\n",
       " 'chicken',\n",
       " 'beef',\n",
       " 'shrimp',\n",
       " 'salmon',\n",
       " 'pork',\n",
       " 'cod',\n",
       " 'egg',\n",
       " 'honey',\n",
       " 'milk',\n",
       " 'white wine',\n",
       " 'red wine',\n",
       " 'rice',\n",
       " 'pasta',\n",
       " 'bread',\n",
       " 'butter',\n",
       " 'flour']"
      ]
     },
     "execution_count": 55,
     "metadata": {},
     "output_type": "execute_result"
    }
   ],
   "source": [
    "ingredients_checked = [\"onion\", \"garlic\", \"tomato\", \"potato\"]\n",
    "\n",
    "ingredients_to_scrape = [\"celery\", \"zucchini\"]"
   ]
  },
  {
   "cell_type": "code",
   "execution_count": 57,
   "id": "7b14c2c2",
   "metadata": {
    "ExecuteTime": {
     "end_time": "2023-03-06T15:50:21.312714Z",
     "start_time": "2023-03-06T15:50:21.308941Z"
    }
   },
   "outputs": [],
   "source": [
    "dictionary = {}\n",
    "\n",
    "for ingred in all_ingredients:\n",
    "    dictionary[ingred] = 0"
   ]
  },
  {
   "cell_type": "code",
   "execution_count": 58,
   "id": "f414cd42",
   "metadata": {
    "ExecuteTime": {
     "end_time": "2023-03-06T15:50:27.316425Z",
     "start_time": "2023-03-06T15:50:27.310350Z"
    },
    "collapsed": true
   },
   "outputs": [
    {
     "data": {
      "text/plain": [
       "{'onion': 0,\n",
       " 'garlic': 0,\n",
       " 'tomato': 0,\n",
       " 'celery': 0,\n",
       " 'carrots': 0,\n",
       " 'potatos': 0,\n",
       " 'zucchini': 0,\n",
       " 'bell pepper': 0,\n",
       " 'ginger': 0,\n",
       " 'mushroom': 0,\n",
       " 'cucumber': 0,\n",
       " 'cabbage': 0,\n",
       " 'lettuce': 0,\n",
       " 'spinach': 0,\n",
       " 'leekpumpkin': 0,\n",
       " 'asparagus': 0,\n",
       " 'eggplant': 0,\n",
       " 'broccoli': 0,\n",
       " 'cauliflower': 0,\n",
       " 'lemon': 0,\n",
       " 'orange': 0,\n",
       " 'apple': 0,\n",
       " 'banana': 0,\n",
       " 'pineapple': 0,\n",
       " 'cranberries': 0,\n",
       " 'strawberries': 0,\n",
       " 'peaches': 0,\n",
       " 'avocado': 0,\n",
       " 'kiwi': 0,\n",
       " 'peach': 0,\n",
       " 'lime': 0,\n",
       " 'chicken': 0,\n",
       " 'beef': 0,\n",
       " 'shrimp': 0,\n",
       " 'salmon': 0,\n",
       " 'pork': 0,\n",
       " 'cod': 0,\n",
       " 'egg': 0,\n",
       " 'honey': 0,\n",
       " 'milk': 0,\n",
       " 'white wine': 0,\n",
       " 'red wine': 0,\n",
       " 'rice': 0,\n",
       " 'pasta': 0,\n",
       " 'bread': 0,\n",
       " 'butter': 0,\n",
       " 'flour': 0}"
      ]
     },
     "execution_count": 58,
     "metadata": {},
     "output_type": "execute_result"
    }
   ],
   "source": [
    "dictionary"
   ]
  },
  {
   "cell_type": "code",
   "execution_count": 60,
   "id": "b40c8281",
   "metadata": {
    "ExecuteTime": {
     "end_time": "2023-03-06T16:18:22.440436Z",
     "start_time": "2023-03-06T16:18:22.436395Z"
    }
   },
   "outputs": [],
   "source": [
    "dictionary['onion'] = [\"1700 pics in kaggle ingredients, lots of granularity\"]\n",
    "dictionary['garlic'] = ['! only in groceries set, not that good']\n",
    "dictionary['tomato'] = ['6000 pics in kaggle ingredients']\n",
    "dictionary['celery'] = ['!! celery not in either']\n",
    "dictionary['carrots'] = [\"! only in grocery dataset\"]\n",
    "dictionary['zucchini'] = [\"! only in grocery dataset\"]\n",
    "\n",
    "\n",
    "\n",
    "\n",
    "\n"
   ]
  },
  {
   "cell_type": "code",
   "execution_count": null,
   "id": "ef5deb21",
   "metadata": {},
   "outputs": [],
   "source": []
  }
 ],
 "metadata": {
  "kernelspec": {
   "display_name": "Python 3 (ipykernel)",
   "language": "python",
   "name": "python3"
  },
  "language_info": {
   "codemirror_mode": {
    "name": "ipython",
    "version": 3
   },
   "file_extension": ".py",
   "mimetype": "text/x-python",
   "name": "python",
   "nbconvert_exporter": "python",
   "pygments_lexer": "ipython3",
   "version": "3.10.6"
  },
  "toc": {
   "base_numbering": 1,
   "nav_menu": {},
   "number_sections": true,
   "sideBar": true,
   "skip_h1_title": false,
   "title_cell": "Table of Contents",
   "title_sidebar": "Contents",
   "toc_cell": false,
   "toc_position": {},
   "toc_section_display": true,
   "toc_window_display": false
  }
 },
 "nbformat": 4,
 "nbformat_minor": 5
}
