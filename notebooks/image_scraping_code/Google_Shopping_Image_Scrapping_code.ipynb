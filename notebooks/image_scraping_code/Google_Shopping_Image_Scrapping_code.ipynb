{
 "cells": [
  {
   "cell_type": "code",
   "execution_count": 1,
   "id": "e0271839",
   "metadata": {},
   "outputs": [],
   "source": [
    "#Pip install selenium and webdriver_manager if not already done\n",
    "\n",
    "import selenium\n",
    "from selenium import webdriver\n",
    "import time\n",
    "import requests\n",
    "import os\n",
    "from PIL import Image\n",
    "import io\n",
    "import hashlib\n",
    "from webdriver_manager.chrome import ChromeDriverManager\n",
    "from selenium.webdriver.common.by import By\n",
    "import re\n",
    "from bs4 import BeautifulSoup"
   ]
  },
  {
   "cell_type": "code",
   "execution_count": 2,
   "id": "f7289917",
   "metadata": {},
   "outputs": [],
   "source": [
    "# Put the path for your ChromeDriver here\n",
    "DRIVER_PATH = \"ChromeDriverManager().install()\""
   ]
  },
  {
   "cell_type": "code",
   "execution_count": 3,
   "id": "f287d6b8",
   "metadata": {},
   "outputs": [],
   "source": [
    "def fetch_image_urls(query:str, no_of_pages_of_60:int, wd:webdriver, sleep_between_interactions:int=1):\n",
    "    \n",
    "    q = query\n",
    "    \n",
    "    wd.get(f\"https://www.google.co.uk/search?q={q}&hl=en&psb=1&tbs=vw:d&tbm=shop&ei=cn_-Y9DnFt_87_UP2d6-6Ac&start=0&sa=N&ved=0ahUKEwjQ6Luhobn9AhVf_rsIHVmvD30Q8tMDCI4R&biw=1470&bih=733&dpr=2\")\n",
    "    wd.find_element(By.XPATH, \"//button[contains(@class, 'VfPpkd')]\").click()\n",
    "    \n",
    "    image_urls = []\n",
    "    for n in range(no_of_pages_of_60):\n",
    "        search_url =f\"https://www.google.co.uk/search?q={q}&hl=en&psb=1&tbs=vw:d&tbm=shop&ei=cn_-Y9DnFt_87_UP2d6-6Ac&start={n*60}&sa=N&ved=0ahUKEwjQ6Luhobn9AhVf_rsIHVmvD30Q8tMDCI4R&biw=1470&bih=733&dpr=2\"\n",
    "        wd.get(search_url)\n",
    "\n",
    "    #get all image thumbnail results\n",
    "        print('Processing: ')\n",
    "        for j in range(1,61):\n",
    "            try:\n",
    "                thumbnail_xpath = f\"/html/body/div[7]/div/div[4]/div[3]/div/div[3]/div[2]/div[2]/div/div[{j}]/div[1]/div[2]/div[1]/div[1]/div/div/a/div/div/img\"\n",
    "                \n",
    "                thumbnail_results = wd.find_element(By.XPATH, thumbnail_xpath).get_attribute('src')\n",
    "                image_urls.append(thumbnail_results)\n",
    "                print(f\"{j}/60 \", end=\"\")\n",
    "\n",
    "            except Exception:\n",
    "                continue\n",
    "    \n",
    "        image_count = len(image_urls)\n",
    "        print(f\"image count: {image_count} after page {n+1}\")\n",
    "        \n",
    "    return set(image_urls)\n"
   ]
  },
  {
   "cell_type": "code",
   "execution_count": 4,
   "id": "2ee5d13d",
   "metadata": {},
   "outputs": [],
   "source": [
    "def persist_image(folder_path:str,file_name:str,url:str):\n",
    "    try:\n",
    "        image_content = requests.get(url).content\n",
    "\n",
    "    except Exception as e:\n",
    "        print(f\"ERROR - Could not download {url} - {e}\")\n",
    "\n",
    "    try:\n",
    "        image_file = io.BytesIO(image_content)\n",
    "        image = Image.open(image_file).convert('RGB')\n",
    "        folder_path = os.path.join(folder_path,file_name)\n",
    "        if os.path.exists(folder_path):\n",
    "            file_path = os.path.join(folder_path,hashlib.sha1(image_content).hexdigest()[:10] + '.jpg')\n",
    "        else:\n",
    "            os.mkdir(folder_path)\n",
    "            file_path = os.path.join(folder_path,hashlib.sha1(image_content).hexdigest()[:10] + '.jpg')\n",
    "        with open(file_path, 'wb') as f:\n",
    "            image.save(f, \"JPEG\", quality=85)\n",
    "        print(f\"SUCCESS - saved {url} - as {file_path}\")\n",
    "    except Exception as e:\n",
    "        print(f\"ERROR - Could not save {url} - {e}\")"
   ]
  },
  {
   "cell_type": "code",
   "execution_count": null,
   "id": "e2d01d29",
   "metadata": {},
   "outputs": [],
   "source": [
    "#change your set of queries here, eg. carrots\n",
    "query = \"carrots\"\n",
    "#set number of pages to scrape -- google shopping search returns 60 items per page\n",
    "no_of_pages_of_60_to_scrape = 2\n",
    "#images_path_folder\n",
    "images_path = '/Users/username/desktop/download_images'\n",
    "\n",
    "wd = webdriver.Chrome(executable_path=DRIVER_PATH)\n",
    "links = fetch_image_urls(query, no_of_pages_of_60_to_scrape ,wd)\n",
    "    \n",
    "for i in links:\n",
    "    persist_image(images_path,query,i)"
   ]
  },
  {
   "cell_type": "code",
   "execution_count": null,
   "id": "67268323",
   "metadata": {},
   "outputs": [],
   "source": []
  }
 ],
 "metadata": {
  "kernelspec": {
   "display_name": "Python 3 (ipykernel)",
   "language": "python",
   "name": "python3"
  },
  "language_info": {
   "codemirror_mode": {
    "name": "ipython",
    "version": 3
   },
   "file_extension": ".py",
   "mimetype": "text/x-python",
   "name": "python",
   "nbconvert_exporter": "python",
   "pygments_lexer": "ipython3",
   "version": "3.10.6"
  },
  "toc": {
   "base_numbering": 1,
   "nav_menu": {},
   "number_sections": true,
   "sideBar": true,
   "skip_h1_title": false,
   "title_cell": "Table of Contents",
   "title_sidebar": "Contents",
   "toc_cell": false,
   "toc_position": {},
   "toc_section_display": true,
   "toc_window_display": false
  }
 },
 "nbformat": 4,
 "nbformat_minor": 5
}
