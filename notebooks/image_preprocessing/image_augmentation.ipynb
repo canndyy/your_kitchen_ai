{
 "cells": [
  {
   "cell_type": "code",
   "execution_count": 85,
   "id": "aa174996",
   "metadata": {},
   "outputs": [],
   "source": [
    "import os\n",
    "import io \n",
    "from PIL import Image\n",
    "import random\n",
    "import numpy as np\n",
    "import matplotlib.pyplot as plt\n",
    "from tensorflow.keras import layers, Sequential\n",
    "from tensorflow.keras.utils import image_dataset_from_directory, load_img, img_to_array\n",
    "from tensorflow.keras.preprocessing.image import ImageDataGenerator\n"
   ]
  },
  {
   "cell_type": "code",
   "execution_count": 83,
   "id": "5e2c4f25",
   "metadata": {},
   "outputs": [
    {
     "name": "stdout",
     "output_type": "stream",
     "text": [
      "32\n",
      "33\n",
      "32\n",
      "50\n"
     ]
    }
   ],
   "source": [
    "print(len(sorted(os.listdir(os.path.join(\"../../data/train\")))))\n",
    "print(len(sorted(os.listdir(os.path.join(\"../../data/test\")))))\n",
    "print(len(sorted(os.listdir(os.path.join(\"../../data/val\")))))\n",
    "\n",
    "all_ingredients = [\n",
    "                    'apple', 'asparagus', 'avocado'\n",
    "                   , 'banana', 'beef', 'beetroot', 'blueberry', 'bread', 'broccoli', 'butter'\n",
    "                   , 'cabbage', 'capsicum', 'carrot', 'cauliflower', 'celery', 'chicken'\n",
    "                   , 'cod', 'coconut', 'corn', 'cranberry', 'cucumber'\n",
    "                   , 'egg', 'eggplant', 'flour' , 'garlic', 'ginger', 'grape'\n",
    "                   , 'honey', 'kiwi', 'leek', 'lemon', 'lettuce', 'lime'\n",
    "                   , 'milk', 'mushroom', 'onion', 'orange'\n",
    "                   , 'pasta', 'pineapple', 'pork', 'potato', 'prawn', 'pumpkin'\n",
    "                   , 'red_wine'\n",
    "                   , 'salmon', 'spinach', 'strawberry'\n",
    "                   , 'tomato'\n",
    "                   , 'white_wine'\n",
    "                   , 'zucchini'\n",
    "                    ]\n",
    "\n",
    "print(len(all_ingredients))"
   ]
  },
  {
   "cell_type": "code",
   "execution_count": 2,
   "id": "e5593479",
   "metadata": {},
   "outputs": [],
   "source": [
    "#----Create image augmentation generator\n",
    "datagen = ImageDataGenerator(rotation_range = 90,\n",
    "                            horizontal_flip = True,\n",
    "                            vertical_flip = True,\n",
    "                            width_shift_range = 0.2,\n",
    "                            height_shift_range = 0.2,\n",
    "                            shear_range = 0.2,\n",
    "                            zoom_range = 0.3,\n",
    "                            brightness_range = (0.5,1))\n"
   ]
  },
  {
   "cell_type": "code",

   "execution_count": 87,

   "id": "8a439aef",
   "metadata": {},
   "outputs": [],
   "source": [

    "def data_aug(parent_folder_path: str, dataset: str, ingred_name: str, total_num_images_required: dict, save_to_dir: str):    \n",
    "    \n",
    "    #----Get list of file names from sub_folder\n",
    "    src_path = os.path.join(parent_folder_path, dataset, ingred_name)\n",
    "    img_name_list = os.listdir(src_path)\n",
    "    \n",
    "    #----Remove hidden file(s) in img_name_list\n",
    "    for img_name in img_name_list:\n",
    "        if img_name[0] == \".\":\n",
    "            img_name_list.remove(img_name)\n",
    "    \n",
    "    #----Total number of images required in folder\n",
    "    if dataset == \"train\":\n",
    "        total_num_images_req = total_num_images_required[\"train\"]\n",
    "    elif dataset == \"val\":\n",
    "        total_num_images_req = total_num_images_required[\"val\"]\n",
    "    elif dataset == \"test\":\n",
    "        total_num_images_req = total_num_images_required[\"test\"]\n",
    "        \n",
    "    #----number of images needed for augmenting\n",
    "    if len(img_name_list)*2 > total_num_images_req:\n",
    "        random.shuffle(img_name_list)\n",
    "        new_img_name_list = img_name_list[:total_num_images_req-len(img_name_list)]\n",
    "    else:\n",
    "        new_img_name_list = img_name_list\n",
    "\n",
    "    print(f\"Number of images used for augmentation: {len(new_img_name_list)}\")\n",
    "    \n",
    "    #----lopping through each image file...\n",
    "    for original_img_name in new_img_name_list:\n",
    "\n",
    "        #----load the image\n",
    "        original_img_file_path = os.path.join(parent_folder_path, dataset, ingred_name, original_img_name) \n",
    "        loading_img = load_img(original_img_file_path)\n",
    "\n",
    "        #----convert image to 3D array\n",
    "        img_3d = img_to_array(loading_img)\n",
    "\n",
    "        #----convert 3d image to 4d (a list with one 3d image)\n",
    "        img_list = np.expand_dims(img_3d, axis=0)\n",
    "        \n",
    "        \n",
    "        #(can be replaced)----Create image iterator \n",
    "        image_iterator = datagen.flow(img_list, batch_size=1\n",
    "                                  ,save_to_dir=save_to_dir, save_prefix=f'aug_{original_img_name[0:-4]}'\n",
    "                                      , save_format='jpg')\n",
    "\n",
    "        #(can be replaced)----Save image\n",
    "        for i in range(total_num_images_req//len(img_name_list)):\n",
    "            image_iterator.next()\n",
    "\n",
    "            "
   ]
  },
  {
   "cell_type": "code",
   "execution_count": 62,
   "id": "30186e36",
   "metadata": {},
   "outputs": [],
   "source": [
    "############----SET INPUTS----################\n",
    "\n",
    "#datasets: train, val, test\n",
    "# dataset_list = [\"test\", \"train\", \"val\"]\n",
    "dataset_list =[\"train\"]\n",
    "\n",
    "#Set total number of images needed for each class\n",
    "total_num_images_required = {\"train\": 1000, \"test\": 200, \"val\": 200}\n",
    "\n",
    "\n",
    "#----Set original image folder path\n",
    "parent_folder_path = \"../../data\"\n",
    "ingred_name = \"apple\"\n",
    "\n",

    "#----Set save path = src folder  \n",
    "save_to_dir = os.path.join(parent_folder_path, dataset, ingred_name)\n",
    "\n"

   ]
  },
  {
   "cell_type": "code",
   "execution_count": 63,
   "id": "4ee4b2f1",
   "metadata": {},
   "outputs": [
    {
     "name": "stdout",
     "output_type": "stream",
     "text": [
      "Number of images used for augmentation: 158\n"
     ]
    }
   ],
   "source": [
    "#----Calling function\n",
    "# for ingred_name in ingred_list:\n",
    "for dataset in dataset_list:\n",
    "    data_aug(parent_folder_path, dataset, ingred_name, total_num_images_required, save_to_dir)    \n"
   ]
  },
  {
   "cell_type": "code",
   "execution_count": 33,
   "id": "1f356ef6",
   "metadata": {},
   "outputs": [],
   "source": [
    "#----EXTRA CODE FOR VIEWING THE AUGMENTED IMAGES, SEE LINES WITH \"(can be replaced)\"\n",
    "\n",
    "# image_iterator = datagen.flow(img_list, batch_size=1)\n",
    "\n",
    "# rows = 2\n",
    "# columns = 2\n",
    "\n",
    "# fig, axes = plt.subplots(rows, columns)\n",
    "# fig.set_size_inches(10,10)\n",
    "\n",
    "# for r in range(rows):\n",
    "#     for c in range(columns):\n",
    "#         image_batch = image_iterator.next()\n",
    "#         image = image_batch[0].astype('uint8')\n",
    "#         axes[r,c].imshow(image)"
   ]
  },
  {
   "cell_type": "code",
   "execution_count": null,
   "id": "05755ca8",
   "metadata": {},
   "outputs": [],
   "source": []
  },
  {
   "cell_type": "code",
   "execution_count": null,
   "id": "c5742fae",
   "metadata": {},
   "outputs": [],
   "source": []
  }
 ],
 "metadata": {
  "environment": {
   "kernel": "python3",
   "name": "tf2-gpu.2-8.m103",
   "type": "gcloud",
   "uri": "gcr.io/deeplearning-platform-release/tf2-gpu.2-8:m103"
  },
  "kernelspec": {
   "display_name": "your_kitchen_ai",
   "language": "python",
   "name": "your_kitchen_ai"
  },
  "language_info": {
   "codemirror_mode": {
    "name": "ipython",
    "version": 3
   },
   "file_extension": ".py",
   "mimetype": "text/x-python",
   "name": "python",
   "nbconvert_exporter": "python",
   "pygments_lexer": "ipython3",
   "version": "3.10.6"
  },
  "toc": {
   "base_numbering": 1,
   "nav_menu": {},
   "number_sections": true,
   "sideBar": true,
   "skip_h1_title": false,
   "title_cell": "Table of Contents",
   "title_sidebar": "Contents",
   "toc_cell": false,
   "toc_position": {},
   "toc_section_display": true,
   "toc_window_display": false
  }
 },
 "nbformat": 4,
 "nbformat_minor": 5
}
