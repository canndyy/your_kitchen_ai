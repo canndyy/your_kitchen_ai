{
 "cells": [
  {
   "cell_type": "code",
   "execution_count": 30,
   "id": "aa174996",
   "metadata": {},
   "outputs": [],
   "source": [
    "from PIL import Image\n",
    "import os\n",
    "import numpy as np\n",
    "import matplotlib.pyplot as plt\n",
    "from tensorflow.keras import layers, Sequential\n",
    "from tensorflow.keras.utils import image_dataset_from_directory, load_img, img_to_array\n",
    "from tensorflow.keras.preprocessing.image import ImageDataGenerator"
   ]
  },
  {
   "cell_type": "code",
   "execution_count": 57,
   "id": "30186e36",
   "metadata": {},
   "outputs": [],
   "source": [
    "############----SET INPUTS----################\n",
    "\n",
    "#----Set original image folder path, dataset to use, etc\n",
    "parent_folder_path = \"../../data/resized_data\"\n",
    "dataset = \"Fruits and Vegetables Image Recognition Dataset/train\"\n",
    "sub_folder = \"garlic\"\n",
    "\n",
    "#Set number of augmented images to generate\n",
    "number_of_images_to_generate = 1"
   ]
  },
  {
   "cell_type": "code",
   "execution_count": 58,
   "id": "e5593479",
   "metadata": {},
   "outputs": [],
   "source": [
    "#----Create image augmentation generator\n",
    "datagen = ImageDataGenerator(rotation_range = 90,\n",
    "                            horizontal_flip = True,\n",
    "                            vertical_flip = True,\n",
    "                            width_shift_range = 0.2,\n",
    "                            height_shift_range = 0.2,\n",
    "                            shear_range = 0.3,\n",
    "                            zoom_range = 0.5,\n",
    "                            brightness_range = (0.5,1))"
   ]
  },
  {
   "cell_type": "code",
   "execution_count": 55,
   "id": "8a439aef",
   "metadata": {},
   "outputs": [],
   "source": [
    "def data_aug(parent_folder_path, dataset, sub_folder):\n",
    "\n",
    "    #----Create new aug_{sub_folder} next to original sub_folder for saving augmented images,\n",
    "        #if directory already exist then no action will be done\n",
    "    os.makedirs(os.path.join(parent_folder_path, dataset, f\"aug_{sub_folder}\"), exist_ok=True)\n",
    "\n",
    "    #----Set save path = aug_{sub_folder} \n",
    "    save_to_dir = os.path.join(parent_folder_path, dataset, f\"aug_{sub_folder}\")\n",
    "    \n",
    "    #----Getting list of file names from sub_folder\n",
    "    img_name_list = os.listdir(os.path.join(parent_folder_path, dataset, sub_folder))\n",
    "\n",
    "    #----Remove hidden file(s) in img_name_list\n",
    "    if \".DS_Store\" in img_name_list:\n",
    "        img_name_list.remove(\".DS_Store\")\n",
    "\n",
    "    #----lopping through each image file...\n",
    "    for original_img_name in img_name_list:\n",
    "\n",
    "        #----load the image\n",
    "        original_img_file_path = os.path.join(parent_folder_path, dataset, sub_folder, original_img_name) \n",
    "        loading_img = load_img(original_img_file_path)\n",
    "\n",
    "        #----convert image to 3D array\n",
    "        img_3d = img_to_array(loading_img)\n",
    "\n",
    "        #----convert 3d image to 4d (a list with one 3d image)\n",
    "        img_list = np.expand_dims(img_3d, axis=0)\n",
    "        \n",
    "        \n",
    "        #(can be replaced)----Create image iterator \n",
    "        image_iterator = datagen.flow(img_list, batch_size=1\n",
    "                                  ,save_to_dir=save_to_dir, save_prefix=f'aug_{original_img_name[0:-4]}'\n",
    "                                      , save_format='jpg')\n",
    "\n",
    "        #(can be replaced)----Save image\n",
    "        for i in range(number_of_images_to_generate):\n",
    "            image_iterator.next()\n",
    "            "
   ]
  },
  {
   "cell_type": "code",
   "execution_count": 56,
   "id": "4ee4b2f1",
   "metadata": {},
   "outputs": [],
   "source": [
    "#----Calling function\n",
    "data_aug(parent_folder_path, dataset, sub_folder)\n"
   ]
  },
  {
   "cell_type": "code",
   "execution_count": 11,
   "id": "1f356ef6",
   "metadata": {},
   "outputs": [],
   "source": [
    "#----EXTRA CODE FOR VIEWING THE AUGMENTED IMAGES, SEE LINES WITH \"(can be replaced)\"\n",
    "\n",
    "# image_iterator = datagen.flow(img_list, batch_size=1)\n",
    "\n",
    "# rows = 2\n",
    "# columns = 2\n",
    "\n",
    "# fig, axes = plt.subplots(rows, columns)\n",
    "# fig.set_size_inches(10,10)\n",
    "\n",
    "# for r in range(rows):\n",
    "#     for c in range(columns):\n",
    "#         image_batch = image_iterator.next()\n",
    "#         image = image_batch[0].astype('uint8')\n",
    "#         axes[r,c].imshow(image)"
   ]
  },
  {
   "cell_type": "code",
   "execution_count": null,
   "id": "05755ca8",
   "metadata": {},
   "outputs": [],
   "source": []
  }
 ],
 "metadata": {
  "kernelspec": {
   "display_name": "kitchen-ai-env",
   "language": "python",
   "name": "kitchen-ai-env"
  },
  "language_info": {
   "codemirror_mode": {
    "name": "ipython",
    "version": 3
   },
   "file_extension": ".py",
   "mimetype": "text/x-python",
   "name": "python",
   "nbconvert_exporter": "python",
   "pygments_lexer": "ipython3",
   "version": "3.10.6"
  },
  "toc": {
   "base_numbering": 1,
   "nav_menu": {},
   "number_sections": true,
   "sideBar": true,
   "skip_h1_title": false,
   "title_cell": "Table of Contents",
   "title_sidebar": "Contents",
   "toc_cell": false,
   "toc_position": {},
   "toc_section_display": true,
   "toc_window_display": false
  }
 },
 "nbformat": 4,
 "nbformat_minor": 5
}
