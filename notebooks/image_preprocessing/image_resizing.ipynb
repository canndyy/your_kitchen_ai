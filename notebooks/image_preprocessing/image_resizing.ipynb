{
 "cells": [
  {
   "cell_type": "code",
   "execution_count": 89,
   "id": "734ce0ff",
   "metadata": {},
   "outputs": [],
   "source": [
    "from PIL import Image\n",
    "import os\n"
   ]
  },
  {
   "cell_type": "code",
   "execution_count": 90,
   "id": "aabdd2c0",
   "metadata": {},
   "outputs": [],
   "source": [
    "#scrapping dataset\n",
    "other_ingredients = [\"chicken\" \n",
    "                    ,\"beef\"\n",
    "                    ,\"pork\"\n",
    "                    ,\"salmon\"\n",
    "                    ,\"cod\"\n",
    "                    ,\"prawns\"\n",
    "                    ,\"eggs\"\n",
    "                    ,\"honey\"\n",
    "                    ,\"white_wine\"\n",
    "                    ,\"red_wine\"\n",
    "                    ,\"pasta\"\n",
    "                    ,\"bread\"\n",
    "                    ,\"butter\"\n",
    "                    ,\"flour\"\n",
    "                    ,\"milk\"\n",
    "                    ,\"celery\"\n",
    "                    ,\"asparagus\"\n",
    "                    ,\"leek\"\n",
    "                    ,\"mushroom\"\n",
    "                    ,\"spinach\"\n",
    "                   ]\n",
    "\n",
    "other_ingredients = sorted(food_ingredients)"
   ]
  },
  {
   "cell_type": "code",
   "execution_count": 76,
   "id": "d3ed6fd2",
   "metadata": {},
   "outputs": [],
   "source": [
    "#fruits262 dataset\n",
    "fruit262_ingredients = [\n",
    "                        \"apple\", \"avocado\", \n",
    "                        \"banana\", \"blueberry\", \"coconut\"\n",
    "                        , \"cranberry\", \"eggplant\", \"grape\", \"kiwi\", \"lemon\"\n",
    "                        ,\"lime\", \"orange\", \"pineapple\", \"strawberry\", \"zucchini\" \n",
    "                        ]"
   ]
  },
  {
   "cell_type": "code",
   "execution_count": 81,
   "id": "161ac04a",
   "metadata": {},
   "outputs": [],
   "source": [
    "#fruits and vegatables dataset\n",
    "fruit_and_vegetable_ingredients = [\"garlic\", \"ginger\", \"lettuce\", \"onion\", \"spinach\", \"corn\", \"beetroot\"]"
   ]
  },
  {
   "cell_type": "code",
   "execution_count": 91,
   "id": "05c10e6a",
   "metadata": {},
   "outputs": [],
   "source": [
    "def resize_image(dataset, parent_folder, sub_folder):\n",
    "\n",
    "    for folder_name in dataset:\n",
    "\n",
    "        folder_path = os.path.join(parent_folder, dataset, folder_name)\n",
    "        food_list = os.listdir(folder_path)\n",
    "        \n",
    "        #remove hidden files from food_list\n",
    "        # this is for mac-os users only to remove .DS_Store hidden file, windows users may have different hidden files\n",
    "        if \".DS_Store\" in food_list:\n",
    "            food_list.remove(\".DS_Store\")\n",
    "        \n",
    "        #print number of images files in folder\n",
    "        print(f\"Number of images in {folder_name}: {len(food_list)}\")\n",
    "\n",
    "        for original_img_name in food_list:\n",
    "            print(f\"processing: {original_img_name}\")\n",
    "            \n",
    "            #retrieve file path name\n",
    "            original_img_path = os.path.join(parent_folder, sub_folder, folder_name, original_img_name)\n",
    "\n",
    "            #Open the image\n",
    "            old_image = Image.open(original_img_path)\n",
    "    #         print(f\"{original_img_name} size: {old_image.size}\")\n",
    "\n",
    "            #resizing image\n",
    "            new_size = (224, 224)\n",
    "            try:\n",
    "                resized_image = old_image.resize(new_size)\n",
    "    #         print(f\"New {original_img_name} size: {resized_image.size}\")\n",
    "\n",
    "            #saving image\n",
    "                new_image_path = os.path.join(parent_folder, sub_folder, folder_name, f\"resized_{original_img_name}\")\n",
    "                resized_image.save(new_image_path)\n",
    "            except:\n",
    "                continue"
   ]
  },
  {
   "cell_type": "code",
   "execution_count": null,
   "id": "6f274bc0",
   "metadata": {},
   "outputs": [],
   "source": [
    "#dataset to use\n",
    "dataset = fruit262_ingredients\n",
    "\n",
    "#set parent folder path\n",
    "parent_folder = \"../../data\"\n",
    "\n",
    "#add subfolder names there is any\n",
    "sub_folder = \"\""
   ]
  },
  {
   "cell_type": "code",
   "execution_count": null,
   "id": "914a400e",
   "metadata": {},
   "outputs": [],
   "source": [
    "#calling function to resize and save images\n",
    "resize_image(dataset, parent_folder, sub_folder)"
   ]
  }
 ],
 "metadata": {
  "kernelspec": {
   "display_name": "your_kitchen_ai",
   "language": "python",
   "name": "your_kitchen_ai"
  },
  "language_info": {
   "codemirror_mode": {
    "name": "ipython",
    "version": 3
   },
   "file_extension": ".py",
   "mimetype": "text/x-python",
   "name": "python",
   "nbconvert_exporter": "python",
   "pygments_lexer": "ipython3",
   "version": "3.10.6"
  },
  "toc": {
   "base_numbering": 1,
   "nav_menu": {},
   "number_sections": true,
   "sideBar": true,
   "skip_h1_title": false,
   "title_cell": "Table of Contents",
   "title_sidebar": "Contents",
   "toc_cell": false,
   "toc_position": {},
   "toc_section_display": true,
   "toc_window_display": false
  }
 },
 "nbformat": 4,
 "nbformat_minor": 5
}
