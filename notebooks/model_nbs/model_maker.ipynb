{
 "cells": [
  {
   "cell_type": "markdown",
   "id": "abbe31a2-b761-4a28-a5c0-ba88709359b0",
   "metadata": {},
   "source": [
    "Clean model maker\n"
   ]
  },
  {
   "cell_type": "code",
   "execution_count": 1,
   "id": "09f263ea-ae89-4dbb-b66b-b91a8a403f6d",
   "metadata": {},
   "outputs": [],
   "source": [
    "#imports\n",
    "import tensorflow as tf\n",
    "from tensorflow.keras import models, layers, regularizers\n",
    "import tensorflow.keras.metrics # import Precision, Recall,Accuracy\n",
    "from tensorflow.keras.callbacks import EarlyStopping\n",
    "from tensorflow.keras.utils import image_dataset_from_directory\n",
    "import matplotlib.pyplot as plt\n",
    "\n",
    "import os\n",
    "os.environ['TF_CPP_MIN_LOG_LEVEL'] = '2'\n",
    "\n",
    "from sklearn.metrics import classification_report"
   ]
  },
  {
   "cell_type": "code",
   "execution_count": null,
   "id": "0431b4ee-504f-4cd3-a3d9-bd8ffd87f10f",
   "metadata": {},
   "outputs": [],
   "source": []
  },
  {
   "cell_type": "markdown",
   "id": "8780544b-0cfc-49d8-8d45-846673c0a065",
   "metadata": {},
   "source": [
    "# Set parameters"
   ]
  },
  {
   "cell_type": "code",
   "execution_count": 2,
   "id": "ac7b57e2-48bc-4c6a-97a8-cd6be5bdcc17",
   "metadata": {},
   "outputs": [],
   "source": [
    "#for data splits\n",
    "batch_size = 16 #None = 1 #16 #32\n",
    "img_height = 224\n",
    "img_width = 224\n",
    "seed_train_validation = 69 # Must be same for train_ds and val_ds\n",
    "#shuffle_value = True\n",
    "#validation_split = 0.2 irrelevant\n"
   ]
  },
  {
   "cell_type": "code",
   "execution_count": 3,
   "id": "fb22e349-24ad-4f93-ba91-37a0597d7b69",
   "metadata": {},
   "outputs": [
    {
     "name": "stdout",
     "output_type": "stream",
     "text": [
      "Found 21563 files belonging to 45 classes.\n",
      "Found 4417 files belonging to 45 classes.\n",
      "Found 4369 files belonging to 45 classes.\n"
     ]
    }
   ],
   "source": [
    "new_way = True\n",
    "label_mode = \"int\" \n",
    "\n",
    "def load_data_new_way():\n",
    "    #path_to_dataset = os.path.join(\"..\", \"test_data\", \"3_test_from_bucket2\")\n",
    "    #path_to_dataset = os.path.join(\"..\",\"..\",\"data\",\"food\")\n",
    "    \n",
    "    path_to_dataset = os.path.join(\"..\", \"..\", \"test_data\", \"3_whole_bucket_no_aug\")\n",
    "    \n",
    "    path_to_dataset_train = os.path.join(path_to_dataset, \"train\")\n",
    "    path_to_dataset_test = os.path.join(path_to_dataset,  \"test\")\n",
    "    path_to_dataset_val = os.path.join(path_to_dataset,   \"val\")\n",
    "    \n",
    "    X_train = image_dataset_from_directory(\n",
    "        path_to_dataset_train,\n",
    "        label_mode=label_mode,\n",
    "        color_mode=\"rgb\",\n",
    "        seed=seed_train_validation,\n",
    "        image_size=(img_height, img_width),\n",
    "        batch_size=batch_size,\n",
    "        shuffle=True\n",
    "        )\n",
    "\n",
    "    X_val = image_dataset_from_directory(\n",
    "        path_to_dataset_val,\n",
    "        label_mode=label_mode,\n",
    "        color_mode=\"rgb\",\n",
    "        seed=seed_train_validation,\n",
    "        image_size=(img_height, img_width),\n",
    "        batch_size=batch_size,\n",
    "        shuffle=True\n",
    "        )\n",
    "\n",
    "    X_test = image_dataset_from_directory(\n",
    "        path_to_dataset_test,\n",
    "        label_mode=label_mode,\n",
    "        color_mode=\"rgb\",\n",
    "        seed=seed_train_validation,\n",
    "        image_size=(img_height, img_width),\n",
    "        batch_size=batch_size,\n",
    "        shuffle=False\n",
    "        )\n",
    "    return X_train,X_val,X_test\n",
    "X_train, X_val, X_test = load_data_new_way()\n",
    "\n",
    "#print sample label"
   ]
  },
  {
   "cell_type": "code",
   "execution_count": 4,
   "id": "bcea58b6-3c3f-46fc-b888-e8173581c238",
   "metadata": {},
   "outputs": [
    {
     "data": {
      "text/plain": [
       "['apple',\n",
       " 'asparagus',\n",
       " 'avocado',\n",
       " 'banana',\n",
       " 'beef',\n",
       " 'beetroot',\n",
       " 'blueberry',\n",
       " 'broccoli',\n",
       " 'cabbage',\n",
       " 'capsicum',\n",
       " 'carrot',\n",
       " 'cauliflower',\n",
       " 'celery',\n",
       " 'chicken',\n",
       " 'coconut',\n",
       " 'cod',\n",
       " 'corn',\n",
       " 'cranberry',\n",
       " 'cucumber',\n",
       " 'eggplant',\n",
       " 'eggs',\n",
       " 'garlic',\n",
       " 'ginger',\n",
       " 'grape',\n",
       " 'honey',\n",
       " 'kiwi',\n",
       " 'leek',\n",
       " 'lemon',\n",
       " 'lettuce',\n",
       " 'lime',\n",
       " 'milk',\n",
       " 'mushroom',\n",
       " 'onion',\n",
       " 'orange',\n",
       " 'pineapple',\n",
       " 'pork',\n",
       " 'potato',\n",
       " 'prawns',\n",
       " 'pumpkin',\n",
       " 'salmon',\n",
       " 'spinach',\n",
       " 'strawberry',\n",
       " 'tomato',\n",
       " 'white',\n",
       " 'zucchini']"
      ]
     },
     "execution_count": 4,
     "metadata": {},
     "output_type": "execute_result"
    }
   ],
   "source": [
    "X_train.class_names"
   ]
  },
  {
   "cell_type": "code",
   "execution_count": 5,
   "id": "421d6c08-167c-4a74-9517-a4dc99d2dd98",
   "metadata": {},
   "outputs": [
    {
     "data": {
      "text/plain": [
       "(1348, 274, 277)"
      ]
     },
     "execution_count": 5,
     "metadata": {},
     "output_type": "execute_result"
    }
   ],
   "source": [
    "train_batches = tf.data.experimental.cardinality(X_train)\n",
    "test_batches = tf.data.experimental.cardinality(X_test)\n",
    "val_batches = tf.data.experimental.cardinality(X_val)\n",
    "\n",
    "train_batches.numpy() , test_batches.numpy() ,val_batches.numpy()"
   ]
  },
  {
   "cell_type": "code",
   "execution_count": 6,
   "id": "9572c8ed-fbeb-4784-a07a-b5285572d8d3",
   "metadata": {},
   "outputs": [
    {
     "data": {
      "text/plain": [
       "<BatchDataset element_spec=(TensorSpec(shape=(None, 224, 224, 3), dtype=tf.float32, name=None), TensorSpec(shape=(None,), dtype=tf.int32, name=None))>"
      ]
     },
     "execution_count": 6,
     "metadata": {},
     "output_type": "execute_result"
    }
   ],
   "source": [
    "X_val\n"
   ]
  },
  {
   "cell_type": "markdown",
   "id": "62fa7fd9-7b97-4db8-a6d1-a2203d1f24bb",
   "metadata": {},
   "source": [
    "# Prep for model"
   ]
  },
  {
   "cell_type": "code",
   "execution_count": 7,
   "id": "7fb0090c-6f15-4955-ae64-39d372293c9c",
   "metadata": {},
   "outputs": [
    {
     "data": {
      "text/plain": [
       "{0: 'apple',\n",
       " 1: 'asparagus',\n",
       " 2: 'avocado',\n",
       " 3: 'banana',\n",
       " 4: 'beef',\n",
       " 5: 'beetroot',\n",
       " 6: 'blueberry',\n",
       " 7: 'broccoli',\n",
       " 8: 'cabbage',\n",
       " 9: 'capsicum',\n",
       " 10: 'carrot',\n",
       " 11: 'cauliflower',\n",
       " 12: 'celery',\n",
       " 13: 'chicken',\n",
       " 14: 'coconut',\n",
       " 15: 'cod',\n",
       " 16: 'corn',\n",
       " 17: 'cranberry',\n",
       " 18: 'cucumber',\n",
       " 19: 'eggplant',\n",
       " 20: 'eggs',\n",
       " 21: 'garlic',\n",
       " 22: 'ginger',\n",
       " 23: 'grape',\n",
       " 24: 'honey',\n",
       " 25: 'kiwi',\n",
       " 26: 'leek',\n",
       " 27: 'lemon',\n",
       " 28: 'lettuce',\n",
       " 29: 'lime',\n",
       " 30: 'milk',\n",
       " 31: 'mushroom',\n",
       " 32: 'onion',\n",
       " 33: 'orange',\n",
       " 34: 'pineapple',\n",
       " 35: 'pork',\n",
       " 36: 'potato',\n",
       " 37: 'prawns',\n",
       " 38: 'pumpkin',\n",
       " 39: 'salmon',\n",
       " 40: 'spinach',\n",
       " 41: 'strawberry',\n",
       " 42: 'tomato',\n",
       " 43: 'white',\n",
       " 44: 'zucchini'}"
      ]
     },
     "execution_count": 7,
     "metadata": {},
     "output_type": "execute_result"
    }
   ],
   "source": [
    "def get_target_dict():\n",
    "    #classes = os.listdir(path_to_dataset_test)\n",
    "    classes = X_test.class_names\n",
    "    classes.sort()\n",
    "    \n",
    "    #classes.remove(\".ipynb_checkpoints\")\n",
    "    \n",
    "    target_dict_out = {}\n",
    "    for index, veg in enumerate(classes):\n",
    "        target_dict_out[index] = veg\n",
    "    \n",
    "    return target_dict_out\n",
    "target_dict = get_target_dict()\n",
    "target_dict"
   ]
  },
  {
   "cell_type": "code",
   "execution_count": 8,
   "id": "fafd232b-b293-4dd3-b4ab-cad28148d18a",
   "metadata": {},
   "outputs": [
    {
     "name": "stdout",
     "output_type": "stream",
     "text": [
      "test label: [19  8 14 19 33 42  5 34 41 27 36 18 23  8 11 42]\n",
      "first test label: 19\n",
      "first test label human: eggplant\n"
     ]
    },
    {
     "data": {
      "text/plain": [
       "<matplotlib.image.AxesImage at 0x7fd88d538150>"
      ]
     },
     "execution_count": 8,
     "metadata": {},
     "output_type": "execute_result"
    },
    {
     "data": {
      "image/png": "[encoded data removed]",
      "text/plain": [
       "<Figure size 640x480 with 1 Axes>"
      ]
     },
     "metadata": {},
     "output_type": "display_data"
    }
   ],
   "source": [
    "#get one image - I wish I knew a better way\n",
    "count = 0\n",
    "test_image, test_label = None, None\n",
    "\n",
    "for image, label in X_train:#.take(1):\n",
    "    if count == 0 :\n",
    "        test_image = image.numpy()\n",
    "        test_label = label.numpy()\n",
    "    count+=1\n",
    "    if count > 0: break\n",
    "    \n",
    "#if you want to see an image\n",
    "print(\"test label:\", test_label)\n",
    "print(\"first test label:\", test_label[0])\n",
    "print(\"first test label human:\", target_dict[test_label[0]])\n",
    "\n",
    "plt.imshow(test_image[0]/255)"
   ]
  },
  {
   "cell_type": "code",
   "execution_count": 9,
   "id": "d70d35f9-63a1-4968-8e41-12376ab7b9a9",
   "metadata": {},
   "outputs": [
    {
     "name": "stdout",
     "output_type": "stream",
     "text": [
      "num_classes:  45\n",
      "in_shape:  (224, 224, 3)\n"
     ]
    }
   ],
   "source": [
    "in_shape = test_image[0].shape\n",
    "in_shape\n",
    "\n",
    "num_classes = len(X_train.class_names)\n",
    "print(\"num_classes: \", num_classes)\n",
    "print(\"in_shape: \"   , in_shape)"
   ]
  },
  {
   "cell_type": "markdown",
   "id": "13d5448d-3752-4272-a458-5e6321c0e09c",
   "metadata": {},
   "source": [
    "# Create model"
   ]
  },
  {
   "cell_type": "code",
   "execution_count": 12,
   "id": "46315815-4697-4180-bcd3-0d5bac15e2cb",
   "metadata": {},
   "outputs": [],
   "source": [
    "#declare model\n",
    "def instantiate_model_thicc():\n",
    "    model = models.Sequential()\n",
    "\n",
    "    #normalise the inputs\n",
    "    model.add(layers.Rescaling(1./255))\n",
    "\n",
    "    #first convolutional layer - big kernels, few filters\n",
    "    model.add(layers.Conv2D(16, kernel_size=(5,5), padding=\"same\", activation=\"relu\", input_shape=in_shape))\n",
    "    # model.add(layers.MaxPool2D(pool_size=(2,2)))\n",
    "\n",
    "    model.add(layers.Conv2D(32, kernel_size=(4,4), padding=\"same\", activation=\"relu\"))\n",
    "    # model.add(layers.MaxPool2D(pool_size=(2,2)))\n",
    "\n",
    "    model.add(layers.Conv2D(32, kernel_size=(4,4), padding=\"same\", activation=\"relu\"))\n",
    "    model.add(layers.MaxPool2D(pool_size=(2,2)))\n",
    "    \n",
    "    model.add(layers.Conv2D(32, kernel_size=(4,4), padding=\"same\", activation=\"relu\"))\n",
    "    # model.add(layers.MaxPool2D(pool_size=(2,2)))\n",
    "    \n",
    "    model.add(layers.Conv2D(32, kernel_size=(4,4), padding=\"same\", activation=\"relu\"))\n",
    "    model.add(layers.MaxPool2D(pool_size=(2,2)))\n",
    "    \n",
    "    model.add(layers.Conv2D(32, kernel_size=(4,4), padding=\"same\", activation=\"relu\"))\n",
    "    #model.add(layers.MaxPool2D(pool_size=(2,2)))\n",
    "    \n",
    "    #third conv layer\n",
    "    model.add(layers.Conv2D(64, kernel_size=(3,3), padding=\"same\", activation=\"relu\"))\n",
    "    model.add(layers.MaxPool2D(pool_size=(2,2)))\n",
    "\n",
    "    #Flatten\n",
    "    model.add(layers.Flatten())\n",
    "\n",
    "    #Dense layers - do we regularise the kernels?!\n",
    "    model.add(layers.Dense(64, activation=\"relu\"))#, kernel_regularizer=reg_l1_l2))\n",
    "    model.add(layers.Dropout(0.3) )\n",
    "    model.add(layers.Dense(64, activation=\"relu\"))#, kernel_regularizer=reg_l1_l2))\n",
    "    # model.add(layers.Dropout(0.3) )\n",
    "    model.add(layers.Dense(64, activation=\"relu\"))#, kernel_regularizer=reg_l1_l2))\n",
    "    # model.add(layers.Dropout(0.3) )\n",
    "    model.add(layers.Dense(32, activation=\"relu\"))#, kernel_regularizer=reg_l1_l2))\n",
    "    model.add(layers.Dense(32, activation=\"relu\"))#, kernel_regularizer=reg_l1_l2))\n",
    "    model.add(layers.Dense(16, activation=\"relu\"))#, kernel_regularizer=reg_l1_l2))\n",
    "    model.add(layers.Dense(16, activation=\"relu\"))#, kernel_regularizer=reg_l1_l2))\n",
    "    # model.add(layers.Dropout(0.2) )\n",
    "    model.add(layers.Dense(16, activation=\"relu\"))#, kernel_regularizer=reg_l1_l2))\n",
    "    model.add(layers.Dropout(0.2) ) \n",
    "    model.add(layers.Dense(8, activation=\"relu\"))#, kernel_regularizer=reg_l1_l2))\n",
    "\n",
    "    #Last layer, convert for appropriate model output\n",
    "    model.add(layers.Dense(num_classes, activation=\"softmax\"))\n",
    "    #model.add(layers.Dense(num_classes, activation=\"softmax\"))\n",
    "    \n",
    "    return model\n",
    "\n",
    "#model = instantiate_model_thicc()"
   ]
  },
  {
   "cell_type": "code",
   "execution_count": 13,
   "id": "b9ede251-dec5-4dac-a947-7dcd6795b6c7",
   "metadata": {},
   "outputs": [],
   "source": [
    "#declare model\n",
    "def instantiate_model_old():\n",
    "    model = models.Sequential()\n",
    "\n",
    "    #normalise the inputs\n",
    "    model.add(layers.Rescaling(1./255))\n",
    "\n",
    "    #first convolutional layer - big kernels, few filters\n",
    "    model.add(layers.Conv2D(16, kernel_size=(5,5), padding=\"same\", activation=\"relu\", input_shape=in_shape))\n",
    "    model.add(layers.MaxPool2D(pool_size=(2,2)))\n",
    "\n",
    "    model.add(layers.Conv2D(32, kernel_size=(4,4), padding=\"same\", activation=\"relu\"))\n",
    "    model.add(layers.MaxPool2D(pool_size=(2,2)))\n",
    "\n",
    "    #third conv layer\n",
    "    model.add(layers.Conv2D(64, kernel_size=(3,3), padding=\"same\", activation=\"relu\"))\n",
    "    model.add(layers.MaxPool2D(pool_size=(2,2)))\n",
    "\n",
    "    #Flatten\n",
    "    model.add(layers.Flatten())\n",
    "\n",
    "    #Dense layers - do we regularise the kernels?!\n",
    "    model.add(layers.Dense(64, activation=\"relu\"))#, kernel_regularizer=reg_l1_l2))\n",
    "    model.add(layers.Dropout(0.3) )\n",
    "    model.add(layers.Dense(32, activation=\"relu\"))#, kernel_regularizer=reg_l1_l2))\n",
    "    model.add(layers.Dropout(0.3) )\n",
    "    model.add(layers.Dense(16, activation=\"relu\"))#, kernel_regularizer=reg_l1_l2))\n",
    "    model.add(layers.Dropout(0.2) ) \n",
    "\n",
    "    #Last layer, convert for appropriate model output\n",
    "    model.add(layers.Dense(num_classes, activation=\"softmax\"))\n",
    "    #model.add(layers.Dense(num_classes, activation=\"softmax\"))\n",
    "    \n",
    "    return model\n",
    "\n",
    "#model = instantiate_model()"
   ]
  },
  {
   "cell_type": "code",
   "execution_count": 14,
   "id": "abd741a3-7f42-4e9c-9c99-3b326333ac58",
   "metadata": {},
   "outputs": [],
   "source": [
    "#compile model\n",
    "from tensorflow.keras import metrics as mets\n",
    "def compile_model(model, learning_rate=0.001): #default0.001\n",
    "    loss = \"sparse_categorical_crossentropy\"\n",
    "    \n",
    "    # loss = \"categorical_crossentropy\"\n",
    "    optimizer = \"adam\"\n",
    "    # optimizer = tensorflow.keras.optimizers.Adam(\n",
    "    #     learning_rate=learning_rate\n",
    "    # )\n",
    "    \n",
    "    #metrics = [\"accuracy\"]\n",
    "    #metrics = [Precision(), Recall(), Accuracy()]\n",
    "    #metrics = [Precision()]\n",
    "    \n",
    "    metrics = [mets.SparseCategoricalAccuracy(), \"accuracy\"] #??\n",
    "    # metrics = [mets.CategoricalAccuracy()]\n",
    "    \n",
    "    model.compile(loss=loss, optimizer=optimizer, metrics=metrics)\n",
    "    return model\n",
    "#model = compile_model(model)\n",
    "#model.__dict__;"
   ]
  },
  {
   "cell_type": "code",
   "execution_count": 15,
   "id": "149cb979-976d-4b15-875f-46f5284b867f",
   "metadata": {},
   "outputs": [],
   "source": [
    "def fit_model(model, patience=20, epochs=100):\n",
    "    #prep for early stopping\n",
    "        \n",
    "    es = EarlyStopping(patience=patience, restore_best_weights=True)\n",
    "\n",
    "    #fit\n",
    "    history = model.fit(\n",
    "            X_train, \n",
    "            validation_data=X_val, \n",
    "            epochs=epochs,\n",
    "            #epochs=5,\n",
    "            batch_size=16,\n",
    "            callbacks=[es], \n",
    "            verbose=1\n",
    "        )\n",
    "    return history, model\n",
    "\n",
    "#history, model = fit_model(model)\n",
    "\n",
    "#if below error, RESTART KERNEL(s)!:\n",
    "# 2023-03-08 16:05:03.024852: E tensorflow/stream_executor/cuda/cuda_dnn.cc:373] \n",
    "# Could not create cudnn handle: CUDNN_STATUS_INTERNAL_ERROR"
   ]
  },
  {
   "cell_type": "markdown",
   "id": "d5cabfd0-9abb-4524-ace9-15d30f356b3f",
   "metadata": {},
   "source": [
    "## Saving model"
   ]
  },
  {
   "cell_type": "code",
   "execution_count": null,
   "id": "49d7076e-c342-42d3-bd11-d79dd9b6db06",
   "metadata": {},
   "outputs": [],
   "source": []
  },
  {
   "cell_type": "code",
   "execution_count": 16,
   "id": "e08884b4-89fb-43fc-bf80-7327887c9ecc",
   "metadata": {},
   "outputs": [],
   "source": [
    "#model_name = \"simple_try_on_unaugmented_33_classes\"\n",
    "def save_model(model, model_name):\n",
    "    path_to_models = os.path.join(\"..\",\"..\",\"models\")\n",
    "    os.makedirs(path_to_models, exist_ok=True) #True means don't create new dir if already exists #os.makedirs(path, exist_ok=True)\n",
    "\n",
    "    if not model_name:\n",
    "        print(\"please give the model a name! #goodpractice\")\n",
    "        print(\"model NOT saved\")\n",
    "        return None\n",
    "    \n",
    "    model_path = os.path.join(path_to_models, model_name)\n",
    "    \n",
    "    model.save(model_path)\n",
    "    \n",
    "    return f\"model saved in {path_to_models} as {model_name}\""
   ]
  },
  {
   "cell_type": "markdown",
   "id": "27609db0-9ebc-4020-a740-7875be938993",
   "metadata": {},
   "source": [
    "## track model\n",
    "\n"
   ]
  },
  {
   "cell_type": "code",
   "execution_count": 17,
   "id": "4b1e4b8a-8e41-4ce9-8ed8-8b5c2efd7746",
   "metadata": {},
   "outputs": [],
   "source": [
    "import pickle\n",
    "def save_history(history, model_name):\n",
    "    \n",
    "    #model folder path\n",
    "    model_path = os.path.join(\"..\",\"..\",\"models\", model_name)\n",
    "    path = os.path.join(model_path, \"history\")\n",
    "    \n",
    "    with open(path, 'wb') as history_file:\n",
    "        pickle.dump(history, history_file)\n",
    "    \n",
    "    return None\n",
    "\n",
    "def load_history(model_name):\n",
    "    #model_name=\"test_folder\"\n",
    "    \n",
    "    model_path = os.path.join(\"..\", \"..\", \"models\", model_name) #, \"test_folder\")\n",
    "    \n",
    "    path = os.path.join(model_path, \"history\")\n",
    "    \n",
    "    with open(path, \"rb\") as history_file:\n",
    "        history = pickle.load(history_file)\n",
    "\n",
    "    return history"
   ]
  },
  {
   "cell_type": "code",
   "execution_count": 18,
   "id": "cacb2d2f-44ab-4ab0-8aa8-ce2f0ecbfd58",
   "metadata": {},
   "outputs": [],
   "source": [
    "def plot_learning_curve(history):\n",
    "    history.history;\n",
    "    train_accuracy = history.history[\"sparse_categorical_accuracy\"]\n",
    "    val_accuracy = history.history[\"val_sparse_categorical_accuracy\"]\n",
    "\n",
    "    plt.plot(train_accuracy, label=\"train\")\n",
    "    plt.plot(val_accuracy,label=\"val\")\n",
    "    plt.legend()\n",
    "    return None"
   ]
  },
  {
   "cell_type": "markdown",
   "id": "1790c4dd-4035-448d-b266-8e4e0b14b820",
   "metadata": {},
   "source": [
    "# Run and save model!"
   ]
  },
  {
   "cell_type": "code",
   "execution_count": null,
   "id": "9d50092d-5b8a-4d41-9d6e-c9b719cba2b6",
   "metadata": {},
   "outputs": [],
   "source": []
  },
  {
   "cell_type": "code",
   "execution_count": 19,
   "id": "79ef21a2-3daa-4a69-9a02-231737b9d08f",
   "metadata": {},
   "outputs": [
    {
     "name": "stdout",
     "output_type": "stream",
     "text": [
      "Epoch 1/50\n",
      "1348/1348 [==============================] - 114s 81ms/step - loss: 3.4278 - sparse_categorical_accuracy: 0.0467 - accuracy: 0.0467 - val_loss: 3.2495 - val_sparse_categorical_accuracy: 0.0503 - val_accuracy: 0.0503\n",
      "Epoch 2/50\n",
      "1348/1348 [==============================] - 109s 81ms/step - loss: 3.1647 - sparse_categorical_accuracy: 0.0820 - accuracy: 0.0820 - val_loss: 2.9539 - val_sparse_categorical_accuracy: 0.1180 - val_accuracy: 0.1180\n",
      "Epoch 3/50\n",
      "1348/1348 [==============================] - 109s 81ms/step - loss: 2.9073 - sparse_categorical_accuracy: 0.1189 - accuracy: 0.1189 - val_loss: 2.9171 - val_sparse_categorical_accuracy: 0.1189 - val_accuracy: 0.1189\n",
      "Epoch 4/50\n",
      "1348/1348 [==============================] - 109s 81ms/step - loss: 2.7495 - sparse_categorical_accuracy: 0.1510 - accuracy: 0.1510 - val_loss: 2.6854 - val_sparse_categorical_accuracy: 0.1637 - val_accuracy: 0.1637\n",
      "Epoch 5/50\n",
      "1348/1348 [==============================] - 109s 81ms/step - loss: 2.6240 - sparse_categorical_accuracy: 0.1726 - accuracy: 0.1726 - val_loss: 2.7175 - val_sparse_categorical_accuracy: 0.1521 - val_accuracy: 0.1521\n",
      "Epoch 6/50\n",
      "1348/1348 [==============================] - 109s 81ms/step - loss: 2.5406 - sparse_categorical_accuracy: 0.1954 - accuracy: 0.1954 - val_loss: 2.5835 - val_sparse_categorical_accuracy: 0.1986 - val_accuracy: 0.1986\n",
      "Epoch 7/50\n",
      "1348/1348 [==============================] - 109s 81ms/step - loss: 2.4593 - sparse_categorical_accuracy: 0.2122 - accuracy: 0.2122 - val_loss: 2.4628 - val_sparse_categorical_accuracy: 0.2282 - val_accuracy: 0.2282\n",
      "Epoch 8/50\n",
      "1348/1348 [==============================] - 109s 81ms/step - loss: 2.3841 - sparse_categorical_accuracy: 0.2300 - accuracy: 0.2300 - val_loss: 2.4166 - val_sparse_categorical_accuracy: 0.2361 - val_accuracy: 0.2361\n",
      "Epoch 9/50\n",
      "1348/1348 [==============================] - 109s 81ms/step - loss: 2.3144 - sparse_categorical_accuracy: 0.2446 - accuracy: 0.2446 - val_loss: 2.4386 - val_sparse_categorical_accuracy: 0.2477 - val_accuracy: 0.2477\n",
      "Epoch 10/50\n",
      "1348/1348 [==============================] - 109s 81ms/step - loss: 2.2387 - sparse_categorical_accuracy: 0.2625 - accuracy: 0.2625 - val_loss: 2.3514 - val_sparse_categorical_accuracy: 0.2604 - val_accuracy: 0.2604\n",
      "Epoch 11/50\n",
      "1348/1348 [==============================] - 109s 81ms/step - loss: 2.1737 - sparse_categorical_accuracy: 0.2845 - accuracy: 0.2845 - val_loss: 2.4036 - val_sparse_categorical_accuracy: 0.2540 - val_accuracy: 0.2540\n",
      "Epoch 12/50\n",
      "1348/1348 [==============================] - 109s 81ms/step - loss: 2.1149 - sparse_categorical_accuracy: 0.3061 - accuracy: 0.3061 - val_loss: 2.3019 - val_sparse_categorical_accuracy: 0.2846 - val_accuracy: 0.2846\n",
      "Epoch 13/50\n",
      "1348/1348 [==============================] - 109s 81ms/step - loss: 2.0440 - sparse_categorical_accuracy: 0.3288 - accuracy: 0.3288 - val_loss: 2.3437 - val_sparse_categorical_accuracy: 0.3016 - val_accuracy: 0.3016\n",
      "Epoch 14/50\n",
      "1348/1348 [==============================] - 109s 81ms/step - loss: 1.9838 - sparse_categorical_accuracy: 0.3432 - accuracy: 0.3432 - val_loss: 2.2771 - val_sparse_categorical_accuracy: 0.3179 - val_accuracy: 0.3179\n",
      "Epoch 15/50\n",
      "1348/1348 [==============================] - 109s 81ms/step - loss: 1.9232 - sparse_categorical_accuracy: 0.3643 - accuracy: 0.3643 - val_loss: 2.2403 - val_sparse_categorical_accuracy: 0.3240 - val_accuracy: 0.3240\n",
      "Epoch 16/50\n",
      "1348/1348 [==============================] - 109s 81ms/step - loss: 1.8739 - sparse_categorical_accuracy: 0.3814 - accuracy: 0.3814 - val_loss: 2.3065 - val_sparse_categorical_accuracy: 0.3181 - val_accuracy: 0.3181\n",
      "Epoch 17/50\n",
      "1348/1348 [==============================] - 109s 81ms/step - loss: 1.8192 - sparse_categorical_accuracy: 0.3958 - accuracy: 0.3958 - val_loss: 2.2313 - val_sparse_categorical_accuracy: 0.3373 - val_accuracy: 0.3373\n",
      "Epoch 18/50\n",
      "1348/1348 [==============================] - 109s 81ms/step - loss: 1.7805 - sparse_categorical_accuracy: 0.4068 - accuracy: 0.4068 - val_loss: 2.1907 - val_sparse_categorical_accuracy: 0.3419 - val_accuracy: 0.3419\n",
      "Epoch 19/50\n",
      "1348/1348 [==============================] - 109s 81ms/step - loss: 1.7310 - sparse_categorical_accuracy: 0.4262 - accuracy: 0.4262 - val_loss: 2.3653 - val_sparse_categorical_accuracy: 0.2973 - val_accuracy: 0.2973\n",
      "Epoch 20/50\n",
      "1348/1348 [==============================] - 109s 81ms/step - loss: 1.6810 - sparse_categorical_accuracy: 0.4372 - accuracy: 0.4372 - val_loss: 2.2620 - val_sparse_categorical_accuracy: 0.3428 - val_accuracy: 0.3428\n",
      "Epoch 21/50\n",
      "1348/1348 [==============================] - 109s 81ms/step - loss: 1.6279 - sparse_categorical_accuracy: 0.4520 - accuracy: 0.4520 - val_loss: 2.3140 - val_sparse_categorical_accuracy: 0.3364 - val_accuracy: 0.3364\n",
      "Epoch 22/50\n",
      "1348/1348 [==============================] - 109s 81ms/step - loss: 1.6149 - sparse_categorical_accuracy: 0.4582 - accuracy: 0.4582 - val_loss: 2.5326 - val_sparse_categorical_accuracy: 0.3002 - val_accuracy: 0.3002\n",
      "Epoch 23/50\n",
      "1348/1348 [==============================] - 109s 81ms/step - loss: 1.5691 - sparse_categorical_accuracy: 0.4734 - accuracy: 0.4734 - val_loss: 2.3330 - val_sparse_categorical_accuracy: 0.3727 - val_accuracy: 0.3727\n",
      "Epoch 24/50\n",
      "1348/1348 [==============================] - 109s 81ms/step - loss: 1.5632 - sparse_categorical_accuracy: 0.4760 - accuracy: 0.4760 - val_loss: 2.3095 - val_sparse_categorical_accuracy: 0.3693 - val_accuracy: 0.3693\n",
      "Epoch 25/50\n",
      "1348/1348 [==============================] - 109s 81ms/step - loss: 1.5377 - sparse_categorical_accuracy: 0.4867 - accuracy: 0.4867 - val_loss: 2.2336 - val_sparse_categorical_accuracy: 0.3894 - val_accuracy: 0.3894\n",
      "Epoch 26/50\n",
      "1348/1348 [==============================] - 109s 81ms/step - loss: 1.4815 - sparse_categorical_accuracy: 0.5097 - accuracy: 0.5097 - val_loss: 2.5801 - val_sparse_categorical_accuracy: 0.3056 - val_accuracy: 0.3056\n",
      "Epoch 27/50\n",
      "1348/1348 [==============================] - 109s 81ms/step - loss: 1.4693 - sparse_categorical_accuracy: 0.5146 - accuracy: 0.5146 - val_loss: 2.3098 - val_sparse_categorical_accuracy: 0.3727 - val_accuracy: 0.3727\n",
      "Epoch 28/50\n",
      "1348/1348 [==============================] - 109s 81ms/step - loss: 1.4316 - sparse_categorical_accuracy: 0.5266 - accuracy: 0.5266 - val_loss: 2.3675 - val_sparse_categorical_accuracy: 0.3772 - val_accuracy: 0.3772\n",
      "Model: \"sequential\"\n",
      "_________________________________________________________________\n",
      " Layer (type)                Output Shape              Param #   \n",
      "=================================================================\n",
      " rescaling (Rescaling)       (None, 224, 224, 3)       0         \n",
      "                                                                 \n",
      " conv2d (Conv2D)             (None, 224, 224, 16)      1216      \n",
      "                                                                 \n",
      " conv2d_1 (Conv2D)           (None, 224, 224, 32)      8224      \n",
      "                                                                 \n",
      " conv2d_2 (Conv2D)           (None, 224, 224, 32)      16416     \n",
      "                                                                 \n",
      " max_pooling2d (MaxPooling2D  (None, 112, 112, 32)     0         \n",
      " )                                                               \n",
      "                                                                 \n",
      " conv2d_3 (Conv2D)           (None, 112, 112, 32)      16416     \n",
      "                                                                 \n",
      " max_pooling2d_1 (MaxPooling  (None, 56, 56, 32)       0         \n",
      " 2D)                                                             \n",
      "                                                                 \n",
      " conv2d_4 (Conv2D)           (None, 56, 56, 64)        18496     \n",
      "                                                                 \n",
      " max_pooling2d_2 (MaxPooling  (None, 28, 28, 64)       0         \n",
      " 2D)                                                             \n",
      "                                                                 \n",
      " flatten (Flatten)           (None, 50176)             0         \n",
      "                                                                 \n",
      " dense (Dense)               (None, 64)                3211328   \n",
      "                                                                 \n",
      " dropout (Dropout)           (None, 64)                0         \n",
      "                                                                 \n",
      " dense_1 (Dense)             (None, 64)                4160      \n",
      "                                                                 \n",
      " dense_2 (Dense)             (None, 64)                4160      \n",
      "                                                                 \n",
      " dense_3 (Dense)             (None, 32)                2080      \n",
      "                                                                 \n",
      " dense_4 (Dense)             (None, 32)                1056      \n",
      "                                                                 \n",
      " dense_5 (Dense)             (None, 16)                528       \n",
      "                                                                 \n",
      " dense_6 (Dense)             (None, 16)                272       \n",
      "                                                                 \n",
      " dense_7 (Dense)             (None, 16)                272       \n",
      "                                                                 \n",
      " dropout_1 (Dropout)         (None, 16)                0         \n",
      "                                                                 \n",
      " dense_8 (Dense)             (None, 8)                 136       \n",
      "                                                                 \n",
      " dense_9 (Dense)             (None, 45)                405       \n",
      "                                                                 \n",
      "=================================================================\n",
      "Total params: 3,285,165\n",
      "Trainable params: 3,285,165\n",
      "Non-trainable params: 0\n",
      "_________________________________________________________________\n",
      "INFO:tensorflow:Assets written to: ../../models/friday_model_on_45_no_aug/assets\n",
      "INFO:tensorflow:Assets written to: ram://b02e77a2-4246-4f32-89ea-89db0589bb1c/assets\n"
     ]
    },
    {
     "data": {
      "image/png": "[encoded data removed]",
      "text/plain": [
       "<Figure size 640x480 with 1 Axes>"
      ]
     },
     "metadata": {},
     "output_type": "display_data"
    }
   ],
   "source": [
    "model_name = \"friday_model_on_45_no_aug\"\n",
    "def run_and_save_model(model_name = \"\"):\n",
    "    \n",
    "    if not model_name:\n",
    "        return \"! You must give name.\"\n",
    "    \n",
    "    learning_rate=0.01 # #default 0.001\n",
    "    patience = 10\n",
    "    epochs = 50\n",
    "    \n",
    "    model = instantiate_model_thicc()\n",
    "    #model = instantiate_model_old()\n",
    "\n",
    "    model = compile_model(model, learning_rate)\n",
    "    \n",
    "    history, model = fit_model(model, patience, epochs)\n",
    "    model.summary()\n",
    "    \n",
    "    save_model(model, model_name)\n",
    "    \n",
    "    save_history(history, model_name)\n",
    "    \n",
    "    plot_learning_curve(history)\n",
    "    \n",
    "    return history, model\n",
    "    \n",
    "history, model = run_and_save_model()"
   ]
  },
  {
   "cell_type": "code",
   "execution_count": null,
   "id": "4387b869-fb33-44f3-bc72-0ac1c5d1c804",
   "metadata": {},
   "outputs": [],
   "source": []
  },
  {
   "cell_type": "code",
   "execution_count": null,
   "id": "fcbc3764-8cae-4191-a7b9-e92cc5e74ae6",
   "metadata": {},
   "outputs": [],
   "source": [
    "#shall be too big\n",
    "# def my_grid_search():\n",
    "    \n",
    "#     learning_rates = []\n",
    "#     epochs = []\n",
    "#     kernel_sizes = [] # 3,4,5 \n",
    "#     kernel_stride = []\n",
    "    \n",
    "    \n",
    "    "
   ]
  },
  {
   "cell_type": "markdown",
   "id": "2109802c-0dbf-43bc-942a-4f63e5f68229",
   "metadata": {},
   "source": [
    "## Getting y out"
   ]
  },
  {
   "cell_type": "code",
   "execution_count": null,
   "id": "c61fd69a-28e5-499b-84e7-7b3197dc0260",
   "metadata": {},
   "outputs": [],
   "source": [
    "#pull target out of tensorflow.dataset\n",
    "#can do train test or val (seems that test is batches of 1?)\n",
    "def get_y_from_X(X, batched=True):\n",
    "    \n",
    "    y_batched = []\n",
    "    y = []\n",
    "    \n",
    "    for batch_image, batch_label in X:\n",
    "        \n",
    "        if batched:\n",
    "            y_batched.append(batch_label.numpy())\n",
    "        else:\n",
    "            for image,label in zip(batch_image, batch_label):\n",
    "                y.append(label.numpy())\n",
    "     \n",
    "    if batched:\n",
    "        print(\"len y_batched\", len(y_batched) )\n",
    "        return y_batched\n",
    "    else:\n",
    "        print(\"len y\", len(y))\n",
    "        return y"
   ]
  },
  {
   "cell_type": "code",
   "execution_count": null,
   "id": "bffbc15a-be5d-4b2d-87d4-5867c8269637",
   "metadata": {},
   "outputs": [],
   "source": [
    "count=0\n",
    "\n",
    "for thing, label in X_test.take(1):\n",
    "    if count == 0:\n",
    "        print(label)\n",
    "    count += 1\n"
   ]
  },
  {
   "cell_type": "code",
   "execution_count": null,
   "id": "90fbc4d7-dedf-4cea-81f7-8d6afeffa7e0",
   "metadata": {},
   "outputs": [],
   "source": [
    "def get_y_test(X_test_in):\n",
    "    y_test = get_y_from_X(X_test_in, batched=False)\n",
    "    return y_test\n",
    "    \n",
    "def get_y_pred(X_test_in):\n",
    "    #gets array with probabilities\n",
    "    # if model_name != None:\n",
    "    #     print(f\"getting predictions from {model_name}\")\n",
    "    # else:\n",
    "    #     print(f\"getting predictions from unnamed (probably not saved) 'model'\")\n",
    "        \n",
    "    y_pred_0 = model.predict(X_test, verbose=1)\n",
    "    y_pred = []\n",
    "    \n",
    "    for pred in y_pred_0:\n",
    "        y_pred.append(pred.argmax())\n",
    "        \n",
    "    return y_pred\n"
   ]
  },
  {
   "cell_type": "code",
   "execution_count": null,
   "id": "f68ece55-5873-423a-8b98-125dc081f19b",
   "metadata": {},
   "outputs": [],
   "source": [
    "#get y_pred and y_true out of X_test, thanks to above funcs\n",
    "y_pred = get_y_pred(X_test)\n",
    "y_test = get_y_test(X_test)\n",
    "path_to_dataset = os.path.join(\"..\",\"..\",\"data\",\"food\")\n",
    "    \n",
    "#path_to_dataset = os.path.join(\"..\", \"..\", \"test_data\", \"2_whole_data_some_dups\")\n",
    "    \n",
    "path_to_dataset_train = os.path.join(path_to_dataset, \"train\")\n",
    "y_pred;"
   ]
  },
  {
   "cell_type": "code",
   "execution_count": null,
   "id": "33a9b6da-4cbc-4572-af43-85a6001a046a",
   "metadata": {},
   "outputs": [],
   "source": [
    "path_to_dataset = os.path.join(\"..\",\"..\",\"data\",\"food\")\n",
    "    \n",
    "path_to_dataset_train = os.path.join(path_to_dataset, \"train\")\n",
    "\n",
    "#path_to_dataset = os.path.join(\"..\", \"..\", \"test_data\", \"2_whole_data_some_dups\")\n",
    "    \n",
    "# if new_way:\n",
    "#     path_to_dataset_train = os.path.join(path_to_dataset, \"train\")\n",
    "#     path_to_dataset_test = os.path.join(path_to_dataset,  \"test\")\n",
    "#     path_to_dataset_val = os.path.join(path_to_dataset,   \"validation\")"
   ]
  },
  {
   "cell_type": "code",
   "execution_count": null,
   "id": "e5d06143-4d1e-4193-bf81-6de1a173410b",
   "metadata": {},
   "outputs": [],
   "source": [
    "def get_target_dict():\n",
    "    if new_way:\n",
    "        classes = os.listdir(path_to_dataset_train)\n",
    "    else:\n",
    "        classes = os.listdir(path_to_dataset)\n",
    "    classes.sort()\n",
    "    \n",
    "    target_dict_out = {}\n",
    "    for index, veg in enumerate(classes):\n",
    "        target_dict_out[index] = veg\n",
    "    \n",
    "    return target_dict_out\n",
    "target_dict = get_target_dict()\n",
    "target_dict"
   ]
  },
  {
   "cell_type": "code",
   "execution_count": null,
   "id": "d7e5f79c-ad63-47c1-9ac7-636280d86478",
   "metadata": {},
   "outputs": [],
   "source": [
    "#can be useful to have them just as list\n",
    "if new_way:\n",
    "    classes_list = os.listdir(path_to_dataset_train)\n",
    "else:\n",
    "    classes_list = os.listdir(path_to_dataset)\n",
    "classes_list.sort()\n",
    "classes_list\n",
    "classes_code = [i for i in range(len(classes_list))]\n",
    "classes_code;"
   ]
  },
  {
   "cell_type": "code",
   "execution_count": null,
   "id": "cfe3ab9a-f621-48c4-89f6-d6c6e206bd04",
   "metadata": {},
   "outputs": [],
   "source": [
    "import pandas as pd\n",
    "df = pd.DataFrame({\"y_pred\" : y_pred ,\"y_test\" : y_test})\n",
    "df"
   ]
  },
  {
   "cell_type": "markdown",
   "id": "f183ac54-e4c1-49a9-91d7-4f6ab9ac7759",
   "metadata": {},
   "source": [
    "## Looking at results"
   ]
  },
  {
   "cell_type": "code",
   "execution_count": null,
   "id": "7315659c-b256-4182-afb5-3fd0252f6464",
   "metadata": {},
   "outputs": [],
   "source": [
    "from sklearn.metrics import classification_report\n",
    "print(classification_report(y_test, y_pred, target_names=classes_list))"
   ]
  },
  {
   "cell_type": "markdown",
   "id": "0f7a62f8-6e60-4e8c-b5af-2eafb02805da",
   "metadata": {},
   "source": []
  },
  {
   "cell_type": "code",
   "execution_count": null,
   "id": "679efb0a-3ccf-4fba-a648-4120d3f6c03c",
   "metadata": {},
   "outputs": [],
   "source": [
    "from sklearn.metrics import confusion_matrix\n",
    "import seaborn as sns\n",
    "cm = confusion_matrix(y_test,y_pred, labels=classes_code , normalize='true') #true as in truth\n",
    "s = sns.heatmap(cm,xticklabels=classes_list, yticklabels=classes_list)\n",
    "s.set(ylabel=\"Actual\", xlabel=\"Prediction\");"
   ]
  },
  {
   "cell_type": "code",
   "execution_count": null,
   "id": "86b98fe2-e117-4c0b-b69a-24b572424233",
   "metadata": {},
   "outputs": [],
   "source": []
  },
  {
   "cell_type": "code",
   "execution_count": null,
   "id": "d8283fd7-1e6d-4fd8-80fa-a4741778c69d",
   "metadata": {},
   "outputs": [],
   "source": []
  },
  {
   "cell_type": "code",
   "execution_count": null,
   "id": "92861db2-8960-4479-b180-ced73f9fb8f7",
   "metadata": {},
   "outputs": [],
   "source": []
  },
  {
   "cell_type": "markdown",
   "id": "38efd648-35f5-4a3d-9a79-1fe07e225f53",
   "metadata": {},
   "source": [
    "# EXPERIMENTATION\n",
    "\n",
    "will move the good stuff above\n",
    "\n",
    "#idea \n",
    "create random prediction func that we can run and inspect incorrect predictions?"
   ]
  },
  {
   "cell_type": "code",
   "execution_count": null,
   "id": "0f7f7de0-910b-4eda-8a23-f00e5bad13f4",
   "metadata": {},
   "outputs": [],
   "source": []
  },
  {
   "cell_type": "code",
   "execution_count": null,
   "id": "db4b832b-4cb0-4f19-a1c4-e629eedbf009",
   "metadata": {},
   "outputs": [],
   "source": []
  },
  {
   "cell_type": "code",
   "execution_count": null,
   "id": "dff2ece6-7d45-4857-941c-1a79d7b7bae1",
   "metadata": {},
   "outputs": [],
   "source": [
    "from sklearn.metrics import classification_report"
   ]
  },
  {
   "cell_type": "code",
   "execution_count": null,
   "id": "63009fee-36ac-4d08-b290-b4a0c6d95282",
   "metadata": {},
   "outputs": [],
   "source": [
    "out = classification_report(y_test, y_pred, output_dict=True)\n",
    "#https://scikit-learn.org/stable/modules/generated/sklearn.metrics.classification_report.html\n",
    "#https://www.analyticsvidhya.com/blog/2021/06/confusion-matrix-for-multi-class-classification/\n",
    "#https://www.tensorflow.org/addons/api_docs/python/tfa/metrics/MultiLabelConfusionMatrix\n",
    "#out"
   ]
  },
  {
   "cell_type": "code",
   "execution_count": null,
   "id": "a206a576-e0a5-4a1b-9d60-0c42ebf5b835",
   "metadata": {},
   "outputs": [],
   "source": [
    "num_test = tf.data.experimental.cardinality(X_test)\n",
    "num_test.numpy()"
   ]
  },
  {
   "cell_type": "code",
   "execution_count": null,
   "id": "c6f5cb92-39f0-4884-896b-ca2ee2db69ae",
   "metadata": {},
   "outputs": [],
   "source": [
    "y_pred = model.predict(X_test, verbose=1)"
   ]
  },
  {
   "cell_type": "code",
   "execution_count": null,
   "id": "a2ab618d-2be8-43c8-a97c-27339a839fe4",
   "metadata": {},
   "outputs": [],
   "source": []
  },
  {
   "cell_type": "code",
   "execution_count": null,
   "id": "069935f5-9510-49fe-a281-ba617c162484",
   "metadata": {},
   "outputs": [],
   "source": [
    "num_test = tf.data.experimental.cardinality(X_test.take(1))\n",
    "num_test.numpy()"
   ]
  },
  {
   "cell_type": "code",
   "execution_count": null,
   "id": "51930e4b-04a7-4de9-b3d5-0be10b0cbb4f",
   "metadata": {},
   "outputs": [],
   "source": [
    "out = classification_report(y_true, y_pred, output_dict=True)"
   ]
  },
  {
   "cell_type": "code",
   "execution_count": null,
   "id": "b50db0fc-d349-49ee-b1cb-ad5f5a536a39",
   "metadata": {},
   "outputs": [],
   "source": [
    "from sklearn.metrics import confusion_matrix\n",
    "import pandas as pd\n",
    "import seaborn as sns\n",
    "cm = confusion_matrix(y_test,y_pred, labels=classes_code , normalize='true')\n",
    "\n",
    "# cm_df = pd.DataFrame(cm,\n",
    "#                      index = target_dict.values(), \n",
    "#                      columns = target_dict.values())\n",
    "\n",
    "sns.heatmap(cm,xticklabels=classes_list, yticklabels=classes_list)\n",
    "\n",
    "#https://scikit-learn.org/stable/modules/generated/sklearn.metrics.classification_report.html\n",
    "#https://www.analyticsvidhya.com/blog/2021/06/confusion-matrix-for-multi-class-classification/\n",
    "#https://www.tensorflow.org/addons/api_docs/python/tfa/metrics/MultiLabelConfusionMatrix"
   ]
  },
  {
   "cell_type": "code",
   "execution_count": null,
   "id": "e13326ed-3051-414c-a4d7-276c258e05af",
   "metadata": {},
   "outputs": [],
   "source": [
    "print(classification_report(y_true, y_pred, target_names=classes_list))"
   ]
  },
  {
   "cell_type": "code",
   "execution_count": null,
   "id": "069de0e6-1160-443e-bdc0-22f73207490a",
   "metadata": {},
   "outputs": [],
   "source": [
    "classes_list"
   ]
  },
  {
   "cell_type": "code",
   "execution_count": null,
   "id": "3f24b213-2474-49cd-9a51-3994ceeb6292",
   "metadata": {},
   "outputs": [],
   "source": [
    "out"
   ]
  },
  {
   "cell_type": "code",
   "execution_count": null,
   "id": "9ebddb5a-9176-4f94-9455-3486c51f9bab",
   "metadata": {},
   "outputs": [],
   "source": [
    "#out\n",
    "\n",
    "pred_comparison_limit = 10\n",
    "count=0\n",
    "for y_t, y_p in zip(y_true , y_pred):\n",
    "    print(f\"true: {y_t}  pred:{y_p}\")\n",
    "    count+=1\n",
    "    \n",
    "    if count > pred_comparison_limit:\n",
    "        break"
   ]
  },
  {
   "cell_type": "code",
   "execution_count": null,
   "id": "aee75638-3f48-4d3d-a532-fa45af8263a7",
   "metadata": {},
   "outputs": [],
   "source": []
  },
  {
   "cell_type": "code",
   "execution_count": null,
   "id": "7914857c-6833-4659-bc84-66fb52965ee9",
   "metadata": {},
   "outputs": [],
   "source": []
  },
  {
   "cell_type": "code",
   "execution_count": null,
   "id": "71a0d921-d916-42b7-8c2c-7fb9c80631da",
   "metadata": {},
   "outputs": [],
   "source": [
    "#get labels from folders, must be done in 2 lines...\n",
    "classes = os.listdir(path_to_dataset_train)\n",
    "classes.sort()"
   ]
  },
  {
   "cell_type": "code",
   "execution_count": null,
   "id": "602dbb05-ddc2-4b74-9bfa-cb302ad135a6",
   "metadata": {},
   "outputs": [],
   "source": [
    "target_dict = {}\n",
    "for index,classs in enumerate(classes):\n",
    "    target_dict[index] = classs\n",
    "    \n",
    "print(target_dict.values())"
   ]
  },
  {
   "cell_type": "code",
   "execution_count": null,
   "id": "905b106e-c749-44ba-aaa7-f960c846ffdc",
   "metadata": {},
   "outputs": [],
   "source": []
  },
  {
   "cell_type": "code",
   "execution_count": null,
   "id": "753c0fe2-b0b4-4054-8f85-03bedec08c2f",
   "metadata": {},
   "outputs": [],
   "source": [
    "path_to_dataset"
   ]
  },
  {
   "cell_type": "code",
   "execution_count": null,
   "id": "f7976652-1e6b-4463-9a83-801c4e79844d",
   "metadata": {},
   "outputs": [],
   "source": [
    "#get one image - I wish I knew a better way\n",
    "count = 0\n",
    "test_image, test_label = None, None\n",
    "for image, label in X_test.take(1):\n",
    "    if count == 0 :\n",
    "        test_image = image.numpy()\n",
    "        test_label = label.numpy()\n",
    "    count+=1\n",
    "    if count > 0: break\n",
    "#if you want to see an image\n",
    "print(test_label[0])\n",
    "plt.imshow(test_image[0]/255)"
   ]
  },
  {
   "cell_type": "code",
   "execution_count": null,
   "id": "fd006fdd-fd0f-4752-bcfe-d14b61864ae7",
   "metadata": {},
   "outputs": [],
   "source": []
  },
  {
   "cell_type": "code",
   "execution_count": null,
   "id": "201c4895-12f1-445d-82cb-febd2a58c00c",
   "metadata": {},
   "outputs": [],
   "source": []
  },
  {
   "cell_type": "code",
   "execution_count": null,
   "id": "097f1775-3138-4592-a590-a4598cb320f6",
   "metadata": {},
   "outputs": [],
   "source": [
    "model.evaluate(X_test, return_dict=True)"
   ]
  },
  {
   "cell_type": "code",
   "execution_count": null,
   "id": "58a373f7-94e9-43f5-a872-54a4fc9e8a91",
   "metadata": {},
   "outputs": [],
   "source": []
  },
  {
   "cell_type": "code",
   "execution_count": null,
   "id": "d0f1d546-d91e-4514-be5f-03fa37939dc3",
   "metadata": {},
   "outputs": [],
   "source": []
  },
  {
   "cell_type": "code",
   "execution_count": null,
   "id": "62cc4f25-7572-4598-8321-54d26dfbdf7a",
   "metadata": {},
   "outputs": [],
   "source": [
    "history.history;\n",
    "train_accuracy = history.history[\"sparse_categorical_accuracy\"]\n",
    "val_accuracy = history.history[\"val_sparse_categorical_accuracy\"]\n",
    "\n",
    "plt.plot(train_accuracy, label=\"train\")\n",
    "plt.plot(val_accuracy,label=\"val\")\n",
    "plt.legend()"
   ]
  },
  {
   "cell_type": "code",
   "execution_count": null,
   "id": "63e8e2ce-60b0-4351-bcb3-2b5c177bf2cf",
   "metadata": {},
   "outputs": [],
   "source": [
    "def get_target_dict():\n",
    "    if new_way:\n",
    "        classes = os.listdir(path_to_dataset_train)\n",
    "    else:\n",
    "        classes = os.listdir(path_to_dataset)\n",
    "    classes.sort()\n",
    "    \n",
    "    target_dict_out = {}\n",
    "    for index, veg in enumerate(classes):\n",
    "        target_dict_out[index] = veg\n",
    "    \n",
    "    return target_dict_out\n",
    "target_dict = get_target_dict()\n",
    "target_dict\n",
    "\n"
   ]
  },
  {
   "cell_type": "code",
   "execution_count": null,
   "id": "04f175af-d05c-4115-a71d-c139e655d8a3",
   "metadata": {},
   "outputs": [],
   "source": [
    "import pandas as pd\n",
    "df = pd.DataFrame({\"y_pred\" : y_pred ,\"y_test\" : y_test})\n",
    "df\n",
    "#plot some incorrect guesses\n",
    "\n",
    "#look through y_true and y_pred and save indexes + correct incorrect\n",
    "\n",
    "#make df of index, class word, class enum (y_test) , y_pred (word), y_pred \n",
    "\n",
    "def get_word_from_encode(list_in):\n",
    "    list_out = []\n",
    "    translator_dict = get_target_dict()\n",
    "    \n",
    "    for code in list_in:\n",
    "        list_out.append(translator_dict[code])\n",
    "    \n",
    "    return list_out\n",
    "\n",
    "#y_pred_word = get_word_from_encode(y_pred)\n",
    "#y_test_word = get_word_from_encode(y_test)\n",
    "\n"
   ]
  }
 ],
 "metadata": {
  "environment": {
   "kernel": "python3",
   "name": "tf2-gpu.2-8.m103",
   "type": "gcloud",
   "uri": "gcr.io/deeplearning-platform-release/tf2-gpu.2-8:m103"
  },
  "kernelspec": {
   "display_name": "Python 3 (ipykernel)",
   "language": "python",
   "name": "python3"
  },
  "language_info": {
   "codemirror_mode": {
    "name": "ipython",
    "version": 3
   },
   "file_extension": ".py",
   "mimetype": "text/x-python",
   "name": "python",
   "nbconvert_exporter": "python",
   "pygments_lexer": "ipython3",
   "version": "3.7.12"
  }
 },
 "nbformat": 4,
 "nbformat_minor": 5
}
